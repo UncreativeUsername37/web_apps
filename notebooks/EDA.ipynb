{
 "cells": [
  {
   "attachments": {},
   "cell_type": "markdown",
   "metadata": {},
   "source": [
    "# What accommodations best prevent suicide?\n",
    "The dataset contains age-standardised suicide rates from 2015 and 2016 by country and year, as well as counts for resources and people, such as mental health units in hospitals, outpatient facilities, and psychiatrists working in the sector. So age is done and this project's job is to adjust for everything else, so to speak. This is focussed on 2016 for being the more recent year and having far fewer missing figures.\n",
    "\n",
    "There will of course be plenty of other factors not in the dataset, such as income levels and (in terms of comparing countries' *reported* numbers, at least) how much suicide is stigmatised, so 1) a country's rate being high or low for its region is as relevant as a comparison to the world average, 2) this is almost entirely about things like numbers of facilities rather than regional effects anyway, and 3) remember this is just about the factors presented, not a complete picture.\n",
    "\n",
    "Warning: I will treat this subject with levity because I'm sad."
   ]
  },
  {
   "cell_type": "code",
   "execution_count": 1,
   "metadata": {},
   "outputs": [],
   "source": [
    "import pandas as pd\n",
    "import plotly.express as px"
   ]
  },
  {
   "cell_type": "code",
   "execution_count": 2,
   "metadata": {},
   "outputs": [],
   "source": [
    "df = pd.read_csv(\"suicide_dataset-11.csv\")\n",
    "df = df.replace({'Yes': True, 'No': False})\n",
    "df2015 = df[df[\"year\"] == 2015]\n",
    "df2016 = df[df[\"year\"] == 2016]"
   ]
  },
  {
   "attachments": {},
   "cell_type": "markdown",
   "metadata": {},
   "source": [
    "I cleaned the data in a spreadsheet program before I put it in here, but let's not let our fallible human eyes do all the checking."
   ]
  },
  {
   "cell_type": "code",
   "execution_count": 3,
   "metadata": {},
   "outputs": [
    {
     "data": {
      "text/plain": [
       "0"
      ]
     },
     "execution_count": 3,
     "metadata": {},
     "output_type": "execute_result"
    }
   ],
   "source": [
    "df.duplicated().sum()"
   ]
  },
  {
   "cell_type": "code",
   "execution_count": 4,
   "metadata": {},
   "outputs": [
    {
     "name": "stdout",
     "output_type": "stream",
     "text": [
      "<class 'pandas.core.frame.DataFrame'>\n",
      "Int64Index: 549 entries, 0 to 548\n",
      "Data columns (total 22 columns):\n",
      " #   Column                             Non-Null Count  Dtype  \n",
      "---  ------                             --------------  -----  \n",
      " 0   country                            549 non-null    object \n",
      " 1   iso                                549 non-null    object \n",
      " 2   sex                                549 non-null    object \n",
      " 3   year                               549 non-null    int64  \n",
      " 4   suicide_rate                       549 non-null    float64\n",
      " 5   mental_hospitals_per_100k          60 non-null     float64\n",
      " 6   general_h_units_per_100k           51 non-null     float64\n",
      " 7   outpatient_facilities_per_100k     51 non-null     float64\n",
      " 8   day_treatment_facilities_per_100k  30 non-null     float64\n",
      " 9   comres_facilities_per_100k         36 non-null     float64\n",
      " 10  psychiatrists_per_100k             54 non-null     float64\n",
      " 11  nurses_per_100k                    48 non-null     float64\n",
      " 12  social_workers_per_100k            36 non-null     float64\n",
      " 13  psychologists_per_100k             39 non-null     float64\n",
      " 14  hospital_budget_pct                39 non-null     float64\n",
      " 15  standalone_law                     69 non-null     object \n",
      " 16  standalone_law_year                42 non-null     float64\n",
      " 17  standalone_policy                  69 non-null     object \n",
      " 18  standalone_policy_year             57 non-null     float64\n",
      " 19  comres_beds_per_100k               27 non-null     float64\n",
      " 20  mental_h_beds_per_100k             60 non-null     float64\n",
      " 21  general_h_beds_per_100k            48 non-null     float64\n",
      "dtypes: float64(16), int64(1), object(5)\n",
      "memory usage: 98.6+ KB\n"
     ]
    }
   ],
   "source": [
    "df2015.info()"
   ]
  },
  {
   "cell_type": "code",
   "execution_count": 5,
   "metadata": {},
   "outputs": [
    {
     "name": "stdout",
     "output_type": "stream",
     "text": [
      "<class 'pandas.core.frame.DataFrame'>\n",
      "Int64Index: 549 entries, 549 to 1097\n",
      "Data columns (total 22 columns):\n",
      " #   Column                             Non-Null Count  Dtype  \n",
      "---  ------                             --------------  -----  \n",
      " 0   country                            549 non-null    object \n",
      " 1   iso                                549 non-null    object \n",
      " 2   sex                                549 non-null    object \n",
      " 3   year                               549 non-null    int64  \n",
      " 4   suicide_rate                       549 non-null    float64\n",
      " 5   mental_hospitals_per_100k          270 non-null    float64\n",
      " 6   general_h_units_per_100k           303 non-null    float64\n",
      " 7   outpatient_facilities_per_100k     291 non-null    float64\n",
      " 8   day_treatment_facilities_per_100k  147 non-null    float64\n",
      " 9   comres_facilities_per_100k         132 non-null    float64\n",
      " 10  psychiatrists_per_100k             306 non-null    float64\n",
      " 11  nurses_per_100k                    264 non-null    float64\n",
      " 12  social_workers_per_100k            198 non-null    float64\n",
      " 13  psychologists_per_100k             246 non-null    float64\n",
      " 14  hospital_budget_pct                162 non-null    float64\n",
      " 15  standalone_law                     339 non-null    object \n",
      " 16  standalone_law_year                207 non-null    float64\n",
      " 17  standalone_policy                  336 non-null    object \n",
      " 18  standalone_policy_year             270 non-null    float64\n",
      " 19  comres_beds_per_100k               117 non-null    float64\n",
      " 20  mental_h_beds_per_100k             264 non-null    float64\n",
      " 21  general_h_beds_per_100k            288 non-null    float64\n",
      "dtypes: float64(16), int64(1), object(5)\n",
      "memory usage: 98.6+ KB\n"
     ]
    }
   ],
   "source": [
    "df2016.info()"
   ]
  },
  {
   "attachments": {},
   "cell_type": "markdown",
   "metadata": {},
   "source": [
    "Nice. And you can see what I mean with 2016 having more to work with. There were a few other years that were even more uselessly empty and I got rid of them beforehand, but 2015 at least deserved to be counted properly."
   ]
  },
  {
   "cell_type": "code",
   "execution_count": 6,
   "metadata": {},
   "outputs": [],
   "source": [
    "# From here on, no extra letter shall be combined statistics and -g shall be separated by gender. That's the easiest way for me to remember things.\n",
    "df2015g = df2015[df2015[\"sex\"] != \"Both\"]\n",
    "df2015 = df2015[df2015[\"sex\"] == \"Both\"]\n",
    "df2016g = df2016[df2016[\"sex\"] != \"Both\"]\n",
    "df2016 = df2016[df2016[\"sex\"] == \"Both\"]"
   ]
  },
  {
   "attachments": {},
   "cell_type": "markdown",
   "metadata": {},
   "source": [
    "Here are the rates by country for 2016 (and the 2015 numbers aren't much different):"
   ]
  },
  {
   "cell_type": "code",
   "execution_count": 7,
   "metadata": {},
   "outputs": [
    {
     "data": {
      "application/vnd.plotly.v1+json": {
       "config": {
        "plotlyServerURL": "https://plot.ly"
       },
       "data": [
        {
         "coloraxis": "coloraxis",
         "geo": "geo",
         "hovertemplate": "iso=%{location}<br>suicide_rate=%{z}<extra></extra>",
         "locations": [
          "AFG",
          "AGO",
          "ALB",
          "ARE",
          "ARG",
          "ARM",
          "ATG",
          "AUS",
          "AUT",
          "AZE",
          "BDI",
          "BEL",
          "BEN",
          "BFA",
          "BGD",
          "BGR",
          "BHR",
          "BHS",
          "BIH",
          "BLR",
          "BLZ",
          "BOL",
          "BRA",
          "BRB",
          "BRN",
          "BTN",
          "BWA",
          "CAF",
          "CAN",
          "CHE",
          "CHL",
          "CHN",
          "CIV",
          "CMR",
          "COD",
          "COG",
          "COL",
          "COM",
          "CPV",
          "CRI",
          "CUB",
          "CYP",
          "CZE",
          "DEU",
          "DJI",
          "DNK",
          "DOM",
          "DZA",
          "ECU",
          "EGY",
          "ERI",
          "ESP",
          "EST",
          "ETH",
          "FIN",
          "FJI",
          "FRA",
          "FSM",
          "GAB",
          "GBR",
          "GEO",
          "GHA",
          "GIN",
          "GMB",
          "GNB",
          "GNQ",
          "GRC",
          "GRD",
          "GTM",
          "GUY",
          "HND",
          "HRV",
          "HTI",
          "HUN",
          "IDN",
          "IND",
          "IRL",
          "IRN",
          "IRQ",
          "ISL",
          "ISR",
          "ITA",
          "JAM",
          "JOR",
          "JPN",
          "KAZ",
          "KEN",
          "KGZ",
          "KHM",
          "KIR",
          "KOR",
          "KWT",
          "LAO",
          "LBN",
          "LBR",
          "LBY",
          "LCA",
          "LKA",
          "LSO",
          "LTU",
          "LUX",
          "LVA",
          "MAR",
          "MDA",
          "MDG",
          "MDV",
          "MEX",
          "MKD",
          "MLI",
          "MLT",
          "MMR",
          "MNE",
          "MNG",
          "MOZ",
          "MRT",
          "MUS",
          "MWI",
          "MYS",
          "NAM",
          "NER",
          "NGA",
          "NIC",
          "NLD",
          "NOR",
          "NPL",
          "NZL",
          "OMN",
          "PAK",
          "PAN",
          "PER",
          "PHL",
          "PNG",
          "POL",
          "PRK",
          "PRT",
          "PRY",
          "QAT",
          "ROU",
          "RUS",
          "RWA",
          "SAU",
          "SDN",
          "SEN",
          "SGP",
          "SLB",
          "SLE",
          "SLV",
          "SOM",
          "SRB",
          "SSD",
          "STP",
          "SUR",
          "SVK",
          "SVN",
          "SWE",
          "SWZ",
          "SYC",
          "SYR",
          "TCD",
          "TGO",
          "THA",
          "TJK",
          "TKM",
          "TLS",
          "TON",
          "TTO",
          "TUN",
          "TUR",
          "TZA",
          "UGA",
          "UKR",
          "URY",
          "USA",
          "UZB",
          "VCT",
          "VEN",
          "VNM",
          "VUT",
          "WSM",
          "YEM",
          "ZAF",
          "ZMB",
          "ZWE"
         ],
         "name": "",
         "type": "choropleth",
         "z": [
          6.4,
          8.9,
          5.6,
          2.7,
          9.1,
          5.7,
          0.5,
          11.7,
          11.4,
          2.6,
          15,
          15.7,
          15.7,
          14.8,
          6.1,
          7.9,
          5.7,
          1.6,
          6.4,
          21.4,
          5.9,
          12.9,
          6.1,
          0.4,
          4.5,
          11.6,
          11.5,
          11.6,
          10.4,
          11.3,
          9.7,
          8,
          23,
          19.5,
          9.7,
          9.3,
          7,
          11.1,
          15.1,
          7.5,
          10.1,
          4.5,
          10.5,
          9.1,
          8.5,
          9.2,
          10.5,
          3.3,
          7.2,
          4.4,
          13.8,
          6.1,
          14.4,
          11.4,
          13.8,
          5.5,
          12.1,
          11.3,
          9.6,
          7.6,
          6.7,
          8.7,
          10.5,
          10,
          7.4,
          22,
          3.8,
          1.7,
          2.9,
          30.2,
          3.4,
          11.5,
          12.2,
          13.6,
          3.7,
          16.5,
          10.9,
          4,
          4.1,
          13.3,
          5.2,
          5.5,
          2,
          3.7,
          14.3,
          22.8,
          5.6,
          9.1,
          5.9,
          15.2,
          20.2,
          2.2,
          9.3,
          3.2,
          13.4,
          5.5,
          7.3,
          14.2,
          28.9,
          25.7,
          10.4,
          17.2,
          3.1,
          13.4,
          6.9,
          2.7,
          5.2,
          6.2,
          8.9,
          6.5,
          8.1,
          7.9,
          13.3,
          8.4,
          7.5,
          7.3,
          7.8,
          6.2,
          11.5,
          9,
          17.3,
          11.9,
          9.6,
          10.1,
          9.6,
          11.6,
          3.5,
          3.1,
          4.4,
          5.1,
          3.7,
          7,
          13.4,
          10.6,
          8.6,
          9.3,
          5.8,
          8,
          26.5,
          11,
          3.4,
          9.5,
          11.8,
          7.9,
          5.9,
          16.1,
          13.5,
          8.3,
          10.9,
          6.1,
          3.1,
          23.2,
          10.1,
          13.3,
          11.7,
          16.7,
          8.3,
          2.4,
          15.5,
          16.6,
          12.9,
          3.3,
          7.2,
          6.4,
          4,
          12.9,
          3.2,
          7.2,
          9.6,
          20,
          18.5,
          16.5,
          13.7,
          7.4,
          2.4,
          3.8,
          7,
          5.4,
          5.4,
          9.8,
          12.8,
          11.3,
          19.1
         ]
        }
       ],
       "layout": {
        "coloraxis": {
         "colorbar": {
          "title": {
           "text": "suicide_rate"
          }
         },
         "colorscale": [
          [
           0,
           "rgb(0,0,255)"
          ],
          [
           1,
           "rgb(255,0,0)"
          ]
         ]
        },
        "geo": {
         "center": {},
         "domain": {
          "x": [
           0,
           1
          ],
          "y": [
           0,
           1
          ]
         },
         "projection": {
          "type": "winkel tripel"
         }
        },
        "legend": {
         "tracegroupgap": 0
        },
        "margin": {
         "t": 60
        },
        "template": {
         "data": {
          "bar": [
           {
            "error_x": {
             "color": "#2a3f5f"
            },
            "error_y": {
             "color": "#2a3f5f"
            },
            "marker": {
             "line": {
              "color": "#E5ECF6",
              "width": 0.5
             },
             "pattern": {
              "fillmode": "overlay",
              "size": 10,
              "solidity": 0.2
             }
            },
            "type": "bar"
           }
          ],
          "barpolar": [
           {
            "marker": {
             "line": {
              "color": "#E5ECF6",
              "width": 0.5
             },
             "pattern": {
              "fillmode": "overlay",
              "size": 10,
              "solidity": 0.2
             }
            },
            "type": "barpolar"
           }
          ],
          "carpet": [
           {
            "aaxis": {
             "endlinecolor": "#2a3f5f",
             "gridcolor": "white",
             "linecolor": "white",
             "minorgridcolor": "white",
             "startlinecolor": "#2a3f5f"
            },
            "baxis": {
             "endlinecolor": "#2a3f5f",
             "gridcolor": "white",
             "linecolor": "white",
             "minorgridcolor": "white",
             "startlinecolor": "#2a3f5f"
            },
            "type": "carpet"
           }
          ],
          "choropleth": [
           {
            "colorbar": {
             "outlinewidth": 0,
             "ticks": ""
            },
            "type": "choropleth"
           }
          ],
          "contour": [
           {
            "colorbar": {
             "outlinewidth": 0,
             "ticks": ""
            },
            "colorscale": [
             [
              0,
              "#0d0887"
             ],
             [
              0.1111111111111111,
              "#46039f"
             ],
             [
              0.2222222222222222,
              "#7201a8"
             ],
             [
              0.3333333333333333,
              "#9c179e"
             ],
             [
              0.4444444444444444,
              "#bd3786"
             ],
             [
              0.5555555555555556,
              "#d8576b"
             ],
             [
              0.6666666666666666,
              "#ed7953"
             ],
             [
              0.7777777777777778,
              "#fb9f3a"
             ],
             [
              0.8888888888888888,
              "#fdca26"
             ],
             [
              1,
              "#f0f921"
             ]
            ],
            "type": "contour"
           }
          ],
          "contourcarpet": [
           {
            "colorbar": {
             "outlinewidth": 0,
             "ticks": ""
            },
            "type": "contourcarpet"
           }
          ],
          "heatmap": [
           {
            "colorbar": {
             "outlinewidth": 0,
             "ticks": ""
            },
            "colorscale": [
             [
              0,
              "#0d0887"
             ],
             [
              0.1111111111111111,
              "#46039f"
             ],
             [
              0.2222222222222222,
              "#7201a8"
             ],
             [
              0.3333333333333333,
              "#9c179e"
             ],
             [
              0.4444444444444444,
              "#bd3786"
             ],
             [
              0.5555555555555556,
              "#d8576b"
             ],
             [
              0.6666666666666666,
              "#ed7953"
             ],
             [
              0.7777777777777778,
              "#fb9f3a"
             ],
             [
              0.8888888888888888,
              "#fdca26"
             ],
             [
              1,
              "#f0f921"
             ]
            ],
            "type": "heatmap"
           }
          ],
          "heatmapgl": [
           {
            "colorbar": {
             "outlinewidth": 0,
             "ticks": ""
            },
            "colorscale": [
             [
              0,
              "#0d0887"
             ],
             [
              0.1111111111111111,
              "#46039f"
             ],
             [
              0.2222222222222222,
              "#7201a8"
             ],
             [
              0.3333333333333333,
              "#9c179e"
             ],
             [
              0.4444444444444444,
              "#bd3786"
             ],
             [
              0.5555555555555556,
              "#d8576b"
             ],
             [
              0.6666666666666666,
              "#ed7953"
             ],
             [
              0.7777777777777778,
              "#fb9f3a"
             ],
             [
              0.8888888888888888,
              "#fdca26"
             ],
             [
              1,
              "#f0f921"
             ]
            ],
            "type": "heatmapgl"
           }
          ],
          "histogram": [
           {
            "marker": {
             "pattern": {
              "fillmode": "overlay",
              "size": 10,
              "solidity": 0.2
             }
            },
            "type": "histogram"
           }
          ],
          "histogram2d": [
           {
            "colorbar": {
             "outlinewidth": 0,
             "ticks": ""
            },
            "colorscale": [
             [
              0,
              "#0d0887"
             ],
             [
              0.1111111111111111,
              "#46039f"
             ],
             [
              0.2222222222222222,
              "#7201a8"
             ],
             [
              0.3333333333333333,
              "#9c179e"
             ],
             [
              0.4444444444444444,
              "#bd3786"
             ],
             [
              0.5555555555555556,
              "#d8576b"
             ],
             [
              0.6666666666666666,
              "#ed7953"
             ],
             [
              0.7777777777777778,
              "#fb9f3a"
             ],
             [
              0.8888888888888888,
              "#fdca26"
             ],
             [
              1,
              "#f0f921"
             ]
            ],
            "type": "histogram2d"
           }
          ],
          "histogram2dcontour": [
           {
            "colorbar": {
             "outlinewidth": 0,
             "ticks": ""
            },
            "colorscale": [
             [
              0,
              "#0d0887"
             ],
             [
              0.1111111111111111,
              "#46039f"
             ],
             [
              0.2222222222222222,
              "#7201a8"
             ],
             [
              0.3333333333333333,
              "#9c179e"
             ],
             [
              0.4444444444444444,
              "#bd3786"
             ],
             [
              0.5555555555555556,
              "#d8576b"
             ],
             [
              0.6666666666666666,
              "#ed7953"
             ],
             [
              0.7777777777777778,
              "#fb9f3a"
             ],
             [
              0.8888888888888888,
              "#fdca26"
             ],
             [
              1,
              "#f0f921"
             ]
            ],
            "type": "histogram2dcontour"
           }
          ],
          "mesh3d": [
           {
            "colorbar": {
             "outlinewidth": 0,
             "ticks": ""
            },
            "type": "mesh3d"
           }
          ],
          "parcoords": [
           {
            "line": {
             "colorbar": {
              "outlinewidth": 0,
              "ticks": ""
             }
            },
            "type": "parcoords"
           }
          ],
          "pie": [
           {
            "automargin": true,
            "type": "pie"
           }
          ],
          "scatter": [
           {
            "fillpattern": {
             "fillmode": "overlay",
             "size": 10,
             "solidity": 0.2
            },
            "type": "scatter"
           }
          ],
          "scatter3d": [
           {
            "line": {
             "colorbar": {
              "outlinewidth": 0,
              "ticks": ""
             }
            },
            "marker": {
             "colorbar": {
              "outlinewidth": 0,
              "ticks": ""
             }
            },
            "type": "scatter3d"
           }
          ],
          "scattercarpet": [
           {
            "marker": {
             "colorbar": {
              "outlinewidth": 0,
              "ticks": ""
             }
            },
            "type": "scattercarpet"
           }
          ],
          "scattergeo": [
           {
            "marker": {
             "colorbar": {
              "outlinewidth": 0,
              "ticks": ""
             }
            },
            "type": "scattergeo"
           }
          ],
          "scattergl": [
           {
            "marker": {
             "colorbar": {
              "outlinewidth": 0,
              "ticks": ""
             }
            },
            "type": "scattergl"
           }
          ],
          "scattermapbox": [
           {
            "marker": {
             "colorbar": {
              "outlinewidth": 0,
              "ticks": ""
             }
            },
            "type": "scattermapbox"
           }
          ],
          "scatterpolar": [
           {
            "marker": {
             "colorbar": {
              "outlinewidth": 0,
              "ticks": ""
             }
            },
            "type": "scatterpolar"
           }
          ],
          "scatterpolargl": [
           {
            "marker": {
             "colorbar": {
              "outlinewidth": 0,
              "ticks": ""
             }
            },
            "type": "scatterpolargl"
           }
          ],
          "scatterternary": [
           {
            "marker": {
             "colorbar": {
              "outlinewidth": 0,
              "ticks": ""
             }
            },
            "type": "scatterternary"
           }
          ],
          "surface": [
           {
            "colorbar": {
             "outlinewidth": 0,
             "ticks": ""
            },
            "colorscale": [
             [
              0,
              "#0d0887"
             ],
             [
              0.1111111111111111,
              "#46039f"
             ],
             [
              0.2222222222222222,
              "#7201a8"
             ],
             [
              0.3333333333333333,
              "#9c179e"
             ],
             [
              0.4444444444444444,
              "#bd3786"
             ],
             [
              0.5555555555555556,
              "#d8576b"
             ],
             [
              0.6666666666666666,
              "#ed7953"
             ],
             [
              0.7777777777777778,
              "#fb9f3a"
             ],
             [
              0.8888888888888888,
              "#fdca26"
             ],
             [
              1,
              "#f0f921"
             ]
            ],
            "type": "surface"
           }
          ],
          "table": [
           {
            "cells": {
             "fill": {
              "color": "#EBF0F8"
             },
             "line": {
              "color": "white"
             }
            },
            "header": {
             "fill": {
              "color": "#C8D4E3"
             },
             "line": {
              "color": "white"
             }
            },
            "type": "table"
           }
          ]
         },
         "layout": {
          "annotationdefaults": {
           "arrowcolor": "#2a3f5f",
           "arrowhead": 0,
           "arrowwidth": 1
          },
          "autotypenumbers": "strict",
          "coloraxis": {
           "colorbar": {
            "outlinewidth": 0,
            "ticks": ""
           }
          },
          "colorscale": {
           "diverging": [
            [
             0,
             "#8e0152"
            ],
            [
             0.1,
             "#c51b7d"
            ],
            [
             0.2,
             "#de77ae"
            ],
            [
             0.3,
             "#f1b6da"
            ],
            [
             0.4,
             "#fde0ef"
            ],
            [
             0.5,
             "#f7f7f7"
            ],
            [
             0.6,
             "#e6f5d0"
            ],
            [
             0.7,
             "#b8e186"
            ],
            [
             0.8,
             "#7fbc41"
            ],
            [
             0.9,
             "#4d9221"
            ],
            [
             1,
             "#276419"
            ]
           ],
           "sequential": [
            [
             0,
             "#0d0887"
            ],
            [
             0.1111111111111111,
             "#46039f"
            ],
            [
             0.2222222222222222,
             "#7201a8"
            ],
            [
             0.3333333333333333,
             "#9c179e"
            ],
            [
             0.4444444444444444,
             "#bd3786"
            ],
            [
             0.5555555555555556,
             "#d8576b"
            ],
            [
             0.6666666666666666,
             "#ed7953"
            ],
            [
             0.7777777777777778,
             "#fb9f3a"
            ],
            [
             0.8888888888888888,
             "#fdca26"
            ],
            [
             1,
             "#f0f921"
            ]
           ],
           "sequentialminus": [
            [
             0,
             "#0d0887"
            ],
            [
             0.1111111111111111,
             "#46039f"
            ],
            [
             0.2222222222222222,
             "#7201a8"
            ],
            [
             0.3333333333333333,
             "#9c179e"
            ],
            [
             0.4444444444444444,
             "#bd3786"
            ],
            [
             0.5555555555555556,
             "#d8576b"
            ],
            [
             0.6666666666666666,
             "#ed7953"
            ],
            [
             0.7777777777777778,
             "#fb9f3a"
            ],
            [
             0.8888888888888888,
             "#fdca26"
            ],
            [
             1,
             "#f0f921"
            ]
           ]
          },
          "colorway": [
           "#636efa",
           "#EF553B",
           "#00cc96",
           "#ab63fa",
           "#FFA15A",
           "#19d3f3",
           "#FF6692",
           "#B6E880",
           "#FF97FF",
           "#FECB52"
          ],
          "font": {
           "color": "#2a3f5f"
          },
          "geo": {
           "bgcolor": "white",
           "lakecolor": "white",
           "landcolor": "#E5ECF6",
           "showlakes": true,
           "showland": true,
           "subunitcolor": "white"
          },
          "hoverlabel": {
           "align": "left"
          },
          "hovermode": "closest",
          "mapbox": {
           "style": "light"
          },
          "paper_bgcolor": "white",
          "plot_bgcolor": "#E5ECF6",
          "polar": {
           "angularaxis": {
            "gridcolor": "white",
            "linecolor": "white",
            "ticks": ""
           },
           "bgcolor": "#E5ECF6",
           "radialaxis": {
            "gridcolor": "white",
            "linecolor": "white",
            "ticks": ""
           }
          },
          "scene": {
           "xaxis": {
            "backgroundcolor": "#E5ECF6",
            "gridcolor": "white",
            "gridwidth": 2,
            "linecolor": "white",
            "showbackground": true,
            "ticks": "",
            "zerolinecolor": "white"
           },
           "yaxis": {
            "backgroundcolor": "#E5ECF6",
            "gridcolor": "white",
            "gridwidth": 2,
            "linecolor": "white",
            "showbackground": true,
            "ticks": "",
            "zerolinecolor": "white"
           },
           "zaxis": {
            "backgroundcolor": "#E5ECF6",
            "gridcolor": "white",
            "gridwidth": 2,
            "linecolor": "white",
            "showbackground": true,
            "ticks": "",
            "zerolinecolor": "white"
           }
          },
          "shapedefaults": {
           "line": {
            "color": "#2a3f5f"
           }
          },
          "ternary": {
           "aaxis": {
            "gridcolor": "white",
            "linecolor": "white",
            "ticks": ""
           },
           "baxis": {
            "gridcolor": "white",
            "linecolor": "white",
            "ticks": ""
           },
           "bgcolor": "#E5ECF6",
           "caxis": {
            "gridcolor": "white",
            "linecolor": "white",
            "ticks": ""
           }
          },
          "title": {
           "x": 0.05
          },
          "xaxis": {
           "automargin": true,
           "gridcolor": "white",
           "linecolor": "white",
           "ticks": "",
           "title": {
            "standoff": 15
           },
           "zerolinecolor": "white",
           "zerolinewidth": 2
          },
          "yaxis": {
           "automargin": true,
           "gridcolor": "white",
           "linecolor": "white",
           "ticks": "",
           "title": {
            "standoff": 15
           },
           "zerolinecolor": "white",
           "zerolinewidth": 2
          }
         }
        }
       }
      }
     },
     "metadata": {},
     "output_type": "display_data"
    }
   ],
   "source": [
    "fig = px.choropleth(df2016, projection=\"winkel tripel\", locations=\"iso\", color=\"suicide_rate\", color_continuous_scale=px.colors.sequential.Bluered)\n",
    "fig.show()"
   ]
  },
  {
   "attachments": {},
   "cell_type": "markdown",
   "metadata": {},
   "source": [
    "If it looks like there are more countries with lower rates, it's because there are. Here's a breakdown for 2016:"
   ]
  },
  {
   "cell_type": "code",
   "execution_count": 8,
   "metadata": {},
   "outputs": [
    {
     "data": {
      "application/vnd.plotly.v1+json": {
       "config": {
        "plotlyServerURL": "https://plot.ly"
       },
       "data": [
        {
         "alignmentgroup": "True",
         "bingroup": "x",
         "hovertemplate": "suicide_rate=%{x}<br>count=%{y}<extra></extra>",
         "legendgroup": "",
         "marker": {
          "color": "#636efa",
          "pattern": {
           "shape": ""
          }
         },
         "name": "",
         "offsetgroup": "",
         "orientation": "v",
         "showlegend": false,
         "type": "histogram",
         "x": [
          6.4,
          8.9,
          5.6,
          2.7,
          9.1,
          5.7,
          0.5,
          11.7,
          11.4,
          2.6,
          15,
          15.7,
          15.7,
          14.8,
          6.1,
          7.9,
          5.7,
          1.6,
          6.4,
          21.4,
          5.9,
          12.9,
          6.1,
          0.4,
          4.5,
          11.6,
          11.5,
          11.6,
          10.4,
          11.3,
          9.7,
          8,
          23,
          19.5,
          9.7,
          9.3,
          7,
          11.1,
          15.1,
          7.5,
          10.1,
          4.5,
          10.5,
          9.1,
          8.5,
          9.2,
          10.5,
          3.3,
          7.2,
          4.4,
          13.8,
          6.1,
          14.4,
          11.4,
          13.8,
          5.5,
          12.1,
          11.3,
          9.6,
          7.6,
          6.7,
          8.7,
          10.5,
          10,
          7.4,
          22,
          3.8,
          1.7,
          2.9,
          30.2,
          3.4,
          11.5,
          12.2,
          13.6,
          3.7,
          16.5,
          10.9,
          4,
          4.1,
          13.3,
          5.2,
          5.5,
          2,
          3.7,
          14.3,
          22.8,
          5.6,
          9.1,
          5.9,
          15.2,
          20.2,
          2.2,
          9.3,
          3.2,
          13.4,
          5.5,
          7.3,
          14.2,
          28.9,
          25.7,
          10.4,
          17.2,
          3.1,
          13.4,
          6.9,
          2.7,
          5.2,
          6.2,
          8.9,
          6.5,
          8.1,
          7.9,
          13.3,
          8.4,
          7.5,
          7.3,
          7.8,
          6.2,
          11.5,
          9,
          17.3,
          11.9,
          9.6,
          10.1,
          9.6,
          11.6,
          3.5,
          3.1,
          4.4,
          5.1,
          3.7,
          7,
          13.4,
          10.6,
          8.6,
          9.3,
          5.8,
          8,
          26.5,
          11,
          3.4,
          9.5,
          11.8,
          7.9,
          5.9,
          16.1,
          13.5,
          8.3,
          10.9,
          6.1,
          3.1,
          23.2,
          10.1,
          13.3,
          11.7,
          16.7,
          8.3,
          2.4,
          15.5,
          16.6,
          12.9,
          3.3,
          7.2,
          6.4,
          4,
          12.9,
          3.2,
          7.2,
          9.6,
          20,
          18.5,
          16.5,
          13.7,
          7.4,
          2.4,
          3.8,
          7,
          5.4,
          5.4,
          9.8,
          12.8,
          11.3,
          19.1
         ],
         "xaxis": "x",
         "yaxis": "y"
        }
       ],
       "layout": {
        "barmode": "relative",
        "legend": {
         "tracegroupgap": 0
        },
        "margin": {
         "t": 60
        },
        "template": {
         "data": {
          "bar": [
           {
            "error_x": {
             "color": "#2a3f5f"
            },
            "error_y": {
             "color": "#2a3f5f"
            },
            "marker": {
             "line": {
              "color": "#E5ECF6",
              "width": 0.5
             },
             "pattern": {
              "fillmode": "overlay",
              "size": 10,
              "solidity": 0.2
             }
            },
            "type": "bar"
           }
          ],
          "barpolar": [
           {
            "marker": {
             "line": {
              "color": "#E5ECF6",
              "width": 0.5
             },
             "pattern": {
              "fillmode": "overlay",
              "size": 10,
              "solidity": 0.2
             }
            },
            "type": "barpolar"
           }
          ],
          "carpet": [
           {
            "aaxis": {
             "endlinecolor": "#2a3f5f",
             "gridcolor": "white",
             "linecolor": "white",
             "minorgridcolor": "white",
             "startlinecolor": "#2a3f5f"
            },
            "baxis": {
             "endlinecolor": "#2a3f5f",
             "gridcolor": "white",
             "linecolor": "white",
             "minorgridcolor": "white",
             "startlinecolor": "#2a3f5f"
            },
            "type": "carpet"
           }
          ],
          "choropleth": [
           {
            "colorbar": {
             "outlinewidth": 0,
             "ticks": ""
            },
            "type": "choropleth"
           }
          ],
          "contour": [
           {
            "colorbar": {
             "outlinewidth": 0,
             "ticks": ""
            },
            "colorscale": [
             [
              0,
              "#0d0887"
             ],
             [
              0.1111111111111111,
              "#46039f"
             ],
             [
              0.2222222222222222,
              "#7201a8"
             ],
             [
              0.3333333333333333,
              "#9c179e"
             ],
             [
              0.4444444444444444,
              "#bd3786"
             ],
             [
              0.5555555555555556,
              "#d8576b"
             ],
             [
              0.6666666666666666,
              "#ed7953"
             ],
             [
              0.7777777777777778,
              "#fb9f3a"
             ],
             [
              0.8888888888888888,
              "#fdca26"
             ],
             [
              1,
              "#f0f921"
             ]
            ],
            "type": "contour"
           }
          ],
          "contourcarpet": [
           {
            "colorbar": {
             "outlinewidth": 0,
             "ticks": ""
            },
            "type": "contourcarpet"
           }
          ],
          "heatmap": [
           {
            "colorbar": {
             "outlinewidth": 0,
             "ticks": ""
            },
            "colorscale": [
             [
              0,
              "#0d0887"
             ],
             [
              0.1111111111111111,
              "#46039f"
             ],
             [
              0.2222222222222222,
              "#7201a8"
             ],
             [
              0.3333333333333333,
              "#9c179e"
             ],
             [
              0.4444444444444444,
              "#bd3786"
             ],
             [
              0.5555555555555556,
              "#d8576b"
             ],
             [
              0.6666666666666666,
              "#ed7953"
             ],
             [
              0.7777777777777778,
              "#fb9f3a"
             ],
             [
              0.8888888888888888,
              "#fdca26"
             ],
             [
              1,
              "#f0f921"
             ]
            ],
            "type": "heatmap"
           }
          ],
          "heatmapgl": [
           {
            "colorbar": {
             "outlinewidth": 0,
             "ticks": ""
            },
            "colorscale": [
             [
              0,
              "#0d0887"
             ],
             [
              0.1111111111111111,
              "#46039f"
             ],
             [
              0.2222222222222222,
              "#7201a8"
             ],
             [
              0.3333333333333333,
              "#9c179e"
             ],
             [
              0.4444444444444444,
              "#bd3786"
             ],
             [
              0.5555555555555556,
              "#d8576b"
             ],
             [
              0.6666666666666666,
              "#ed7953"
             ],
             [
              0.7777777777777778,
              "#fb9f3a"
             ],
             [
              0.8888888888888888,
              "#fdca26"
             ],
             [
              1,
              "#f0f921"
             ]
            ],
            "type": "heatmapgl"
           }
          ],
          "histogram": [
           {
            "marker": {
             "pattern": {
              "fillmode": "overlay",
              "size": 10,
              "solidity": 0.2
             }
            },
            "type": "histogram"
           }
          ],
          "histogram2d": [
           {
            "colorbar": {
             "outlinewidth": 0,
             "ticks": ""
            },
            "colorscale": [
             [
              0,
              "#0d0887"
             ],
             [
              0.1111111111111111,
              "#46039f"
             ],
             [
              0.2222222222222222,
              "#7201a8"
             ],
             [
              0.3333333333333333,
              "#9c179e"
             ],
             [
              0.4444444444444444,
              "#bd3786"
             ],
             [
              0.5555555555555556,
              "#d8576b"
             ],
             [
              0.6666666666666666,
              "#ed7953"
             ],
             [
              0.7777777777777778,
              "#fb9f3a"
             ],
             [
              0.8888888888888888,
              "#fdca26"
             ],
             [
              1,
              "#f0f921"
             ]
            ],
            "type": "histogram2d"
           }
          ],
          "histogram2dcontour": [
           {
            "colorbar": {
             "outlinewidth": 0,
             "ticks": ""
            },
            "colorscale": [
             [
              0,
              "#0d0887"
             ],
             [
              0.1111111111111111,
              "#46039f"
             ],
             [
              0.2222222222222222,
              "#7201a8"
             ],
             [
              0.3333333333333333,
              "#9c179e"
             ],
             [
              0.4444444444444444,
              "#bd3786"
             ],
             [
              0.5555555555555556,
              "#d8576b"
             ],
             [
              0.6666666666666666,
              "#ed7953"
             ],
             [
              0.7777777777777778,
              "#fb9f3a"
             ],
             [
              0.8888888888888888,
              "#fdca26"
             ],
             [
              1,
              "#f0f921"
             ]
            ],
            "type": "histogram2dcontour"
           }
          ],
          "mesh3d": [
           {
            "colorbar": {
             "outlinewidth": 0,
             "ticks": ""
            },
            "type": "mesh3d"
           }
          ],
          "parcoords": [
           {
            "line": {
             "colorbar": {
              "outlinewidth": 0,
              "ticks": ""
             }
            },
            "type": "parcoords"
           }
          ],
          "pie": [
           {
            "automargin": true,
            "type": "pie"
           }
          ],
          "scatter": [
           {
            "fillpattern": {
             "fillmode": "overlay",
             "size": 10,
             "solidity": 0.2
            },
            "type": "scatter"
           }
          ],
          "scatter3d": [
           {
            "line": {
             "colorbar": {
              "outlinewidth": 0,
              "ticks": ""
             }
            },
            "marker": {
             "colorbar": {
              "outlinewidth": 0,
              "ticks": ""
             }
            },
            "type": "scatter3d"
           }
          ],
          "scattercarpet": [
           {
            "marker": {
             "colorbar": {
              "outlinewidth": 0,
              "ticks": ""
             }
            },
            "type": "scattercarpet"
           }
          ],
          "scattergeo": [
           {
            "marker": {
             "colorbar": {
              "outlinewidth": 0,
              "ticks": ""
             }
            },
            "type": "scattergeo"
           }
          ],
          "scattergl": [
           {
            "marker": {
             "colorbar": {
              "outlinewidth": 0,
              "ticks": ""
             }
            },
            "type": "scattergl"
           }
          ],
          "scattermapbox": [
           {
            "marker": {
             "colorbar": {
              "outlinewidth": 0,
              "ticks": ""
             }
            },
            "type": "scattermapbox"
           }
          ],
          "scatterpolar": [
           {
            "marker": {
             "colorbar": {
              "outlinewidth": 0,
              "ticks": ""
             }
            },
            "type": "scatterpolar"
           }
          ],
          "scatterpolargl": [
           {
            "marker": {
             "colorbar": {
              "outlinewidth": 0,
              "ticks": ""
             }
            },
            "type": "scatterpolargl"
           }
          ],
          "scatterternary": [
           {
            "marker": {
             "colorbar": {
              "outlinewidth": 0,
              "ticks": ""
             }
            },
            "type": "scatterternary"
           }
          ],
          "surface": [
           {
            "colorbar": {
             "outlinewidth": 0,
             "ticks": ""
            },
            "colorscale": [
             [
              0,
              "#0d0887"
             ],
             [
              0.1111111111111111,
              "#46039f"
             ],
             [
              0.2222222222222222,
              "#7201a8"
             ],
             [
              0.3333333333333333,
              "#9c179e"
             ],
             [
              0.4444444444444444,
              "#bd3786"
             ],
             [
              0.5555555555555556,
              "#d8576b"
             ],
             [
              0.6666666666666666,
              "#ed7953"
             ],
             [
              0.7777777777777778,
              "#fb9f3a"
             ],
             [
              0.8888888888888888,
              "#fdca26"
             ],
             [
              1,
              "#f0f921"
             ]
            ],
            "type": "surface"
           }
          ],
          "table": [
           {
            "cells": {
             "fill": {
              "color": "#EBF0F8"
             },
             "line": {
              "color": "white"
             }
            },
            "header": {
             "fill": {
              "color": "#C8D4E3"
             },
             "line": {
              "color": "white"
             }
            },
            "type": "table"
           }
          ]
         },
         "layout": {
          "annotationdefaults": {
           "arrowcolor": "#2a3f5f",
           "arrowhead": 0,
           "arrowwidth": 1
          },
          "autotypenumbers": "strict",
          "coloraxis": {
           "colorbar": {
            "outlinewidth": 0,
            "ticks": ""
           }
          },
          "colorscale": {
           "diverging": [
            [
             0,
             "#8e0152"
            ],
            [
             0.1,
             "#c51b7d"
            ],
            [
             0.2,
             "#de77ae"
            ],
            [
             0.3,
             "#f1b6da"
            ],
            [
             0.4,
             "#fde0ef"
            ],
            [
             0.5,
             "#f7f7f7"
            ],
            [
             0.6,
             "#e6f5d0"
            ],
            [
             0.7,
             "#b8e186"
            ],
            [
             0.8,
             "#7fbc41"
            ],
            [
             0.9,
             "#4d9221"
            ],
            [
             1,
             "#276419"
            ]
           ],
           "sequential": [
            [
             0,
             "#0d0887"
            ],
            [
             0.1111111111111111,
             "#46039f"
            ],
            [
             0.2222222222222222,
             "#7201a8"
            ],
            [
             0.3333333333333333,
             "#9c179e"
            ],
            [
             0.4444444444444444,
             "#bd3786"
            ],
            [
             0.5555555555555556,
             "#d8576b"
            ],
            [
             0.6666666666666666,
             "#ed7953"
            ],
            [
             0.7777777777777778,
             "#fb9f3a"
            ],
            [
             0.8888888888888888,
             "#fdca26"
            ],
            [
             1,
             "#f0f921"
            ]
           ],
           "sequentialminus": [
            [
             0,
             "#0d0887"
            ],
            [
             0.1111111111111111,
             "#46039f"
            ],
            [
             0.2222222222222222,
             "#7201a8"
            ],
            [
             0.3333333333333333,
             "#9c179e"
            ],
            [
             0.4444444444444444,
             "#bd3786"
            ],
            [
             0.5555555555555556,
             "#d8576b"
            ],
            [
             0.6666666666666666,
             "#ed7953"
            ],
            [
             0.7777777777777778,
             "#fb9f3a"
            ],
            [
             0.8888888888888888,
             "#fdca26"
            ],
            [
             1,
             "#f0f921"
            ]
           ]
          },
          "colorway": [
           "#636efa",
           "#EF553B",
           "#00cc96",
           "#ab63fa",
           "#FFA15A",
           "#19d3f3",
           "#FF6692",
           "#B6E880",
           "#FF97FF",
           "#FECB52"
          ],
          "font": {
           "color": "#2a3f5f"
          },
          "geo": {
           "bgcolor": "white",
           "lakecolor": "white",
           "landcolor": "#E5ECF6",
           "showlakes": true,
           "showland": true,
           "subunitcolor": "white"
          },
          "hoverlabel": {
           "align": "left"
          },
          "hovermode": "closest",
          "mapbox": {
           "style": "light"
          },
          "paper_bgcolor": "white",
          "plot_bgcolor": "#E5ECF6",
          "polar": {
           "angularaxis": {
            "gridcolor": "white",
            "linecolor": "white",
            "ticks": ""
           },
           "bgcolor": "#E5ECF6",
           "radialaxis": {
            "gridcolor": "white",
            "linecolor": "white",
            "ticks": ""
           }
          },
          "scene": {
           "xaxis": {
            "backgroundcolor": "#E5ECF6",
            "gridcolor": "white",
            "gridwidth": 2,
            "linecolor": "white",
            "showbackground": true,
            "ticks": "",
            "zerolinecolor": "white"
           },
           "yaxis": {
            "backgroundcolor": "#E5ECF6",
            "gridcolor": "white",
            "gridwidth": 2,
            "linecolor": "white",
            "showbackground": true,
            "ticks": "",
            "zerolinecolor": "white"
           },
           "zaxis": {
            "backgroundcolor": "#E5ECF6",
            "gridcolor": "white",
            "gridwidth": 2,
            "linecolor": "white",
            "showbackground": true,
            "ticks": "",
            "zerolinecolor": "white"
           }
          },
          "shapedefaults": {
           "line": {
            "color": "#2a3f5f"
           }
          },
          "ternary": {
           "aaxis": {
            "gridcolor": "white",
            "linecolor": "white",
            "ticks": ""
           },
           "baxis": {
            "gridcolor": "white",
            "linecolor": "white",
            "ticks": ""
           },
           "bgcolor": "#E5ECF6",
           "caxis": {
            "gridcolor": "white",
            "linecolor": "white",
            "ticks": ""
           }
          },
          "title": {
           "x": 0.05
          },
          "xaxis": {
           "automargin": true,
           "gridcolor": "white",
           "linecolor": "white",
           "ticks": "",
           "title": {
            "standoff": 15
           },
           "zerolinecolor": "white",
           "zerolinewidth": 2
          },
          "yaxis": {
           "automargin": true,
           "gridcolor": "white",
           "linecolor": "white",
           "ticks": "",
           "title": {
            "standoff": 15
           },
           "zerolinecolor": "white",
           "zerolinewidth": 2
          }
         }
        },
        "xaxis": {
         "anchor": "y",
         "domain": [
          0,
          1
         ],
         "title": {
          "text": "suicide_rate"
         }
        },
        "yaxis": {
         "anchor": "x",
         "domain": [
          0,
          1
         ],
         "title": {
          "text": "count"
         }
        }
       }
      }
     },
     "metadata": {},
     "output_type": "display_data"
    }
   ],
   "source": [
    "fig = px.histogram(df2016, x=\"suicide_rate\")\n",
    "fig.show()"
   ]
  },
  {
   "attachments": {},
   "cell_type": "markdown",
   "metadata": {},
   "source": [
    "The rate is over one year per 100 000 people. This is also true of all of the other charts.\n",
    "\n",
    "## Time for a bunch of linear regressions!"
   ]
  },
  {
   "cell_type": "code",
   "execution_count": 9,
   "metadata": {},
   "outputs": [
    {
     "data": {
      "application/vnd.plotly.v1+json": {
       "config": {
        "plotlyServerURL": "https://plot.ly"
       },
       "data": [
        {
         "hovertemplate": "mental_hospitals_per_100k=%{x}<br>suicide_rate=%{y}<extra></extra>",
         "legendgroup": "",
         "marker": {
          "color": "#636efa",
          "symbol": "circle"
         },
         "mode": "markers",
         "name": "",
         "orientation": "v",
         "showlegend": false,
         "type": "scatter",
         "x": [
          0.003,
          0.011,
          0.068,
          0.011,
          0.937,
          null,
          1.001,
          null,
          null,
          0.114,
          null,
          null,
          null,
          null,
          0.001,
          0.167,
          null,
          null,
          null,
          0.2,
          null,
          0.075,
          0.069,
          null,
          null,
          null,
          null,
          null,
          null,
          null,
          0.023,
          null,
          0.009,
          null,
          null,
          null,
          1.988,
          null,
          null,
          0.042,
          0.166,
          null,
          null,
          null,
          null,
          null,
          null,
          0.048,
          0.025,
          0.019,
          0.021,
          null,
          0.152,
          null,
          null,
          0.112,
          null,
          null,
          0.052,
          null,
          0.228,
          0.011,
          null,
          null,
          0.056,
          null,
          0.027,
          0.936,
          0.006,
          0.13,
          null,
          0.165,
          0.019,
          null,
          0.019,
          0.01,
          0.617,
          null,
          null,
          0.303,
          0.161,
          null,
          null,
          0.055,
          8.314,
          null,
          0.002,
          0.085,
          null,
          null,
          0.358,
          null,
          null,
          null,
          0.022,
          0.032,
          0.564,
          null,
          null,
          0.136,
          null,
          null,
          0.032,
          null,
          0.021,
          null,
          0.029,
          null,
          null,
          null,
          0.004,
          0.318,
          0.034,
          0.007,
          null,
          null,
          null,
          0.013,
          null,
          null,
          null,
          null,
          null,
          0.577,
          0.021,
          null,
          null,
          0.006,
          0.025,
          0.01,
          0.001,
          null,
          0.125,
          null,
          0.029,
          0.03,
          0.038,
          0.171,
          null,
          0.017,
          0.079,
          null,
          0.007,
          0.018,
          null,
          null,
          0.032,
          null,
          null,
          null,
          null,
          null,
          null,
          0.241,
          null,
          null,
          1.067,
          0.016,
          null,
          0.013,
          0.028,
          0.035,
          null,
          null,
          0,
          null,
          null,
          0.011,
          null,
          0.002,
          0.139,
          0.321,
          0.189,
          0.081,
          null,
          null,
          0.043,
          null,
          0.516,
          0.033,
          0.116,
          0.062,
          0.025
         ],
         "xaxis": "x",
         "y": [
          6.4,
          8.9,
          5.6,
          2.7,
          9.1,
          5.7,
          0.5,
          11.7,
          11.4,
          2.6,
          15,
          15.7,
          15.7,
          14.8,
          6.1,
          7.9,
          5.7,
          1.6,
          6.4,
          21.4,
          5.9,
          12.9,
          6.1,
          0.4,
          4.5,
          11.6,
          11.5,
          11.6,
          10.4,
          11.3,
          9.7,
          8,
          23,
          19.5,
          9.7,
          9.3,
          7,
          11.1,
          15.1,
          7.5,
          10.1,
          4.5,
          10.5,
          9.1,
          8.5,
          9.2,
          10.5,
          3.3,
          7.2,
          4.4,
          13.8,
          6.1,
          14.4,
          11.4,
          13.8,
          5.5,
          12.1,
          11.3,
          9.6,
          7.6,
          6.7,
          8.7,
          10.5,
          10,
          7.4,
          22,
          3.8,
          1.7,
          2.9,
          30.2,
          3.4,
          11.5,
          12.2,
          13.6,
          3.7,
          16.5,
          10.9,
          4,
          4.1,
          13.3,
          5.2,
          5.5,
          2,
          3.7,
          14.3,
          22.8,
          5.6,
          9.1,
          5.9,
          15.2,
          20.2,
          2.2,
          9.3,
          3.2,
          13.4,
          5.5,
          7.3,
          14.2,
          28.9,
          25.7,
          10.4,
          17.2,
          3.1,
          13.4,
          6.9,
          2.7,
          5.2,
          6.2,
          8.9,
          6.5,
          8.1,
          7.9,
          13.3,
          8.4,
          7.5,
          7.3,
          7.8,
          6.2,
          11.5,
          9,
          17.3,
          11.9,
          9.6,
          10.1,
          9.6,
          11.6,
          3.5,
          3.1,
          4.4,
          5.1,
          3.7,
          7,
          13.4,
          10.6,
          8.6,
          9.3,
          5.8,
          8,
          26.5,
          11,
          3.4,
          9.5,
          11.8,
          7.9,
          5.9,
          16.1,
          13.5,
          8.3,
          10.9,
          6.1,
          3.1,
          23.2,
          10.1,
          13.3,
          11.7,
          16.7,
          8.3,
          2.4,
          15.5,
          16.6,
          12.9,
          3.3,
          7.2,
          6.4,
          4,
          12.9,
          3.2,
          7.2,
          9.6,
          20,
          18.5,
          16.5,
          13.7,
          7.4,
          2.4,
          3.8,
          7,
          5.4,
          5.4,
          9.8,
          12.8,
          11.3,
          19.1
         ],
         "yaxis": "y"
        },
        {
         "hovertemplate": "<b>OLS trendline</b><br>suicide_rate = 0.424926 * mental_hospitals_per_100k + 9.25652<br>R<sup>2</sup>=0.004761<br><br>mental_hospitals_per_100k=%{x}<br>suicide_rate=%{y} <b>(trend)</b><extra></extra>",
         "legendgroup": "",
         "marker": {
          "color": "#636efa",
          "symbol": "circle"
         },
         "mode": "lines",
         "name": "",
         "showlegend": false,
         "type": "scatter",
         "x": [
          0,
          0.001,
          0.001,
          0.002,
          0.002,
          0.003,
          0.004,
          0.006,
          0.006,
          0.007,
          0.007,
          0.009,
          0.01,
          0.01,
          0.011,
          0.011,
          0.011,
          0.011,
          0.013,
          0.013,
          0.016,
          0.017,
          0.018,
          0.019,
          0.019,
          0.019,
          0.021,
          0.021,
          0.021,
          0.022,
          0.023,
          0.025,
          0.025,
          0.025,
          0.027,
          0.028,
          0.029,
          0.029,
          0.03,
          0.032,
          0.032,
          0.032,
          0.033,
          0.034,
          0.035,
          0.038,
          0.042,
          0.043,
          0.048,
          0.052,
          0.055,
          0.056,
          0.062,
          0.068,
          0.069,
          0.075,
          0.079,
          0.081,
          0.085,
          0.112,
          0.114,
          0.116,
          0.125,
          0.13,
          0.136,
          0.139,
          0.152,
          0.161,
          0.165,
          0.166,
          0.167,
          0.171,
          0.189,
          0.2,
          0.228,
          0.241,
          0.303,
          0.318,
          0.321,
          0.358,
          0.516,
          0.564,
          0.577,
          0.617,
          0.936,
          0.937,
          1.001,
          1.067,
          1.988,
          8.314
         ],
         "xaxis": "x",
         "y": [
          9.256522710851222,
          9.25694763663776,
          9.25694763663776,
          9.257372562424298,
          9.257372562424298,
          9.257797488210835,
          9.258222413997373,
          9.259072265570449,
          9.259072265570449,
          9.259497191356989,
          9.259497191356989,
          9.260347042930064,
          9.260771968716602,
          9.260771968716602,
          9.26119689450314,
          9.26119689450314,
          9.26119689450314,
          9.26119689450314,
          9.262046746076216,
          9.262046746076216,
          9.26332152343583,
          9.263746449222367,
          9.264171375008905,
          9.264596300795445,
          9.264596300795445,
          9.264596300795445,
          9.26544615236852,
          9.26544615236852,
          9.26544615236852,
          9.265871078155058,
          9.266296003941596,
          9.267145855514672,
          9.267145855514672,
          9.267145855514672,
          9.267995707087747,
          9.268420632874285,
          9.268845558660823,
          9.268845558660823,
          9.269270484447361,
          9.270120336020439,
          9.270120336020439,
          9.270120336020439,
          9.270545261806976,
          9.270970187593514,
          9.271395113380052,
          9.272669890739666,
          9.274369593885817,
          9.274794519672355,
          9.276919148605046,
          9.278618851751197,
          9.279893629110811,
          9.28031855489735,
          9.282868109616578,
          9.285417664335807,
          9.285842590122344,
          9.288392144841572,
          9.290091847987723,
          9.2909416995608,
          9.292641402706952,
          9.304114398943478,
          9.304964250516553,
          9.305814102089629,
          9.309638434168471,
          9.311763063101163,
          9.31431261782039,
          9.315587395180003,
          9.321111430404997,
          9.32493576248384,
          9.326635465629991,
          9.327060391416529,
          9.327485317203069,
          9.32918502034922,
          9.336833684506903,
          9.341507868158821,
          9.353405790181885,
          9.35892982540688,
          9.385275224172236,
          9.391649110970306,
          9.39292388832992,
          9.408646142431826,
          9.47578441670483,
          9.496180854458654,
          9.501704889683648,
          9.518701921145167,
          9.65425324705079,
          9.654678172837327,
          9.681873423175759,
          9.709918525087266,
          10.101275174488764,
          12.789355700128148
         ],
         "yaxis": "y"
        }
       ],
       "layout": {
        "legend": {
         "tracegroupgap": 0
        },
        "margin": {
         "t": 60
        },
        "template": {
         "data": {
          "bar": [
           {
            "error_x": {
             "color": "#2a3f5f"
            },
            "error_y": {
             "color": "#2a3f5f"
            },
            "marker": {
             "line": {
              "color": "#E5ECF6",
              "width": 0.5
             },
             "pattern": {
              "fillmode": "overlay",
              "size": 10,
              "solidity": 0.2
             }
            },
            "type": "bar"
           }
          ],
          "barpolar": [
           {
            "marker": {
             "line": {
              "color": "#E5ECF6",
              "width": 0.5
             },
             "pattern": {
              "fillmode": "overlay",
              "size": 10,
              "solidity": 0.2
             }
            },
            "type": "barpolar"
           }
          ],
          "carpet": [
           {
            "aaxis": {
             "endlinecolor": "#2a3f5f",
             "gridcolor": "white",
             "linecolor": "white",
             "minorgridcolor": "white",
             "startlinecolor": "#2a3f5f"
            },
            "baxis": {
             "endlinecolor": "#2a3f5f",
             "gridcolor": "white",
             "linecolor": "white",
             "minorgridcolor": "white",
             "startlinecolor": "#2a3f5f"
            },
            "type": "carpet"
           }
          ],
          "choropleth": [
           {
            "colorbar": {
             "outlinewidth": 0,
             "ticks": ""
            },
            "type": "choropleth"
           }
          ],
          "contour": [
           {
            "colorbar": {
             "outlinewidth": 0,
             "ticks": ""
            },
            "colorscale": [
             [
              0,
              "#0d0887"
             ],
             [
              0.1111111111111111,
              "#46039f"
             ],
             [
              0.2222222222222222,
              "#7201a8"
             ],
             [
              0.3333333333333333,
              "#9c179e"
             ],
             [
              0.4444444444444444,
              "#bd3786"
             ],
             [
              0.5555555555555556,
              "#d8576b"
             ],
             [
              0.6666666666666666,
              "#ed7953"
             ],
             [
              0.7777777777777778,
              "#fb9f3a"
             ],
             [
              0.8888888888888888,
              "#fdca26"
             ],
             [
              1,
              "#f0f921"
             ]
            ],
            "type": "contour"
           }
          ],
          "contourcarpet": [
           {
            "colorbar": {
             "outlinewidth": 0,
             "ticks": ""
            },
            "type": "contourcarpet"
           }
          ],
          "heatmap": [
           {
            "colorbar": {
             "outlinewidth": 0,
             "ticks": ""
            },
            "colorscale": [
             [
              0,
              "#0d0887"
             ],
             [
              0.1111111111111111,
              "#46039f"
             ],
             [
              0.2222222222222222,
              "#7201a8"
             ],
             [
              0.3333333333333333,
              "#9c179e"
             ],
             [
              0.4444444444444444,
              "#bd3786"
             ],
             [
              0.5555555555555556,
              "#d8576b"
             ],
             [
              0.6666666666666666,
              "#ed7953"
             ],
             [
              0.7777777777777778,
              "#fb9f3a"
             ],
             [
              0.8888888888888888,
              "#fdca26"
             ],
             [
              1,
              "#f0f921"
             ]
            ],
            "type": "heatmap"
           }
          ],
          "heatmapgl": [
           {
            "colorbar": {
             "outlinewidth": 0,
             "ticks": ""
            },
            "colorscale": [
             [
              0,
              "#0d0887"
             ],
             [
              0.1111111111111111,
              "#46039f"
             ],
             [
              0.2222222222222222,
              "#7201a8"
             ],
             [
              0.3333333333333333,
              "#9c179e"
             ],
             [
              0.4444444444444444,
              "#bd3786"
             ],
             [
              0.5555555555555556,
              "#d8576b"
             ],
             [
              0.6666666666666666,
              "#ed7953"
             ],
             [
              0.7777777777777778,
              "#fb9f3a"
             ],
             [
              0.8888888888888888,
              "#fdca26"
             ],
             [
              1,
              "#f0f921"
             ]
            ],
            "type": "heatmapgl"
           }
          ],
          "histogram": [
           {
            "marker": {
             "pattern": {
              "fillmode": "overlay",
              "size": 10,
              "solidity": 0.2
             }
            },
            "type": "histogram"
           }
          ],
          "histogram2d": [
           {
            "colorbar": {
             "outlinewidth": 0,
             "ticks": ""
            },
            "colorscale": [
             [
              0,
              "#0d0887"
             ],
             [
              0.1111111111111111,
              "#46039f"
             ],
             [
              0.2222222222222222,
              "#7201a8"
             ],
             [
              0.3333333333333333,
              "#9c179e"
             ],
             [
              0.4444444444444444,
              "#bd3786"
             ],
             [
              0.5555555555555556,
              "#d8576b"
             ],
             [
              0.6666666666666666,
              "#ed7953"
             ],
             [
              0.7777777777777778,
              "#fb9f3a"
             ],
             [
              0.8888888888888888,
              "#fdca26"
             ],
             [
              1,
              "#f0f921"
             ]
            ],
            "type": "histogram2d"
           }
          ],
          "histogram2dcontour": [
           {
            "colorbar": {
             "outlinewidth": 0,
             "ticks": ""
            },
            "colorscale": [
             [
              0,
              "#0d0887"
             ],
             [
              0.1111111111111111,
              "#46039f"
             ],
             [
              0.2222222222222222,
              "#7201a8"
             ],
             [
              0.3333333333333333,
              "#9c179e"
             ],
             [
              0.4444444444444444,
              "#bd3786"
             ],
             [
              0.5555555555555556,
              "#d8576b"
             ],
             [
              0.6666666666666666,
              "#ed7953"
             ],
             [
              0.7777777777777778,
              "#fb9f3a"
             ],
             [
              0.8888888888888888,
              "#fdca26"
             ],
             [
              1,
              "#f0f921"
             ]
            ],
            "type": "histogram2dcontour"
           }
          ],
          "mesh3d": [
           {
            "colorbar": {
             "outlinewidth": 0,
             "ticks": ""
            },
            "type": "mesh3d"
           }
          ],
          "parcoords": [
           {
            "line": {
             "colorbar": {
              "outlinewidth": 0,
              "ticks": ""
             }
            },
            "type": "parcoords"
           }
          ],
          "pie": [
           {
            "automargin": true,
            "type": "pie"
           }
          ],
          "scatter": [
           {
            "fillpattern": {
             "fillmode": "overlay",
             "size": 10,
             "solidity": 0.2
            },
            "type": "scatter"
           }
          ],
          "scatter3d": [
           {
            "line": {
             "colorbar": {
              "outlinewidth": 0,
              "ticks": ""
             }
            },
            "marker": {
             "colorbar": {
              "outlinewidth": 0,
              "ticks": ""
             }
            },
            "type": "scatter3d"
           }
          ],
          "scattercarpet": [
           {
            "marker": {
             "colorbar": {
              "outlinewidth": 0,
              "ticks": ""
             }
            },
            "type": "scattercarpet"
           }
          ],
          "scattergeo": [
           {
            "marker": {
             "colorbar": {
              "outlinewidth": 0,
              "ticks": ""
             }
            },
            "type": "scattergeo"
           }
          ],
          "scattergl": [
           {
            "marker": {
             "colorbar": {
              "outlinewidth": 0,
              "ticks": ""
             }
            },
            "type": "scattergl"
           }
          ],
          "scattermapbox": [
           {
            "marker": {
             "colorbar": {
              "outlinewidth": 0,
              "ticks": ""
             }
            },
            "type": "scattermapbox"
           }
          ],
          "scatterpolar": [
           {
            "marker": {
             "colorbar": {
              "outlinewidth": 0,
              "ticks": ""
             }
            },
            "type": "scatterpolar"
           }
          ],
          "scatterpolargl": [
           {
            "marker": {
             "colorbar": {
              "outlinewidth": 0,
              "ticks": ""
             }
            },
            "type": "scatterpolargl"
           }
          ],
          "scatterternary": [
           {
            "marker": {
             "colorbar": {
              "outlinewidth": 0,
              "ticks": ""
             }
            },
            "type": "scatterternary"
           }
          ],
          "surface": [
           {
            "colorbar": {
             "outlinewidth": 0,
             "ticks": ""
            },
            "colorscale": [
             [
              0,
              "#0d0887"
             ],
             [
              0.1111111111111111,
              "#46039f"
             ],
             [
              0.2222222222222222,
              "#7201a8"
             ],
             [
              0.3333333333333333,
              "#9c179e"
             ],
             [
              0.4444444444444444,
              "#bd3786"
             ],
             [
              0.5555555555555556,
              "#d8576b"
             ],
             [
              0.6666666666666666,
              "#ed7953"
             ],
             [
              0.7777777777777778,
              "#fb9f3a"
             ],
             [
              0.8888888888888888,
              "#fdca26"
             ],
             [
              1,
              "#f0f921"
             ]
            ],
            "type": "surface"
           }
          ],
          "table": [
           {
            "cells": {
             "fill": {
              "color": "#EBF0F8"
             },
             "line": {
              "color": "white"
             }
            },
            "header": {
             "fill": {
              "color": "#C8D4E3"
             },
             "line": {
              "color": "white"
             }
            },
            "type": "table"
           }
          ]
         },
         "layout": {
          "annotationdefaults": {
           "arrowcolor": "#2a3f5f",
           "arrowhead": 0,
           "arrowwidth": 1
          },
          "autotypenumbers": "strict",
          "coloraxis": {
           "colorbar": {
            "outlinewidth": 0,
            "ticks": ""
           }
          },
          "colorscale": {
           "diverging": [
            [
             0,
             "#8e0152"
            ],
            [
             0.1,
             "#c51b7d"
            ],
            [
             0.2,
             "#de77ae"
            ],
            [
             0.3,
             "#f1b6da"
            ],
            [
             0.4,
             "#fde0ef"
            ],
            [
             0.5,
             "#f7f7f7"
            ],
            [
             0.6,
             "#e6f5d0"
            ],
            [
             0.7,
             "#b8e186"
            ],
            [
             0.8,
             "#7fbc41"
            ],
            [
             0.9,
             "#4d9221"
            ],
            [
             1,
             "#276419"
            ]
           ],
           "sequential": [
            [
             0,
             "#0d0887"
            ],
            [
             0.1111111111111111,
             "#46039f"
            ],
            [
             0.2222222222222222,
             "#7201a8"
            ],
            [
             0.3333333333333333,
             "#9c179e"
            ],
            [
             0.4444444444444444,
             "#bd3786"
            ],
            [
             0.5555555555555556,
             "#d8576b"
            ],
            [
             0.6666666666666666,
             "#ed7953"
            ],
            [
             0.7777777777777778,
             "#fb9f3a"
            ],
            [
             0.8888888888888888,
             "#fdca26"
            ],
            [
             1,
             "#f0f921"
            ]
           ],
           "sequentialminus": [
            [
             0,
             "#0d0887"
            ],
            [
             0.1111111111111111,
             "#46039f"
            ],
            [
             0.2222222222222222,
             "#7201a8"
            ],
            [
             0.3333333333333333,
             "#9c179e"
            ],
            [
             0.4444444444444444,
             "#bd3786"
            ],
            [
             0.5555555555555556,
             "#d8576b"
            ],
            [
             0.6666666666666666,
             "#ed7953"
            ],
            [
             0.7777777777777778,
             "#fb9f3a"
            ],
            [
             0.8888888888888888,
             "#fdca26"
            ],
            [
             1,
             "#f0f921"
            ]
           ]
          },
          "colorway": [
           "#636efa",
           "#EF553B",
           "#00cc96",
           "#ab63fa",
           "#FFA15A",
           "#19d3f3",
           "#FF6692",
           "#B6E880",
           "#FF97FF",
           "#FECB52"
          ],
          "font": {
           "color": "#2a3f5f"
          },
          "geo": {
           "bgcolor": "white",
           "lakecolor": "white",
           "landcolor": "#E5ECF6",
           "showlakes": true,
           "showland": true,
           "subunitcolor": "white"
          },
          "hoverlabel": {
           "align": "left"
          },
          "hovermode": "closest",
          "mapbox": {
           "style": "light"
          },
          "paper_bgcolor": "white",
          "plot_bgcolor": "#E5ECF6",
          "polar": {
           "angularaxis": {
            "gridcolor": "white",
            "linecolor": "white",
            "ticks": ""
           },
           "bgcolor": "#E5ECF6",
           "radialaxis": {
            "gridcolor": "white",
            "linecolor": "white",
            "ticks": ""
           }
          },
          "scene": {
           "xaxis": {
            "backgroundcolor": "#E5ECF6",
            "gridcolor": "white",
            "gridwidth": 2,
            "linecolor": "white",
            "showbackground": true,
            "ticks": "",
            "zerolinecolor": "white"
           },
           "yaxis": {
            "backgroundcolor": "#E5ECF6",
            "gridcolor": "white",
            "gridwidth": 2,
            "linecolor": "white",
            "showbackground": true,
            "ticks": "",
            "zerolinecolor": "white"
           },
           "zaxis": {
            "backgroundcolor": "#E5ECF6",
            "gridcolor": "white",
            "gridwidth": 2,
            "linecolor": "white",
            "showbackground": true,
            "ticks": "",
            "zerolinecolor": "white"
           }
          },
          "shapedefaults": {
           "line": {
            "color": "#2a3f5f"
           }
          },
          "ternary": {
           "aaxis": {
            "gridcolor": "white",
            "linecolor": "white",
            "ticks": ""
           },
           "baxis": {
            "gridcolor": "white",
            "linecolor": "white",
            "ticks": ""
           },
           "bgcolor": "#E5ECF6",
           "caxis": {
            "gridcolor": "white",
            "linecolor": "white",
            "ticks": ""
           }
          },
          "title": {
           "x": 0.05
          },
          "xaxis": {
           "automargin": true,
           "gridcolor": "white",
           "linecolor": "white",
           "ticks": "",
           "title": {
            "standoff": 15
           },
           "zerolinecolor": "white",
           "zerolinewidth": 2
          },
          "yaxis": {
           "automargin": true,
           "gridcolor": "white",
           "linecolor": "white",
           "ticks": "",
           "title": {
            "standoff": 15
           },
           "zerolinecolor": "white",
           "zerolinewidth": 2
          }
         }
        },
        "xaxis": {
         "anchor": "y",
         "domain": [
          0,
          1
         ],
         "title": {
          "text": "mental_hospitals_per_100k"
         }
        },
        "yaxis": {
         "anchor": "x",
         "domain": [
          0,
          1
         ],
         "title": {
          "text": "suicide_rate"
         }
        }
       }
      }
     },
     "metadata": {},
     "output_type": "display_data"
    }
   ],
   "source": [
    "fig = px.scatter(df2016, x=\"mental_hospitals_per_100k\", y=\"suicide_rate\", trendline=\"ols\")\n",
    "fig.show()"
   ]
  },
  {
   "attachments": {},
   "cell_type": "markdown",
   "metadata": {},
   "source": [
    "### Time for a bunch of linear regressions with arbitrary outlier cutoffs!\n",
    "\n",
    "I'll save you all the other pre-filtering scatterplots. Also, most of the charts will have separate sex statistics since there are differences I find interesting. If a chart doesn't, the implication is they're similar enough that it's better off combined."
   ]
  },
  {
   "cell_type": "code",
   "execution_count": 10,
   "metadata": {},
   "outputs": [
    {
     "data": {
      "application/vnd.plotly.v1+json": {
       "config": {
        "plotlyServerURL": "https://plot.ly"
       },
       "data": [
        {
         "hovertemplate": "sex=Male<br>mental_hospitals_per_100k=%{x}<br>suicide_rate=%{y}<extra></extra>",
         "legendgroup": "Male",
         "marker": {
          "color": "#636efa",
          "symbol": "circle"
         },
         "mode": "markers",
         "name": "Male",
         "orientation": "v",
         "showlegend": true,
         "type": "scatter",
         "x": [
          0.003,
          0.011,
          0.068,
          0.011,
          0.114,
          0.001,
          0.167,
          0.2,
          0.075,
          0.069,
          0.023,
          0.009,
          0.042,
          0.166,
          0.048,
          0.025,
          0.019,
          0.021,
          0.152,
          0.112,
          0.052,
          0.228,
          0.011,
          0.056,
          0.027,
          0.006,
          0.13,
          0.165,
          0.019,
          0.019,
          0.01,
          0.303,
          0.161,
          0.055,
          0.002,
          0.085,
          0.358,
          0.022,
          0.032,
          0.136,
          0.032,
          0.021,
          0.029,
          0.004,
          0.318,
          0.034,
          0.007,
          0.013,
          0.021,
          0.006,
          0.025,
          0.01,
          0.001,
          0.125,
          0.029,
          0.03,
          0.038,
          0.171,
          0.017,
          0.079,
          0.007,
          0.018,
          0.032,
          0.241,
          0.016,
          0.013,
          0.028,
          0.035,
          0,
          0.011,
          0.002,
          0.139,
          0.321,
          0.189,
          0.081,
          0.043,
          0.033,
          0.116,
          0.062,
          0.025
         ],
         "xaxis": "x",
         "y": [
          10.6,
          14,
          7,
          3.5,
          4.3,
          5.5,
          13.1,
          39.3,
          16.9,
          9.7,
          16,
          32,
          12.8,
          16.4,
          4.9,
          10.7,
          7.2,
          22.4,
          25.6,
          8.8,
          15,
          12.3,
          15.8,
          8.9,
          6.1,
          4.4,
          46.6,
          18.8,
          18.3,
          5.2,
          18.5,
          21.7,
          8.2,
          4.7,
          9.7,
          14.8,
          29.6,
          13.8,
          8.7,
          47.5,
          2.5,
          10.5,
          8.2,
          6.3,
          12.6,
          23.3,
          14,
          8.7,
          11.4,
          3,
          7.6,
          7.6,
          5.2,
          23.9,
          14.3,
          12.3,
          7.3,
          13.9,
          16.9,
          4.6,
          20.3,
          11.1,
          24.8,
          22.4,
          3.8,
          22.7,
          21.4,
          5,
          5.2,
          11.3,
          21.2,
          34.5,
          26.8,
          21.1,
          10.3,
          10.8,
          13.4,
          21.7,
          17.5,
          29.1
         ],
         "yaxis": "y"
        },
        {
         "hovertemplate": "<b>OLS trendline</b><br>suicide_rate = 46.5357 * mental_hospitals_per_100k + 11.4446<br>R<sup>2</sup>=0.167801<br><br>sex=Male<br>mental_hospitals_per_100k=%{x}<br>suicide_rate=%{y} <b>(trend)</b><extra></extra>",
         "legendgroup": "Male",
         "marker": {
          "color": "#636efa",
          "symbol": "circle"
         },
         "mode": "lines",
         "name": "Male",
         "showlegend": false,
         "type": "scatter",
         "x": [
          0,
          0.001,
          0.001,
          0.002,
          0.002,
          0.003,
          0.004,
          0.006,
          0.006,
          0.007,
          0.007,
          0.009,
          0.01,
          0.01,
          0.011,
          0.011,
          0.011,
          0.011,
          0.013,
          0.013,
          0.016,
          0.017,
          0.018,
          0.019,
          0.019,
          0.019,
          0.021,
          0.021,
          0.021,
          0.022,
          0.023,
          0.025,
          0.025,
          0.025,
          0.027,
          0.028,
          0.029,
          0.029,
          0.03,
          0.032,
          0.032,
          0.032,
          0.033,
          0.034,
          0.035,
          0.038,
          0.042,
          0.043,
          0.048,
          0.052,
          0.055,
          0.056,
          0.062,
          0.068,
          0.069,
          0.075,
          0.079,
          0.081,
          0.085,
          0.112,
          0.114,
          0.116,
          0.125,
          0.13,
          0.136,
          0.139,
          0.152,
          0.161,
          0.165,
          0.166,
          0.167,
          0.171,
          0.189,
          0.2,
          0.228,
          0.241,
          0.303,
          0.318,
          0.321,
          0.358
         ],
         "xaxis": "x",
         "y": [
          11.444641243455296,
          11.49117694896081,
          11.49117694896081,
          11.537712654466326,
          11.537712654466326,
          11.58424835997184,
          11.630784065477355,
          11.723855476488385,
          11.723855476488385,
          11.770391181993899,
          11.770391181993899,
          11.863462593004929,
          11.909998298510443,
          11.909998298510443,
          11.956534004015959,
          11.956534004015959,
          11.956534004015959,
          11.956534004015959,
          12.049605415026988,
          12.049605415026988,
          12.189212531543532,
          12.235748237049048,
          12.282283942554562,
          12.328819648060076,
          12.328819648060076,
          12.328819648060076,
          12.421891059071106,
          12.421891059071106,
          12.421891059071106,
          12.468426764576622,
          12.514962470082136,
          12.608033881093165,
          12.608033881093165,
          12.608033881093165,
          12.701105292104195,
          12.74764099760971,
          12.794176703115225,
          12.794176703115225,
          12.840712408620739,
          12.933783819631769,
          12.933783819631769,
          12.933783819631769,
          12.980319525137283,
          13.026855230642798,
          13.073390936148314,
          13.212998052664858,
          13.399140874686918,
          13.445676580192432,
          13.678355107720005,
          13.864497929742065,
          14.004105046258609,
          14.050640751764124,
          14.329854984797212,
          14.609069217830301,
          14.655604923335815,
          14.934819156368905,
          15.120961978390964,
          15.214033389401994,
          15.400176211424053,
          16.65664026007295,
          16.749711671083983,
          16.84278308209501,
          17.261604431644642,
          17.494282959172217,
          17.773497192205305,
          17.913104308721852,
          18.518068480293543,
          18.936889829843174,
          19.123032651865238,
          19.16956835737075,
          19.216104062876266,
          19.402246884898325,
          20.239889583997588,
          20.75178234455825,
          22.054782098712668,
          22.65974627028436,
          25.544960011626273,
          26.242995594209,
          26.382602710725543,
          28.104423814429587
         ],
         "yaxis": "y"
        },
        {
         "hovertemplate": "sex=Female<br>mental_hospitals_per_100k=%{x}<br>suicide_rate=%{y}<extra></extra>",
         "legendgroup": "Female",
         "marker": {
          "color": "#EF553B",
          "symbol": "circle"
         },
         "mode": "markers",
         "name": "Female",
         "orientation": "v",
         "showlegend": true,
         "type": "scatter",
         "x": [
          0.003,
          0.011,
          0.068,
          0.011,
          0.114,
          0.001,
          0.167,
          0.2,
          0.075,
          0.069,
          0.023,
          0.009,
          0.042,
          0.166,
          0.048,
          0.025,
          0.019,
          0.021,
          0.152,
          0.112,
          0.052,
          0.228,
          0.011,
          0.056,
          0.027,
          0.006,
          0.13,
          0.165,
          0.019,
          0.019,
          0.01,
          0.303,
          0.161,
          0.055,
          0.002,
          0.085,
          0.358,
          0.022,
          0.032,
          0.136,
          0.032,
          0.021,
          0.029,
          0.004,
          0.318,
          0.034,
          0.007,
          0.013,
          0.021,
          0.006,
          0.025,
          0.01,
          0.001,
          0.125,
          0.029,
          0.03,
          0.038,
          0.171,
          0.017,
          0.079,
          0.007,
          0.018,
          0.032,
          0.241,
          0.016,
          0.013,
          0.028,
          0.035,
          0,
          0.011,
          0.002,
          0.139,
          0.321,
          0.189,
          0.081,
          0.043,
          0.033,
          0.116,
          0.062,
          0.025
         ],
         "xaxis": "x",
         "y": [
          2.1,
          4.6,
          4.3,
          0.8,
          1,
          6.7,
          3.2,
          6.2,
          8.9,
          2.8,
          3.8,
          13,
          2.3,
          4.1,
          1.8,
          3.8,
          1.7,
          6.1,
          4.4,
          2.5,
          4.3,
          1.9,
          2.9,
          6.1,
          1.5,
          1.7,
          14.2,
          5.1,
          6.4,
          2.2,
          14.5,
          4.7,
          2.4,
          2.7,
          2.1,
          3.7,
          11.6,
          13,
          2.3,
          6.7,
          3.6,
          3.6,
          2.3,
          9.8,
          3.6,
          3.8,
          4.1,
          3.6,
          8,
          3.1,
          1.2,
          2.7,
          2.3,
          3.4,
          3.8,
          6.2,
          1.1,
          2.4,
          6,
          1.7,
          5.2,
          4.9,
          4.3,
          4.5,
          1.1,
          10.9,
          4.8,
          1.7,
          2.9,
          3.2,
          18.7,
          4.7,
          7.1,
          6.4,
          4.6,
          3.4,
          6.2,
          5.1,
          6.2,
          11.1
         ],
         "yaxis": "y"
        },
        {
         "hovertemplate": "<b>OLS trendline</b><br>suicide_rate = 1.92276 * mental_hospitals_per_100k + 4.70707<br>R<sup>2</sup>=0.002140<br><br>sex=Female<br>mental_hospitals_per_100k=%{x}<br>suicide_rate=%{y} <b>(trend)</b><extra></extra>",
         "legendgroup": "Female",
         "marker": {
          "color": "#EF553B",
          "symbol": "circle"
         },
         "mode": "lines",
         "name": "Female",
         "showlegend": false,
         "type": "scatter",
         "x": [
          0,
          0.001,
          0.001,
          0.002,
          0.002,
          0.003,
          0.004,
          0.006,
          0.006,
          0.007,
          0.007,
          0.009,
          0.01,
          0.01,
          0.011,
          0.011,
          0.011,
          0.011,
          0.013,
          0.013,
          0.016,
          0.017,
          0.018,
          0.019,
          0.019,
          0.019,
          0.021,
          0.021,
          0.021,
          0.022,
          0.023,
          0.025,
          0.025,
          0.025,
          0.027,
          0.028,
          0.029,
          0.029,
          0.03,
          0.032,
          0.032,
          0.032,
          0.033,
          0.034,
          0.035,
          0.038,
          0.042,
          0.043,
          0.048,
          0.052,
          0.055,
          0.056,
          0.062,
          0.068,
          0.069,
          0.075,
          0.079,
          0.081,
          0.085,
          0.112,
          0.114,
          0.116,
          0.125,
          0.13,
          0.136,
          0.139,
          0.152,
          0.161,
          0.165,
          0.166,
          0.167,
          0.171,
          0.189,
          0.2,
          0.228,
          0.241,
          0.303,
          0.318,
          0.321,
          0.358
         ],
         "xaxis": "x",
         "y": [
          4.707065465119293,
          4.7089882269277155,
          4.7089882269277155,
          4.710910988736137,
          4.710910988736137,
          4.712833750544559,
          4.71475651235298,
          4.718602035969823,
          4.718602035969823,
          4.720524797778245,
          4.720524797778245,
          4.724370321395089,
          4.726293083203511,
          4.726293083203511,
          4.728215845011932,
          4.728215845011932,
          4.728215845011932,
          4.728215845011932,
          4.732061368628775,
          4.732061368628775,
          4.737829654054041,
          4.739752415862463,
          4.741675177670884,
          4.743597939479306,
          4.743597939479306,
          4.743597939479306,
          4.7474434630961495,
          4.7474434630961495,
          4.7474434630961495,
          4.749366224904571,
          4.751288986712993,
          4.755134510329836,
          4.755134510329836,
          4.755134510329836,
          4.7589800339466795,
          4.760902795755102,
          4.762825557563523,
          4.762825557563523,
          4.764748319371945,
          4.768593842988788,
          4.768593842988788,
          4.768593842988788,
          4.770516604797209,
          4.7724393666056315,
          4.774362128414054,
          4.780130413839318,
          4.787821461073005,
          4.789744222881427,
          4.799358031923536,
          4.807049079157222,
          4.812817364582488,
          4.814740126390909,
          4.82627669724144,
          4.83781326809197,
          4.839736029900392,
          4.851272600750922,
          4.858963647984608,
          4.862809171601452,
          4.870500218835139,
          4.922414787662525,
          4.926260311279369,
          4.930105834896212,
          4.947410691172007,
          4.957024500214116,
          4.968561071064646,
          4.974329356489911,
          4.999325259999393,
          5.016630116275189,
          5.024321163508875,
          5.0262439253172975,
          5.028166687125719,
          5.035857734359406,
          5.070467446910997,
          5.091617826803636,
          5.145455157439443,
          5.170451060948926,
          5.289662293071071,
          5.3185037201973975,
          5.324272005622662,
          5.395414192534266
         ],
         "yaxis": "y"
        }
       ],
       "layout": {
        "legend": {
         "title": {
          "text": "sex"
         },
         "tracegroupgap": 0
        },
        "margin": {
         "t": 60
        },
        "template": {
         "data": {
          "bar": [
           {
            "error_x": {
             "color": "#2a3f5f"
            },
            "error_y": {
             "color": "#2a3f5f"
            },
            "marker": {
             "line": {
              "color": "#E5ECF6",
              "width": 0.5
             },
             "pattern": {
              "fillmode": "overlay",
              "size": 10,
              "solidity": 0.2
             }
            },
            "type": "bar"
           }
          ],
          "barpolar": [
           {
            "marker": {
             "line": {
              "color": "#E5ECF6",
              "width": 0.5
             },
             "pattern": {
              "fillmode": "overlay",
              "size": 10,
              "solidity": 0.2
             }
            },
            "type": "barpolar"
           }
          ],
          "carpet": [
           {
            "aaxis": {
             "endlinecolor": "#2a3f5f",
             "gridcolor": "white",
             "linecolor": "white",
             "minorgridcolor": "white",
             "startlinecolor": "#2a3f5f"
            },
            "baxis": {
             "endlinecolor": "#2a3f5f",
             "gridcolor": "white",
             "linecolor": "white",
             "minorgridcolor": "white",
             "startlinecolor": "#2a3f5f"
            },
            "type": "carpet"
           }
          ],
          "choropleth": [
           {
            "colorbar": {
             "outlinewidth": 0,
             "ticks": ""
            },
            "type": "choropleth"
           }
          ],
          "contour": [
           {
            "colorbar": {
             "outlinewidth": 0,
             "ticks": ""
            },
            "colorscale": [
             [
              0,
              "#0d0887"
             ],
             [
              0.1111111111111111,
              "#46039f"
             ],
             [
              0.2222222222222222,
              "#7201a8"
             ],
             [
              0.3333333333333333,
              "#9c179e"
             ],
             [
              0.4444444444444444,
              "#bd3786"
             ],
             [
              0.5555555555555556,
              "#d8576b"
             ],
             [
              0.6666666666666666,
              "#ed7953"
             ],
             [
              0.7777777777777778,
              "#fb9f3a"
             ],
             [
              0.8888888888888888,
              "#fdca26"
             ],
             [
              1,
              "#f0f921"
             ]
            ],
            "type": "contour"
           }
          ],
          "contourcarpet": [
           {
            "colorbar": {
             "outlinewidth": 0,
             "ticks": ""
            },
            "type": "contourcarpet"
           }
          ],
          "heatmap": [
           {
            "colorbar": {
             "outlinewidth": 0,
             "ticks": ""
            },
            "colorscale": [
             [
              0,
              "#0d0887"
             ],
             [
              0.1111111111111111,
              "#46039f"
             ],
             [
              0.2222222222222222,
              "#7201a8"
             ],
             [
              0.3333333333333333,
              "#9c179e"
             ],
             [
              0.4444444444444444,
              "#bd3786"
             ],
             [
              0.5555555555555556,
              "#d8576b"
             ],
             [
              0.6666666666666666,
              "#ed7953"
             ],
             [
              0.7777777777777778,
              "#fb9f3a"
             ],
             [
              0.8888888888888888,
              "#fdca26"
             ],
             [
              1,
              "#f0f921"
             ]
            ],
            "type": "heatmap"
           }
          ],
          "heatmapgl": [
           {
            "colorbar": {
             "outlinewidth": 0,
             "ticks": ""
            },
            "colorscale": [
             [
              0,
              "#0d0887"
             ],
             [
              0.1111111111111111,
              "#46039f"
             ],
             [
              0.2222222222222222,
              "#7201a8"
             ],
             [
              0.3333333333333333,
              "#9c179e"
             ],
             [
              0.4444444444444444,
              "#bd3786"
             ],
             [
              0.5555555555555556,
              "#d8576b"
             ],
             [
              0.6666666666666666,
              "#ed7953"
             ],
             [
              0.7777777777777778,
              "#fb9f3a"
             ],
             [
              0.8888888888888888,
              "#fdca26"
             ],
             [
              1,
              "#f0f921"
             ]
            ],
            "type": "heatmapgl"
           }
          ],
          "histogram": [
           {
            "marker": {
             "pattern": {
              "fillmode": "overlay",
              "size": 10,
              "solidity": 0.2
             }
            },
            "type": "histogram"
           }
          ],
          "histogram2d": [
           {
            "colorbar": {
             "outlinewidth": 0,
             "ticks": ""
            },
            "colorscale": [
             [
              0,
              "#0d0887"
             ],
             [
              0.1111111111111111,
              "#46039f"
             ],
             [
              0.2222222222222222,
              "#7201a8"
             ],
             [
              0.3333333333333333,
              "#9c179e"
             ],
             [
              0.4444444444444444,
              "#bd3786"
             ],
             [
              0.5555555555555556,
              "#d8576b"
             ],
             [
              0.6666666666666666,
              "#ed7953"
             ],
             [
              0.7777777777777778,
              "#fb9f3a"
             ],
             [
              0.8888888888888888,
              "#fdca26"
             ],
             [
              1,
              "#f0f921"
             ]
            ],
            "type": "histogram2d"
           }
          ],
          "histogram2dcontour": [
           {
            "colorbar": {
             "outlinewidth": 0,
             "ticks": ""
            },
            "colorscale": [
             [
              0,
              "#0d0887"
             ],
             [
              0.1111111111111111,
              "#46039f"
             ],
             [
              0.2222222222222222,
              "#7201a8"
             ],
             [
              0.3333333333333333,
              "#9c179e"
             ],
             [
              0.4444444444444444,
              "#bd3786"
             ],
             [
              0.5555555555555556,
              "#d8576b"
             ],
             [
              0.6666666666666666,
              "#ed7953"
             ],
             [
              0.7777777777777778,
              "#fb9f3a"
             ],
             [
              0.8888888888888888,
              "#fdca26"
             ],
             [
              1,
              "#f0f921"
             ]
            ],
            "type": "histogram2dcontour"
           }
          ],
          "mesh3d": [
           {
            "colorbar": {
             "outlinewidth": 0,
             "ticks": ""
            },
            "type": "mesh3d"
           }
          ],
          "parcoords": [
           {
            "line": {
             "colorbar": {
              "outlinewidth": 0,
              "ticks": ""
             }
            },
            "type": "parcoords"
           }
          ],
          "pie": [
           {
            "automargin": true,
            "type": "pie"
           }
          ],
          "scatter": [
           {
            "fillpattern": {
             "fillmode": "overlay",
             "size": 10,
             "solidity": 0.2
            },
            "type": "scatter"
           }
          ],
          "scatter3d": [
           {
            "line": {
             "colorbar": {
              "outlinewidth": 0,
              "ticks": ""
             }
            },
            "marker": {
             "colorbar": {
              "outlinewidth": 0,
              "ticks": ""
             }
            },
            "type": "scatter3d"
           }
          ],
          "scattercarpet": [
           {
            "marker": {
             "colorbar": {
              "outlinewidth": 0,
              "ticks": ""
             }
            },
            "type": "scattercarpet"
           }
          ],
          "scattergeo": [
           {
            "marker": {
             "colorbar": {
              "outlinewidth": 0,
              "ticks": ""
             }
            },
            "type": "scattergeo"
           }
          ],
          "scattergl": [
           {
            "marker": {
             "colorbar": {
              "outlinewidth": 0,
              "ticks": ""
             }
            },
            "type": "scattergl"
           }
          ],
          "scattermapbox": [
           {
            "marker": {
             "colorbar": {
              "outlinewidth": 0,
              "ticks": ""
             }
            },
            "type": "scattermapbox"
           }
          ],
          "scatterpolar": [
           {
            "marker": {
             "colorbar": {
              "outlinewidth": 0,
              "ticks": ""
             }
            },
            "type": "scatterpolar"
           }
          ],
          "scatterpolargl": [
           {
            "marker": {
             "colorbar": {
              "outlinewidth": 0,
              "ticks": ""
             }
            },
            "type": "scatterpolargl"
           }
          ],
          "scatterternary": [
           {
            "marker": {
             "colorbar": {
              "outlinewidth": 0,
              "ticks": ""
             }
            },
            "type": "scatterternary"
           }
          ],
          "surface": [
           {
            "colorbar": {
             "outlinewidth": 0,
             "ticks": ""
            },
            "colorscale": [
             [
              0,
              "#0d0887"
             ],
             [
              0.1111111111111111,
              "#46039f"
             ],
             [
              0.2222222222222222,
              "#7201a8"
             ],
             [
              0.3333333333333333,
              "#9c179e"
             ],
             [
              0.4444444444444444,
              "#bd3786"
             ],
             [
              0.5555555555555556,
              "#d8576b"
             ],
             [
              0.6666666666666666,
              "#ed7953"
             ],
             [
              0.7777777777777778,
              "#fb9f3a"
             ],
             [
              0.8888888888888888,
              "#fdca26"
             ],
             [
              1,
              "#f0f921"
             ]
            ],
            "type": "surface"
           }
          ],
          "table": [
           {
            "cells": {
             "fill": {
              "color": "#EBF0F8"
             },
             "line": {
              "color": "white"
             }
            },
            "header": {
             "fill": {
              "color": "#C8D4E3"
             },
             "line": {
              "color": "white"
             }
            },
            "type": "table"
           }
          ]
         },
         "layout": {
          "annotationdefaults": {
           "arrowcolor": "#2a3f5f",
           "arrowhead": 0,
           "arrowwidth": 1
          },
          "autotypenumbers": "strict",
          "coloraxis": {
           "colorbar": {
            "outlinewidth": 0,
            "ticks": ""
           }
          },
          "colorscale": {
           "diverging": [
            [
             0,
             "#8e0152"
            ],
            [
             0.1,
             "#c51b7d"
            ],
            [
             0.2,
             "#de77ae"
            ],
            [
             0.3,
             "#f1b6da"
            ],
            [
             0.4,
             "#fde0ef"
            ],
            [
             0.5,
             "#f7f7f7"
            ],
            [
             0.6,
             "#e6f5d0"
            ],
            [
             0.7,
             "#b8e186"
            ],
            [
             0.8,
             "#7fbc41"
            ],
            [
             0.9,
             "#4d9221"
            ],
            [
             1,
             "#276419"
            ]
           ],
           "sequential": [
            [
             0,
             "#0d0887"
            ],
            [
             0.1111111111111111,
             "#46039f"
            ],
            [
             0.2222222222222222,
             "#7201a8"
            ],
            [
             0.3333333333333333,
             "#9c179e"
            ],
            [
             0.4444444444444444,
             "#bd3786"
            ],
            [
             0.5555555555555556,
             "#d8576b"
            ],
            [
             0.6666666666666666,
             "#ed7953"
            ],
            [
             0.7777777777777778,
             "#fb9f3a"
            ],
            [
             0.8888888888888888,
             "#fdca26"
            ],
            [
             1,
             "#f0f921"
            ]
           ],
           "sequentialminus": [
            [
             0,
             "#0d0887"
            ],
            [
             0.1111111111111111,
             "#46039f"
            ],
            [
             0.2222222222222222,
             "#7201a8"
            ],
            [
             0.3333333333333333,
             "#9c179e"
            ],
            [
             0.4444444444444444,
             "#bd3786"
            ],
            [
             0.5555555555555556,
             "#d8576b"
            ],
            [
             0.6666666666666666,
             "#ed7953"
            ],
            [
             0.7777777777777778,
             "#fb9f3a"
            ],
            [
             0.8888888888888888,
             "#fdca26"
            ],
            [
             1,
             "#f0f921"
            ]
           ]
          },
          "colorway": [
           "#636efa",
           "#EF553B",
           "#00cc96",
           "#ab63fa",
           "#FFA15A",
           "#19d3f3",
           "#FF6692",
           "#B6E880",
           "#FF97FF",
           "#FECB52"
          ],
          "font": {
           "color": "#2a3f5f"
          },
          "geo": {
           "bgcolor": "white",
           "lakecolor": "white",
           "landcolor": "#E5ECF6",
           "showlakes": true,
           "showland": true,
           "subunitcolor": "white"
          },
          "hoverlabel": {
           "align": "left"
          },
          "hovermode": "closest",
          "mapbox": {
           "style": "light"
          },
          "paper_bgcolor": "white",
          "plot_bgcolor": "#E5ECF6",
          "polar": {
           "angularaxis": {
            "gridcolor": "white",
            "linecolor": "white",
            "ticks": ""
           },
           "bgcolor": "#E5ECF6",
           "radialaxis": {
            "gridcolor": "white",
            "linecolor": "white",
            "ticks": ""
           }
          },
          "scene": {
           "xaxis": {
            "backgroundcolor": "#E5ECF6",
            "gridcolor": "white",
            "gridwidth": 2,
            "linecolor": "white",
            "showbackground": true,
            "ticks": "",
            "zerolinecolor": "white"
           },
           "yaxis": {
            "backgroundcolor": "#E5ECF6",
            "gridcolor": "white",
            "gridwidth": 2,
            "linecolor": "white",
            "showbackground": true,
            "ticks": "",
            "zerolinecolor": "white"
           },
           "zaxis": {
            "backgroundcolor": "#E5ECF6",
            "gridcolor": "white",
            "gridwidth": 2,
            "linecolor": "white",
            "showbackground": true,
            "ticks": "",
            "zerolinecolor": "white"
           }
          },
          "shapedefaults": {
           "line": {
            "color": "#2a3f5f"
           }
          },
          "ternary": {
           "aaxis": {
            "gridcolor": "white",
            "linecolor": "white",
            "ticks": ""
           },
           "baxis": {
            "gridcolor": "white",
            "linecolor": "white",
            "ticks": ""
           },
           "bgcolor": "#E5ECF6",
           "caxis": {
            "gridcolor": "white",
            "linecolor": "white",
            "ticks": ""
           }
          },
          "title": {
           "x": 0.05
          },
          "xaxis": {
           "automargin": true,
           "gridcolor": "white",
           "linecolor": "white",
           "ticks": "",
           "title": {
            "standoff": 15
           },
           "zerolinecolor": "white",
           "zerolinewidth": 2
          },
          "yaxis": {
           "automargin": true,
           "gridcolor": "white",
           "linecolor": "white",
           "ticks": "",
           "title": {
            "standoff": 15
           },
           "zerolinecolor": "white",
           "zerolinewidth": 2
          }
         }
        },
        "xaxis": {
         "anchor": "y",
         "domain": [
          0,
          1
         ],
         "title": {
          "text": "mental_hospitals_per_100k"
         }
        },
        "yaxis": {
         "anchor": "x",
         "domain": [
          0,
          1
         ],
         "title": {
          "text": "suicide_rate"
         }
        }
       }
      }
     },
     "metadata": {},
     "output_type": "display_data"
    }
   ],
   "source": [
    "fig = px.scatter(df2016g[df2016g[\"mental_hospitals_per_100k\"] < 0.5], x=\"mental_hospitals_per_100k\", y=\"suicide_rate\", trendline=\"ols\", color=\"sex\")\n",
    "fig.show()"
   ]
  },
  {
   "attachments": {},
   "cell_type": "markdown",
   "metadata": {},
   "source": [
    "This seems like the most basic statistic there is, and that positive trend is worrying. Even if you look at that tempting river and cut it down to <0.1, the data make an annoying concave shape. But that's okay. This is a good time to mention that there are basically three \"genres of accommodation\" in the dataset:\n",
    "\n",
    "* Facilities (per 100 000 people: mental hospitals, *beds in* mental hospitals, mental health units in general hospitals, *beds for mental health in* general hospitals, mental health outpatient facilities, mental health day treatment facilities, community residential facilities, and *beds in* community residential facilities)\n",
    "* People (working in the mental health sector, per 100 000 people: psychiatrists, nurses, social workers, and psychologists)\n",
    "* Government (fraction of government expenditure on mental health which was on mental hospitals, whether the country has a standalone law for mental health, when this law was enacted, whether the country has a standalone policy or plan for mental health, and when this policy was published)\n",
    "\n",
    "Surely the number of beds is a better measure than the number of facilities, right?"
   ]
  },
  {
   "cell_type": "code",
   "execution_count": 11,
   "metadata": {},
   "outputs": [
    {
     "data": {
      "application/vnd.plotly.v1+json": {
       "config": {
        "plotlyServerURL": "https://plot.ly"
       },
       "data": [
        {
         "hovertemplate": "sex=Male<br>mental_h_beds_per_100k=%{x}<br>suicide_rate=%{y}<extra></extra>",
         "legendgroup": "Male",
         "marker": {
          "color": "#636efa",
          "symbol": "circle"
         },
         "mode": "markers",
         "name": "Male",
         "orientation": "v",
         "showlegend": true,
         "type": "scatter",
         "x": [
          0.296,
          0.585,
          16.762,
          0.896,
          40.566,
          31.193,
          0,
          0.434,
          33.201,
          9.792,
          0,
          3.125,
          16.743,
          43.223,
          10.456,
          0.811,
          7.038,
          4.126,
          8.74,
          11.209,
          6.217,
          36.72,
          2.9,
          2.033,
          10.653,
          2.129,
          20.039,
          1.951,
          1.426,
          21.659,
          18.168,
          35.228,
          6.649,
          1.482,
          27.705,
          1.6,
          40.178,
          4.175,
          0.854,
          3.06,
          2.672,
          46.484,
          18.476,
          0.439,
          11.054,
          0.576,
          2.472,
          3.779,
          3.197,
          4.129,
          30.466,
          5.701,
          5.106,
          2.483,
          3.44,
          17.115,
          0.935,
          34.867,
          5.687,
          31.095,
          42.67,
          5.338,
          1.618,
          6.464,
          10.294,
          5.158,
          1.245,
          41.818,
          18.66,
          24.613,
          8.103,
          5.161,
          3.801,
          16.556,
          1.304,
          11.497
         ],
         "xaxis": "x",
         "y": [
          10.6,
          14,
          7,
          3.5,
          15,
          4.3,
          22.4,
          5.5,
          13.1,
          9.7,
          6.2,
          16,
          12.8,
          16.4,
          4.9,
          10.7,
          7.2,
          22.4,
          25.6,
          8.8,
          15,
          12.3,
          15.8,
          8.9,
          6.1,
          4.4,
          46.6,
          18.3,
          18.5,
          17.6,
          21.7,
          8.2,
          4.7,
          9.7,
          14.8,
          13.8,
          47.5,
          2.5,
          10.5,
          8.2,
          6.3,
          12.6,
          23.3,
          14,
          8.7,
          11.4,
          3,
          7.6,
          7.6,
          5.2,
          23.9,
          14.3,
          12.3,
          7.3,
          16.9,
          4.6,
          20.3,
          11.1,
          24.8,
          15.8,
          15,
          3.8,
          22.7,
          21.4,
          5,
          11.3,
          21.2,
          26.8,
          21.1,
          10.3,
          10.8,
          8.7,
          13.4,
          21.7,
          17.5,
          29.1
         ],
         "yaxis": "y"
        },
        {
         "hovertemplate": "<b>OLS trendline</b><br>suicide_rate = 0.171268 * mental_h_beds_per_100k + 11.7722<br>R<sup>2</sup>=0.071624<br><br>sex=Male<br>mental_h_beds_per_100k=%{x}<br>suicide_rate=%{y} <b>(trend)</b><extra></extra>",
         "legendgroup": "Male",
         "marker": {
          "color": "#636efa",
          "symbol": "circle"
         },
         "mode": "lines",
         "name": "Male",
         "showlegend": false,
         "type": "scatter",
         "x": [
          0,
          0,
          0.296,
          0.434,
          0.439,
          0.576,
          0.585,
          0.811,
          0.854,
          0.896,
          0.935,
          1.245,
          1.304,
          1.426,
          1.482,
          1.6,
          1.618,
          1.951,
          2.033,
          2.129,
          2.472,
          2.483,
          2.672,
          2.9,
          3.06,
          3.125,
          3.197,
          3.44,
          3.779,
          3.801,
          4.126,
          4.129,
          4.175,
          5.106,
          5.158,
          5.161,
          5.338,
          5.687,
          5.701,
          6.217,
          6.464,
          6.649,
          7.038,
          8.103,
          8.74,
          9.792,
          10.294,
          10.456,
          10.653,
          11.054,
          11.209,
          11.497,
          16.556,
          16.743,
          16.762,
          17.115,
          18.168,
          18.476,
          18.66,
          20.039,
          21.659,
          24.613,
          27.705,
          30.466,
          31.095,
          31.193,
          33.201,
          34.867,
          35.228,
          36.72,
          40.178,
          40.566,
          41.818,
          42.67,
          43.223,
          46.484
         ],
         "xaxis": "x",
         "y": [
          11.772249651972684,
          11.772249651972684,
          11.822945052414953,
          11.846580070188715,
          11.847436411412401,
          11.870900160941424,
          11.872441575144062,
          11.911148198454713,
          11.91851273297842,
          11.925705999257392,
          11.93238546080215,
          11.985478616670743,
          11.99558344311025,
          12.016478168968213,
          12.026069190673507,
          12.04627884355252,
          12.049361671957792,
          12.106393997455346,
          12.120437993523812,
          12.136879745018602,
          12.19562475296353,
          12.197508703655641,
          12.229878401911009,
          12.268927561711136,
          12.29633048086912,
          12.30746291677705,
          12.319794230398143,
          12.36141241386933,
          12.419472348835308,
          12.42324025021953,
          12.478902429759184,
          12.479416234493396,
          12.487294573751317,
          12.646745309601833,
          12.655651258328179,
          12.65616506306239,
          12.68647954238091,
          12.746252159794262,
          12.748649915220584,
          12.837024329505082,
          12.879327585955219,
          12.911012211231638,
          12.977635558434486,
          13.160036239079812,
          13.269134110977534,
          13.449308304441276,
          13.53528496329945,
          13.563030418946909,
          13.596770263160176,
          13.665448829299871,
          13.691995407234167,
          13.741320661718538,
          14.60776671184503,
          14.639793873610923,
          14.643047970260934,
          14.703505660653235,
          14.883851122361714,
          14.936601741740832,
          14.968115098772513,
          15.204294008265384,
          15.481748564739966,
          15.987674959694239,
          16.517236372422268,
          16.99010799614222,
          17.097835722082046,
          17.11462001006631,
          17.458526645499003,
          17.743859541231508,
          17.80568737758171,
          18.061219598729902,
          18.65346518903182,
          18.719917267989935,
          18.934345110401154,
          19.080265654917415,
          19.174976994257197,
          19.73348274034585
         ],
         "yaxis": "y"
        },
        {
         "hovertemplate": "sex=Female<br>mental_h_beds_per_100k=%{x}<br>suicide_rate=%{y}<extra></extra>",
         "legendgroup": "Female",
         "marker": {
          "color": "#EF553B",
          "symbol": "circle"
         },
         "mode": "markers",
         "name": "Female",
         "orientation": "v",
         "showlegend": true,
         "type": "scatter",
         "x": [
          0.296,
          0.585,
          16.762,
          0.896,
          40.566,
          31.193,
          0,
          0.434,
          33.201,
          9.792,
          0,
          3.125,
          16.743,
          43.223,
          10.456,
          0.811,
          7.038,
          4.126,
          8.74,
          11.209,
          6.217,
          36.72,
          2.9,
          2.033,
          10.653,
          2.129,
          20.039,
          1.951,
          1.426,
          21.659,
          18.168,
          35.228,
          6.649,
          1.482,
          27.705,
          1.6,
          40.178,
          4.175,
          0.854,
          3.06,
          2.672,
          46.484,
          18.476,
          0.439,
          11.054,
          0.576,
          2.472,
          3.779,
          3.197,
          4.129,
          30.466,
          5.701,
          5.106,
          2.483,
          3.44,
          17.115,
          0.935,
          34.867,
          5.687,
          31.095,
          42.67,
          5.338,
          1.618,
          6.464,
          10.294,
          5.158,
          1.245,
          41.818,
          18.66,
          24.613,
          8.103,
          5.161,
          3.801,
          16.556,
          1.304,
          11.497
         ],
         "xaxis": "x",
         "y": [
          2.1,
          4.6,
          4.3,
          0.8,
          3.5,
          1,
          9.1,
          6.7,
          3.2,
          2.8,
          2.8,
          3.8,
          2.3,
          4.1,
          1.8,
          3.8,
          1.7,
          6.1,
          4.4,
          2.5,
          4.3,
          1.9,
          2.9,
          6.1,
          1.5,
          1.7,
          14.2,
          6.4,
          14.5,
          4.2,
          4.7,
          2.4,
          2.7,
          2.1,
          3.7,
          13,
          6.7,
          3.6,
          3.6,
          2.3,
          9.8,
          3.6,
          3.8,
          4.1,
          3.6,
          8,
          3.1,
          1.2,
          2.7,
          2.3,
          3.4,
          3.8,
          6.2,
          1.1,
          6,
          1.7,
          5.2,
          4.9,
          4.3,
          7.4,
          2.1,
          1.1,
          10.9,
          4.8,
          1.7,
          3.2,
          18.7,
          7.1,
          6.4,
          4.6,
          3.4,
          2.2,
          6.2,
          5.1,
          6.2,
          11.1
         ],
         "yaxis": "y"
        },
        {
         "hovertemplate": "<b>OLS trendline</b><br>suicide_rate = -0.030038 * mental_h_beds_per_100k + 5.03276<br>R<sup>2</sup>=0.014207<br><br>sex=Female<br>mental_h_beds_per_100k=%{x}<br>suicide_rate=%{y} <b>(trend)</b><extra></extra>",
         "legendgroup": "Female",
         "marker": {
          "color": "#EF553B",
          "symbol": "circle"
         },
         "mode": "lines",
         "name": "Female",
         "showlegend": false,
         "type": "scatter",
         "x": [
          0,
          0,
          0.296,
          0.434,
          0.439,
          0.576,
          0.585,
          0.811,
          0.854,
          0.896,
          0.935,
          1.245,
          1.304,
          1.426,
          1.482,
          1.6,
          1.618,
          1.951,
          2.033,
          2.129,
          2.472,
          2.483,
          2.672,
          2.9,
          3.06,
          3.125,
          3.197,
          3.44,
          3.779,
          3.801,
          4.126,
          4.129,
          4.175,
          5.106,
          5.158,
          5.161,
          5.338,
          5.687,
          5.701,
          6.217,
          6.464,
          6.649,
          7.038,
          8.103,
          8.74,
          9.792,
          10.294,
          10.456,
          10.653,
          11.054,
          11.209,
          11.497,
          16.556,
          16.743,
          16.762,
          17.115,
          18.168,
          18.476,
          18.66,
          20.039,
          21.659,
          24.613,
          27.705,
          30.466,
          31.095,
          31.193,
          33.201,
          34.867,
          35.228,
          36.72,
          40.178,
          40.566,
          41.818,
          42.67,
          43.223,
          46.484
         ],
         "xaxis": "x",
         "y": [
          5.032760330444238,
          5.032760330444238,
          5.023869072033824,
          5.019723823180319,
          5.019573633004468,
          5.015458422186134,
          5.015188079869601,
          5.008399483921109,
          5.007107848408785,
          5.005846250931632,
          5.004674767559989,
          4.995362976657191,
          4.993590732582142,
          4.989926092291363,
          4.988243962321825,
          4.984699474171727,
          4.984158789538661,
          4.974156123826945,
          4.971693004942979,
          4.968809353566629,
          4.9585063075032085,
          4.958175889116335,
          4.952498700469145,
          4.945650028450312,
          4.9408439428230615,
          4.938891470536991,
          4.9367287320047275,
          4.9294294894583395,
          4.9192465955356015,
          4.918585758761854,
          4.908823397331501,
          4.90873328322599,
          4.907351533608155,
          4.879386122864588,
          4.877824145035731,
          4.87773403093022,
          4.872417298705074,
          4.861934024430632,
          4.861513491938248,
          4.846013865790363,
          4.838594471103295,
          4.833037434596785,
          4.821352638915531,
          4.789362131459141,
          4.770227903055648,
          4.738627890056472,
          4.723548796400972,
          4.71868263470338,
          4.7127651417748275,
          4.700719889671529,
          4.69606399422013,
          4.687413040091078,
          4.535450620164433,
          4.5298335075875835,
          4.529262784919347,
          4.518659358504225,
          4.487029307469879,
          4.47777759263742,
          4.4722505941660815,
          4.430828143666211,
          4.382166526690294,
          4.293434170797171,
          4.200556566050544,
          4.117621550945293,
          4.098727626823162,
          4.09578389937647,
          4.03546752475447,
          3.9854241581607175,
          3.9745804274642325,
          3.929763678990116,
          3.8258921533711527,
          3.814237395725068,
          3.776629775691829,
          3.751037369726717,
          3.7344263362775303,
          3.6364723035871194
         ],
         "yaxis": "y"
        }
       ],
       "layout": {
        "legend": {
         "title": {
          "text": "sex"
         },
         "tracegroupgap": 0
        },
        "margin": {
         "t": 60
        },
        "template": {
         "data": {
          "bar": [
           {
            "error_x": {
             "color": "#2a3f5f"
            },
            "error_y": {
             "color": "#2a3f5f"
            },
            "marker": {
             "line": {
              "color": "#E5ECF6",
              "width": 0.5
             },
             "pattern": {
              "fillmode": "overlay",
              "size": 10,
              "solidity": 0.2
             }
            },
            "type": "bar"
           }
          ],
          "barpolar": [
           {
            "marker": {
             "line": {
              "color": "#E5ECF6",
              "width": 0.5
             },
             "pattern": {
              "fillmode": "overlay",
              "size": 10,
              "solidity": 0.2
             }
            },
            "type": "barpolar"
           }
          ],
          "carpet": [
           {
            "aaxis": {
             "endlinecolor": "#2a3f5f",
             "gridcolor": "white",
             "linecolor": "white",
             "minorgridcolor": "white",
             "startlinecolor": "#2a3f5f"
            },
            "baxis": {
             "endlinecolor": "#2a3f5f",
             "gridcolor": "white",
             "linecolor": "white",
             "minorgridcolor": "white",
             "startlinecolor": "#2a3f5f"
            },
            "type": "carpet"
           }
          ],
          "choropleth": [
           {
            "colorbar": {
             "outlinewidth": 0,
             "ticks": ""
            },
            "type": "choropleth"
           }
          ],
          "contour": [
           {
            "colorbar": {
             "outlinewidth": 0,
             "ticks": ""
            },
            "colorscale": [
             [
              0,
              "#0d0887"
             ],
             [
              0.1111111111111111,
              "#46039f"
             ],
             [
              0.2222222222222222,
              "#7201a8"
             ],
             [
              0.3333333333333333,
              "#9c179e"
             ],
             [
              0.4444444444444444,
              "#bd3786"
             ],
             [
              0.5555555555555556,
              "#d8576b"
             ],
             [
              0.6666666666666666,
              "#ed7953"
             ],
             [
              0.7777777777777778,
              "#fb9f3a"
             ],
             [
              0.8888888888888888,
              "#fdca26"
             ],
             [
              1,
              "#f0f921"
             ]
            ],
            "type": "contour"
           }
          ],
          "contourcarpet": [
           {
            "colorbar": {
             "outlinewidth": 0,
             "ticks": ""
            },
            "type": "contourcarpet"
           }
          ],
          "heatmap": [
           {
            "colorbar": {
             "outlinewidth": 0,
             "ticks": ""
            },
            "colorscale": [
             [
              0,
              "#0d0887"
             ],
             [
              0.1111111111111111,
              "#46039f"
             ],
             [
              0.2222222222222222,
              "#7201a8"
             ],
             [
              0.3333333333333333,
              "#9c179e"
             ],
             [
              0.4444444444444444,
              "#bd3786"
             ],
             [
              0.5555555555555556,
              "#d8576b"
             ],
             [
              0.6666666666666666,
              "#ed7953"
             ],
             [
              0.7777777777777778,
              "#fb9f3a"
             ],
             [
              0.8888888888888888,
              "#fdca26"
             ],
             [
              1,
              "#f0f921"
             ]
            ],
            "type": "heatmap"
           }
          ],
          "heatmapgl": [
           {
            "colorbar": {
             "outlinewidth": 0,
             "ticks": ""
            },
            "colorscale": [
             [
              0,
              "#0d0887"
             ],
             [
              0.1111111111111111,
              "#46039f"
             ],
             [
              0.2222222222222222,
              "#7201a8"
             ],
             [
              0.3333333333333333,
              "#9c179e"
             ],
             [
              0.4444444444444444,
              "#bd3786"
             ],
             [
              0.5555555555555556,
              "#d8576b"
             ],
             [
              0.6666666666666666,
              "#ed7953"
             ],
             [
              0.7777777777777778,
              "#fb9f3a"
             ],
             [
              0.8888888888888888,
              "#fdca26"
             ],
             [
              1,
              "#f0f921"
             ]
            ],
            "type": "heatmapgl"
           }
          ],
          "histogram": [
           {
            "marker": {
             "pattern": {
              "fillmode": "overlay",
              "size": 10,
              "solidity": 0.2
             }
            },
            "type": "histogram"
           }
          ],
          "histogram2d": [
           {
            "colorbar": {
             "outlinewidth": 0,
             "ticks": ""
            },
            "colorscale": [
             [
              0,
              "#0d0887"
             ],
             [
              0.1111111111111111,
              "#46039f"
             ],
             [
              0.2222222222222222,
              "#7201a8"
             ],
             [
              0.3333333333333333,
              "#9c179e"
             ],
             [
              0.4444444444444444,
              "#bd3786"
             ],
             [
              0.5555555555555556,
              "#d8576b"
             ],
             [
              0.6666666666666666,
              "#ed7953"
             ],
             [
              0.7777777777777778,
              "#fb9f3a"
             ],
             [
              0.8888888888888888,
              "#fdca26"
             ],
             [
              1,
              "#f0f921"
             ]
            ],
            "type": "histogram2d"
           }
          ],
          "histogram2dcontour": [
           {
            "colorbar": {
             "outlinewidth": 0,
             "ticks": ""
            },
            "colorscale": [
             [
              0,
              "#0d0887"
             ],
             [
              0.1111111111111111,
              "#46039f"
             ],
             [
              0.2222222222222222,
              "#7201a8"
             ],
             [
              0.3333333333333333,
              "#9c179e"
             ],
             [
              0.4444444444444444,
              "#bd3786"
             ],
             [
              0.5555555555555556,
              "#d8576b"
             ],
             [
              0.6666666666666666,
              "#ed7953"
             ],
             [
              0.7777777777777778,
              "#fb9f3a"
             ],
             [
              0.8888888888888888,
              "#fdca26"
             ],
             [
              1,
              "#f0f921"
             ]
            ],
            "type": "histogram2dcontour"
           }
          ],
          "mesh3d": [
           {
            "colorbar": {
             "outlinewidth": 0,
             "ticks": ""
            },
            "type": "mesh3d"
           }
          ],
          "parcoords": [
           {
            "line": {
             "colorbar": {
              "outlinewidth": 0,
              "ticks": ""
             }
            },
            "type": "parcoords"
           }
          ],
          "pie": [
           {
            "automargin": true,
            "type": "pie"
           }
          ],
          "scatter": [
           {
            "fillpattern": {
             "fillmode": "overlay",
             "size": 10,
             "solidity": 0.2
            },
            "type": "scatter"
           }
          ],
          "scatter3d": [
           {
            "line": {
             "colorbar": {
              "outlinewidth": 0,
              "ticks": ""
             }
            },
            "marker": {
             "colorbar": {
              "outlinewidth": 0,
              "ticks": ""
             }
            },
            "type": "scatter3d"
           }
          ],
          "scattercarpet": [
           {
            "marker": {
             "colorbar": {
              "outlinewidth": 0,
              "ticks": ""
             }
            },
            "type": "scattercarpet"
           }
          ],
          "scattergeo": [
           {
            "marker": {
             "colorbar": {
              "outlinewidth": 0,
              "ticks": ""
             }
            },
            "type": "scattergeo"
           }
          ],
          "scattergl": [
           {
            "marker": {
             "colorbar": {
              "outlinewidth": 0,
              "ticks": ""
             }
            },
            "type": "scattergl"
           }
          ],
          "scattermapbox": [
           {
            "marker": {
             "colorbar": {
              "outlinewidth": 0,
              "ticks": ""
             }
            },
            "type": "scattermapbox"
           }
          ],
          "scatterpolar": [
           {
            "marker": {
             "colorbar": {
              "outlinewidth": 0,
              "ticks": ""
             }
            },
            "type": "scatterpolar"
           }
          ],
          "scatterpolargl": [
           {
            "marker": {
             "colorbar": {
              "outlinewidth": 0,
              "ticks": ""
             }
            },
            "type": "scatterpolargl"
           }
          ],
          "scatterternary": [
           {
            "marker": {
             "colorbar": {
              "outlinewidth": 0,
              "ticks": ""
             }
            },
            "type": "scatterternary"
           }
          ],
          "surface": [
           {
            "colorbar": {
             "outlinewidth": 0,
             "ticks": ""
            },
            "colorscale": [
             [
              0,
              "#0d0887"
             ],
             [
              0.1111111111111111,
              "#46039f"
             ],
             [
              0.2222222222222222,
              "#7201a8"
             ],
             [
              0.3333333333333333,
              "#9c179e"
             ],
             [
              0.4444444444444444,
              "#bd3786"
             ],
             [
              0.5555555555555556,
              "#d8576b"
             ],
             [
              0.6666666666666666,
              "#ed7953"
             ],
             [
              0.7777777777777778,
              "#fb9f3a"
             ],
             [
              0.8888888888888888,
              "#fdca26"
             ],
             [
              1,
              "#f0f921"
             ]
            ],
            "type": "surface"
           }
          ],
          "table": [
           {
            "cells": {
             "fill": {
              "color": "#EBF0F8"
             },
             "line": {
              "color": "white"
             }
            },
            "header": {
             "fill": {
              "color": "#C8D4E3"
             },
             "line": {
              "color": "white"
             }
            },
            "type": "table"
           }
          ]
         },
         "layout": {
          "annotationdefaults": {
           "arrowcolor": "#2a3f5f",
           "arrowhead": 0,
           "arrowwidth": 1
          },
          "autotypenumbers": "strict",
          "coloraxis": {
           "colorbar": {
            "outlinewidth": 0,
            "ticks": ""
           }
          },
          "colorscale": {
           "diverging": [
            [
             0,
             "#8e0152"
            ],
            [
             0.1,
             "#c51b7d"
            ],
            [
             0.2,
             "#de77ae"
            ],
            [
             0.3,
             "#f1b6da"
            ],
            [
             0.4,
             "#fde0ef"
            ],
            [
             0.5,
             "#f7f7f7"
            ],
            [
             0.6,
             "#e6f5d0"
            ],
            [
             0.7,
             "#b8e186"
            ],
            [
             0.8,
             "#7fbc41"
            ],
            [
             0.9,
             "#4d9221"
            ],
            [
             1,
             "#276419"
            ]
           ],
           "sequential": [
            [
             0,
             "#0d0887"
            ],
            [
             0.1111111111111111,
             "#46039f"
            ],
            [
             0.2222222222222222,
             "#7201a8"
            ],
            [
             0.3333333333333333,
             "#9c179e"
            ],
            [
             0.4444444444444444,
             "#bd3786"
            ],
            [
             0.5555555555555556,
             "#d8576b"
            ],
            [
             0.6666666666666666,
             "#ed7953"
            ],
            [
             0.7777777777777778,
             "#fb9f3a"
            ],
            [
             0.8888888888888888,
             "#fdca26"
            ],
            [
             1,
             "#f0f921"
            ]
           ],
           "sequentialminus": [
            [
             0,
             "#0d0887"
            ],
            [
             0.1111111111111111,
             "#46039f"
            ],
            [
             0.2222222222222222,
             "#7201a8"
            ],
            [
             0.3333333333333333,
             "#9c179e"
            ],
            [
             0.4444444444444444,
             "#bd3786"
            ],
            [
             0.5555555555555556,
             "#d8576b"
            ],
            [
             0.6666666666666666,
             "#ed7953"
            ],
            [
             0.7777777777777778,
             "#fb9f3a"
            ],
            [
             0.8888888888888888,
             "#fdca26"
            ],
            [
             1,
             "#f0f921"
            ]
           ]
          },
          "colorway": [
           "#636efa",
           "#EF553B",
           "#00cc96",
           "#ab63fa",
           "#FFA15A",
           "#19d3f3",
           "#FF6692",
           "#B6E880",
           "#FF97FF",
           "#FECB52"
          ],
          "font": {
           "color": "#2a3f5f"
          },
          "geo": {
           "bgcolor": "white",
           "lakecolor": "white",
           "landcolor": "#E5ECF6",
           "showlakes": true,
           "showland": true,
           "subunitcolor": "white"
          },
          "hoverlabel": {
           "align": "left"
          },
          "hovermode": "closest",
          "mapbox": {
           "style": "light"
          },
          "paper_bgcolor": "white",
          "plot_bgcolor": "#E5ECF6",
          "polar": {
           "angularaxis": {
            "gridcolor": "white",
            "linecolor": "white",
            "ticks": ""
           },
           "bgcolor": "#E5ECF6",
           "radialaxis": {
            "gridcolor": "white",
            "linecolor": "white",
            "ticks": ""
           }
          },
          "scene": {
           "xaxis": {
            "backgroundcolor": "#E5ECF6",
            "gridcolor": "white",
            "gridwidth": 2,
            "linecolor": "white",
            "showbackground": true,
            "ticks": "",
            "zerolinecolor": "white"
           },
           "yaxis": {
            "backgroundcolor": "#E5ECF6",
            "gridcolor": "white",
            "gridwidth": 2,
            "linecolor": "white",
            "showbackground": true,
            "ticks": "",
            "zerolinecolor": "white"
           },
           "zaxis": {
            "backgroundcolor": "#E5ECF6",
            "gridcolor": "white",
            "gridwidth": 2,
            "linecolor": "white",
            "showbackground": true,
            "ticks": "",
            "zerolinecolor": "white"
           }
          },
          "shapedefaults": {
           "line": {
            "color": "#2a3f5f"
           }
          },
          "ternary": {
           "aaxis": {
            "gridcolor": "white",
            "linecolor": "white",
            "ticks": ""
           },
           "baxis": {
            "gridcolor": "white",
            "linecolor": "white",
            "ticks": ""
           },
           "bgcolor": "#E5ECF6",
           "caxis": {
            "gridcolor": "white",
            "linecolor": "white",
            "ticks": ""
           }
          },
          "title": {
           "x": 0.05
          },
          "xaxis": {
           "automargin": true,
           "gridcolor": "white",
           "linecolor": "white",
           "ticks": "",
           "title": {
            "standoff": 15
           },
           "zerolinecolor": "white",
           "zerolinewidth": 2
          },
          "yaxis": {
           "automargin": true,
           "gridcolor": "white",
           "linecolor": "white",
           "ticks": "",
           "title": {
            "standoff": 15
           },
           "zerolinecolor": "white",
           "zerolinewidth": 2
          }
         }
        },
        "xaxis": {
         "anchor": "y",
         "domain": [
          0,
          1
         ],
         "title": {
          "text": "mental_h_beds_per_100k"
         }
        },
        "yaxis": {
         "anchor": "x",
         "domain": [
          0,
          1
         ],
         "title": {
          "text": "suicide_rate"
         }
        }
       }
      }
     },
     "metadata": {},
     "output_type": "display_data"
    }
   ],
   "source": [
    "fig = px.scatter(df2016g[df2016g[\"mental_h_beds_per_100k\"] < 50], x=\"mental_h_beds_per_100k\", y=\"suicide_rate\", trendline=\"ols\", color=\"sex\")\n",
    "fig.show()"
   ]
  },
  {
   "attachments": {},
   "cell_type": "markdown",
   "metadata": {},
   "source": [
    "It's another positive trend for males and a lack of a trend for females. A milder case, but still. And there's another even more tempting place than last time to cut off the already cut off data that makes the figure look even more useless. I know this is the opposite of data, but here's an anecdote I don't remember the details of: I saw someone saying they lied to a doctor or psychologist of some kind to avoid being put in a mental hospital because it wouldn't have been good for them. Seems like they aren't the only one. Or countries with a bigger problem will tend to have more accommodations and this entire analysis is useless, but let's not make that our base assumption."
   ]
  },
  {
   "cell_type": "code",
   "execution_count": 12,
   "metadata": {},
   "outputs": [
    {
     "data": {
      "application/vnd.plotly.v1+json": {
       "config": {
        "plotlyServerURL": "https://plot.ly"
       },
       "data": [
        {
         "hovertemplate": "general_h_beds_per_100k=%{x}<br>suicide_rate=%{y}<extra></extra>",
         "legendgroup": "",
         "marker": {
          "color": "#636efa",
          "symbol": "circle"
         },
         "mode": "markers",
         "name": "",
         "orientation": "v",
         "showlegend": false,
         "type": "scatter",
         "x": [
          0.296,
          0.187,
          4.276,
          2.993,
          2.718,
          1.714,
          0.416,
          0.668,
          0.315,
          13.807,
          3.215,
          4.453,
          0.565,
          8.382,
          1.27,
          5.241,
          1.001,
          0,
          0.79,
          0.541,
          1.507,
          0.038,
          0.413,
          2.354,
          2.531,
          3.285,
          0.513,
          5.696,
          18.723,
          0.111,
          0.781,
          16.501,
          0.037,
          0.56,
          21.659,
          4.179,
          0.415,
          1.059,
          1.603,
          0.032,
          11.156,
          0.333,
          2.054,
          0.466,
          0.027,
          0.315,
          0.555,
          4.298,
          3.258,
          1.978,
          12.657,
          0.521,
          1.183,
          18.788,
          3.274,
          5.996,
          0.405,
          1.324,
          15.583,
          11.825,
          0.241,
          0.458,
          0.344,
          0.317,
          0.581,
          1.228,
          0.253,
          0.101,
          16.364,
          9.543,
          0.267,
          0.014,
          0.404,
          0.377,
          6.551,
          24.444,
          4.673,
          0.087,
          1.919,
          8.16,
          11.143,
          0.371,
          0.192,
          1.512,
          5.161,
          0,
          4.33,
          1.863,
          1.014
         ],
         "xaxis": "x",
         "y": [
          6.4,
          8.9,
          5.6,
          2.7,
          9.1,
          5.7,
          2.6,
          14.8,
          6.1,
          7.9,
          21.4,
          5.9,
          6.1,
          4.5,
          11.6,
          9.7,
          9.3,
          7,
          7.5,
          10.5,
          3.3,
          4.4,
          13.8,
          5.5,
          6.7,
          8.7,
          10.5,
          3.8,
          1.7,
          2.9,
          30.2,
          11.5,
          12.2,
          16.5,
          10.9,
          5.2,
          3.7,
          5.6,
          9.1,
          5.9,
          20.2,
          13.4,
          3.1,
          6.9,
          5.2,
          8.9,
          8.1,
          7.9,
          13.3,
          8.4,
          11.5,
          9,
          9.6,
          11.6,
          3.1,
          4.4,
          5.1,
          3.7,
          13.4,
          8.6,
          9.3,
          5.8,
          11,
          3.4,
          11.8,
          7.9,
          13.5,
          6.1,
          3.1,
          13.3,
          2.4,
          15.5,
          16.6,
          12.9,
          3.3,
          4,
          7.2,
          20,
          18.5,
          16.5,
          13.7,
          7.4,
          7,
          5.4,
          5.4,
          9.8,
          12.8,
          11.3,
          19.1
         ],
         "yaxis": "y"
        },
        {
         "hovertemplate": "<b>OLS trendline</b><br>suicide_rate = -0.0203714 * general_h_beds_per_100k + 9.11886<br>R<sup>2</sup>=0.000478<br><br>general_h_beds_per_100k=%{x}<br>suicide_rate=%{y} <b>(trend)</b><extra></extra>",
         "legendgroup": "",
         "marker": {
          "color": "#636efa",
          "symbol": "circle"
         },
         "mode": "lines",
         "name": "",
         "showlegend": false,
         "type": "scatter",
         "x": [
          0,
          0,
          0.014,
          0.027,
          0.032,
          0.037,
          0.038,
          0.087,
          0.101,
          0.111,
          0.187,
          0.192,
          0.241,
          0.253,
          0.267,
          0.296,
          0.315,
          0.315,
          0.317,
          0.333,
          0.344,
          0.371,
          0.377,
          0.404,
          0.405,
          0.413,
          0.415,
          0.416,
          0.458,
          0.466,
          0.513,
          0.521,
          0.541,
          0.555,
          0.56,
          0.565,
          0.581,
          0.668,
          0.781,
          0.79,
          1.001,
          1.014,
          1.059,
          1.183,
          1.228,
          1.27,
          1.324,
          1.507,
          1.512,
          1.603,
          1.714,
          1.863,
          1.919,
          1.978,
          2.054,
          2.354,
          2.531,
          2.718,
          2.993,
          3.215,
          3.258,
          3.274,
          3.285,
          4.179,
          4.276,
          4.298,
          4.33,
          4.453,
          4.673,
          5.161,
          5.241,
          5.696,
          5.996,
          6.551,
          8.16,
          8.382,
          9.543,
          11.143,
          11.156,
          11.825,
          12.657,
          13.807,
          15.583,
          16.364,
          16.501,
          18.723,
          18.788,
          21.659,
          24.444
         ],
         "xaxis": "x",
         "y": [
          9.118861118461071,
          9.118861118461071,
          9.118575919068121,
          9.11831109106038,
          9.118209234134326,
          9.118107377208274,
          9.118087005823062,
          9.117088807947734,
          9.116803608554784,
          9.116599894702677,
          9.11505166942666,
          9.114949812500605,
          9.113951614625279,
          9.11370715800275,
          9.113421958609798,
          9.112831188438687,
          9.112444132119682,
          9.112444132119682,
          9.11240338934926,
          9.11207744718589,
          9.11185336194857,
          9.11130333454788,
          9.111181106236616,
          9.110631078835924,
          9.110610707450714,
          9.110447736369029,
          9.110406993598607,
          9.110386622213396,
          9.109531024034544,
          9.109368052952858,
          9.108410597847952,
          9.108247626766266,
          9.107840199062052,
          9.1075549996691,
          9.107453142743047,
          9.107351285816993,
          9.107025343653621,
          9.105253033140285,
          9.10295106661147,
          9.102767724144572,
          9.098469361865103,
          9.098204533857363,
          9.09728782152288,
          9.094761769756746,
          9.09384505742226,
          9.092989459243409,
          9.091889404442028,
          9.08816144094846,
          9.088059584022405,
          9.086205787968227,
          9.083944564209833,
          9.08090922781343,
          9.079768430241627,
          9.078566518514192,
          9.077018293238176,
          9.070906877674949,
          9.067301142492644,
          9.063491693458232,
          9.057889562525274,
          9.053367115008486,
          9.052491145444423,
          9.052165203281051,
          9.051941118043732,
          9.033729099665315,
          9.031753075299871,
          9.031304904825236,
          9.030653020498491,
          9.028147340117568,
          9.0236656353712,
          9.013724399388352,
          9.01209468857149,
          9.002825708300596,
          8.99671429273737,
          8.985408173945398,
          8.95263061514129,
          8.9481081676245,
          8.924456989394812,
          8.8918627730576,
          8.89159794504986,
          8.877969488343863,
          8.861020495848512,
          8.837593402856141,
          8.801413822721836,
          8.785503770872234,
          8.782712891098361,
          8.737447673160057,
          8.736123533121358,
          8.677637286181273,
          8.620902978369314
         ],
         "yaxis": "y"
        }
       ],
       "layout": {
        "legend": {
         "tracegroupgap": 0
        },
        "margin": {
         "t": 60
        },
        "template": {
         "data": {
          "bar": [
           {
            "error_x": {
             "color": "#2a3f5f"
            },
            "error_y": {
             "color": "#2a3f5f"
            },
            "marker": {
             "line": {
              "color": "#E5ECF6",
              "width": 0.5
             },
             "pattern": {
              "fillmode": "overlay",
              "size": 10,
              "solidity": 0.2
             }
            },
            "type": "bar"
           }
          ],
          "barpolar": [
           {
            "marker": {
             "line": {
              "color": "#E5ECF6",
              "width": 0.5
             },
             "pattern": {
              "fillmode": "overlay",
              "size": 10,
              "solidity": 0.2
             }
            },
            "type": "barpolar"
           }
          ],
          "carpet": [
           {
            "aaxis": {
             "endlinecolor": "#2a3f5f",
             "gridcolor": "white",
             "linecolor": "white",
             "minorgridcolor": "white",
             "startlinecolor": "#2a3f5f"
            },
            "baxis": {
             "endlinecolor": "#2a3f5f",
             "gridcolor": "white",
             "linecolor": "white",
             "minorgridcolor": "white",
             "startlinecolor": "#2a3f5f"
            },
            "type": "carpet"
           }
          ],
          "choropleth": [
           {
            "colorbar": {
             "outlinewidth": 0,
             "ticks": ""
            },
            "type": "choropleth"
           }
          ],
          "contour": [
           {
            "colorbar": {
             "outlinewidth": 0,
             "ticks": ""
            },
            "colorscale": [
             [
              0,
              "#0d0887"
             ],
             [
              0.1111111111111111,
              "#46039f"
             ],
             [
              0.2222222222222222,
              "#7201a8"
             ],
             [
              0.3333333333333333,
              "#9c179e"
             ],
             [
              0.4444444444444444,
              "#bd3786"
             ],
             [
              0.5555555555555556,
              "#d8576b"
             ],
             [
              0.6666666666666666,
              "#ed7953"
             ],
             [
              0.7777777777777778,
              "#fb9f3a"
             ],
             [
              0.8888888888888888,
              "#fdca26"
             ],
             [
              1,
              "#f0f921"
             ]
            ],
            "type": "contour"
           }
          ],
          "contourcarpet": [
           {
            "colorbar": {
             "outlinewidth": 0,
             "ticks": ""
            },
            "type": "contourcarpet"
           }
          ],
          "heatmap": [
           {
            "colorbar": {
             "outlinewidth": 0,
             "ticks": ""
            },
            "colorscale": [
             [
              0,
              "#0d0887"
             ],
             [
              0.1111111111111111,
              "#46039f"
             ],
             [
              0.2222222222222222,
              "#7201a8"
             ],
             [
              0.3333333333333333,
              "#9c179e"
             ],
             [
              0.4444444444444444,
              "#bd3786"
             ],
             [
              0.5555555555555556,
              "#d8576b"
             ],
             [
              0.6666666666666666,
              "#ed7953"
             ],
             [
              0.7777777777777778,
              "#fb9f3a"
             ],
             [
              0.8888888888888888,
              "#fdca26"
             ],
             [
              1,
              "#f0f921"
             ]
            ],
            "type": "heatmap"
           }
          ],
          "heatmapgl": [
           {
            "colorbar": {
             "outlinewidth": 0,
             "ticks": ""
            },
            "colorscale": [
             [
              0,
              "#0d0887"
             ],
             [
              0.1111111111111111,
              "#46039f"
             ],
             [
              0.2222222222222222,
              "#7201a8"
             ],
             [
              0.3333333333333333,
              "#9c179e"
             ],
             [
              0.4444444444444444,
              "#bd3786"
             ],
             [
              0.5555555555555556,
              "#d8576b"
             ],
             [
              0.6666666666666666,
              "#ed7953"
             ],
             [
              0.7777777777777778,
              "#fb9f3a"
             ],
             [
              0.8888888888888888,
              "#fdca26"
             ],
             [
              1,
              "#f0f921"
             ]
            ],
            "type": "heatmapgl"
           }
          ],
          "histogram": [
           {
            "marker": {
             "pattern": {
              "fillmode": "overlay",
              "size": 10,
              "solidity": 0.2
             }
            },
            "type": "histogram"
           }
          ],
          "histogram2d": [
           {
            "colorbar": {
             "outlinewidth": 0,
             "ticks": ""
            },
            "colorscale": [
             [
              0,
              "#0d0887"
             ],
             [
              0.1111111111111111,
              "#46039f"
             ],
             [
              0.2222222222222222,
              "#7201a8"
             ],
             [
              0.3333333333333333,
              "#9c179e"
             ],
             [
              0.4444444444444444,
              "#bd3786"
             ],
             [
              0.5555555555555556,
              "#d8576b"
             ],
             [
              0.6666666666666666,
              "#ed7953"
             ],
             [
              0.7777777777777778,
              "#fb9f3a"
             ],
             [
              0.8888888888888888,
              "#fdca26"
             ],
             [
              1,
              "#f0f921"
             ]
            ],
            "type": "histogram2d"
           }
          ],
          "histogram2dcontour": [
           {
            "colorbar": {
             "outlinewidth": 0,
             "ticks": ""
            },
            "colorscale": [
             [
              0,
              "#0d0887"
             ],
             [
              0.1111111111111111,
              "#46039f"
             ],
             [
              0.2222222222222222,
              "#7201a8"
             ],
             [
              0.3333333333333333,
              "#9c179e"
             ],
             [
              0.4444444444444444,
              "#bd3786"
             ],
             [
              0.5555555555555556,
              "#d8576b"
             ],
             [
              0.6666666666666666,
              "#ed7953"
             ],
             [
              0.7777777777777778,
              "#fb9f3a"
             ],
             [
              0.8888888888888888,
              "#fdca26"
             ],
             [
              1,
              "#f0f921"
             ]
            ],
            "type": "histogram2dcontour"
           }
          ],
          "mesh3d": [
           {
            "colorbar": {
             "outlinewidth": 0,
             "ticks": ""
            },
            "type": "mesh3d"
           }
          ],
          "parcoords": [
           {
            "line": {
             "colorbar": {
              "outlinewidth": 0,
              "ticks": ""
             }
            },
            "type": "parcoords"
           }
          ],
          "pie": [
           {
            "automargin": true,
            "type": "pie"
           }
          ],
          "scatter": [
           {
            "fillpattern": {
             "fillmode": "overlay",
             "size": 10,
             "solidity": 0.2
            },
            "type": "scatter"
           }
          ],
          "scatter3d": [
           {
            "line": {
             "colorbar": {
              "outlinewidth": 0,
              "ticks": ""
             }
            },
            "marker": {
             "colorbar": {
              "outlinewidth": 0,
              "ticks": ""
             }
            },
            "type": "scatter3d"
           }
          ],
          "scattercarpet": [
           {
            "marker": {
             "colorbar": {
              "outlinewidth": 0,
              "ticks": ""
             }
            },
            "type": "scattercarpet"
           }
          ],
          "scattergeo": [
           {
            "marker": {
             "colorbar": {
              "outlinewidth": 0,
              "ticks": ""
             }
            },
            "type": "scattergeo"
           }
          ],
          "scattergl": [
           {
            "marker": {
             "colorbar": {
              "outlinewidth": 0,
              "ticks": ""
             }
            },
            "type": "scattergl"
           }
          ],
          "scattermapbox": [
           {
            "marker": {
             "colorbar": {
              "outlinewidth": 0,
              "ticks": ""
             }
            },
            "type": "scattermapbox"
           }
          ],
          "scatterpolar": [
           {
            "marker": {
             "colorbar": {
              "outlinewidth": 0,
              "ticks": ""
             }
            },
            "type": "scatterpolar"
           }
          ],
          "scatterpolargl": [
           {
            "marker": {
             "colorbar": {
              "outlinewidth": 0,
              "ticks": ""
             }
            },
            "type": "scatterpolargl"
           }
          ],
          "scatterternary": [
           {
            "marker": {
             "colorbar": {
              "outlinewidth": 0,
              "ticks": ""
             }
            },
            "type": "scatterternary"
           }
          ],
          "surface": [
           {
            "colorbar": {
             "outlinewidth": 0,
             "ticks": ""
            },
            "colorscale": [
             [
              0,
              "#0d0887"
             ],
             [
              0.1111111111111111,
              "#46039f"
             ],
             [
              0.2222222222222222,
              "#7201a8"
             ],
             [
              0.3333333333333333,
              "#9c179e"
             ],
             [
              0.4444444444444444,
              "#bd3786"
             ],
             [
              0.5555555555555556,
              "#d8576b"
             ],
             [
              0.6666666666666666,
              "#ed7953"
             ],
             [
              0.7777777777777778,
              "#fb9f3a"
             ],
             [
              0.8888888888888888,
              "#fdca26"
             ],
             [
              1,
              "#f0f921"
             ]
            ],
            "type": "surface"
           }
          ],
          "table": [
           {
            "cells": {
             "fill": {
              "color": "#EBF0F8"
             },
             "line": {
              "color": "white"
             }
            },
            "header": {
             "fill": {
              "color": "#C8D4E3"
             },
             "line": {
              "color": "white"
             }
            },
            "type": "table"
           }
          ]
         },
         "layout": {
          "annotationdefaults": {
           "arrowcolor": "#2a3f5f",
           "arrowhead": 0,
           "arrowwidth": 1
          },
          "autotypenumbers": "strict",
          "coloraxis": {
           "colorbar": {
            "outlinewidth": 0,
            "ticks": ""
           }
          },
          "colorscale": {
           "diverging": [
            [
             0,
             "#8e0152"
            ],
            [
             0.1,
             "#c51b7d"
            ],
            [
             0.2,
             "#de77ae"
            ],
            [
             0.3,
             "#f1b6da"
            ],
            [
             0.4,
             "#fde0ef"
            ],
            [
             0.5,
             "#f7f7f7"
            ],
            [
             0.6,
             "#e6f5d0"
            ],
            [
             0.7,
             "#b8e186"
            ],
            [
             0.8,
             "#7fbc41"
            ],
            [
             0.9,
             "#4d9221"
            ],
            [
             1,
             "#276419"
            ]
           ],
           "sequential": [
            [
             0,
             "#0d0887"
            ],
            [
             0.1111111111111111,
             "#46039f"
            ],
            [
             0.2222222222222222,
             "#7201a8"
            ],
            [
             0.3333333333333333,
             "#9c179e"
            ],
            [
             0.4444444444444444,
             "#bd3786"
            ],
            [
             0.5555555555555556,
             "#d8576b"
            ],
            [
             0.6666666666666666,
             "#ed7953"
            ],
            [
             0.7777777777777778,
             "#fb9f3a"
            ],
            [
             0.8888888888888888,
             "#fdca26"
            ],
            [
             1,
             "#f0f921"
            ]
           ],
           "sequentialminus": [
            [
             0,
             "#0d0887"
            ],
            [
             0.1111111111111111,
             "#46039f"
            ],
            [
             0.2222222222222222,
             "#7201a8"
            ],
            [
             0.3333333333333333,
             "#9c179e"
            ],
            [
             0.4444444444444444,
             "#bd3786"
            ],
            [
             0.5555555555555556,
             "#d8576b"
            ],
            [
             0.6666666666666666,
             "#ed7953"
            ],
            [
             0.7777777777777778,
             "#fb9f3a"
            ],
            [
             0.8888888888888888,
             "#fdca26"
            ],
            [
             1,
             "#f0f921"
            ]
           ]
          },
          "colorway": [
           "#636efa",
           "#EF553B",
           "#00cc96",
           "#ab63fa",
           "#FFA15A",
           "#19d3f3",
           "#FF6692",
           "#B6E880",
           "#FF97FF",
           "#FECB52"
          ],
          "font": {
           "color": "#2a3f5f"
          },
          "geo": {
           "bgcolor": "white",
           "lakecolor": "white",
           "landcolor": "#E5ECF6",
           "showlakes": true,
           "showland": true,
           "subunitcolor": "white"
          },
          "hoverlabel": {
           "align": "left"
          },
          "hovermode": "closest",
          "mapbox": {
           "style": "light"
          },
          "paper_bgcolor": "white",
          "plot_bgcolor": "#E5ECF6",
          "polar": {
           "angularaxis": {
            "gridcolor": "white",
            "linecolor": "white",
            "ticks": ""
           },
           "bgcolor": "#E5ECF6",
           "radialaxis": {
            "gridcolor": "white",
            "linecolor": "white",
            "ticks": ""
           }
          },
          "scene": {
           "xaxis": {
            "backgroundcolor": "#E5ECF6",
            "gridcolor": "white",
            "gridwidth": 2,
            "linecolor": "white",
            "showbackground": true,
            "ticks": "",
            "zerolinecolor": "white"
           },
           "yaxis": {
            "backgroundcolor": "#E5ECF6",
            "gridcolor": "white",
            "gridwidth": 2,
            "linecolor": "white",
            "showbackground": true,
            "ticks": "",
            "zerolinecolor": "white"
           },
           "zaxis": {
            "backgroundcolor": "#E5ECF6",
            "gridcolor": "white",
            "gridwidth": 2,
            "linecolor": "white",
            "showbackground": true,
            "ticks": "",
            "zerolinecolor": "white"
           }
          },
          "shapedefaults": {
           "line": {
            "color": "#2a3f5f"
           }
          },
          "ternary": {
           "aaxis": {
            "gridcolor": "white",
            "linecolor": "white",
            "ticks": ""
           },
           "baxis": {
            "gridcolor": "white",
            "linecolor": "white",
            "ticks": ""
           },
           "bgcolor": "#E5ECF6",
           "caxis": {
            "gridcolor": "white",
            "linecolor": "white",
            "ticks": ""
           }
          },
          "title": {
           "x": 0.05
          },
          "xaxis": {
           "automargin": true,
           "gridcolor": "white",
           "linecolor": "white",
           "ticks": "",
           "title": {
            "standoff": 15
           },
           "zerolinecolor": "white",
           "zerolinewidth": 2
          },
          "yaxis": {
           "automargin": true,
           "gridcolor": "white",
           "linecolor": "white",
           "ticks": "",
           "title": {
            "standoff": 15
           },
           "zerolinecolor": "white",
           "zerolinewidth": 2
          }
         }
        },
        "xaxis": {
         "anchor": "y",
         "domain": [
          0,
          1
         ],
         "title": {
          "text": "general_h_beds_per_100k"
         }
        },
        "yaxis": {
         "anchor": "x",
         "domain": [
          0,
          1
         ],
         "title": {
          "text": "suicide_rate"
         }
        }
       }
      }
     },
     "metadata": {},
     "output_type": "display_data"
    }
   ],
   "source": [
    "fig = px.scatter(df2016[df2016[\"general_h_beds_per_100k\"] < 25], x=\"general_h_beds_per_100k\", y=\"suicide_rate\", trendline=\"ols\")\n",
    "fig.show()"
   ]
  },
  {
   "attachments": {},
   "cell_type": "markdown",
   "metadata": {},
   "source": [
    "With beds in general hospitals, the trend you see very much depends on where you cut the data off, if you find one at all. Now let's complete the triad of bed statistics:"
   ]
  },
  {
   "cell_type": "code",
   "execution_count": 13,
   "metadata": {},
   "outputs": [
    {
     "data": {
      "application/vnd.plotly.v1+json": {
       "config": {
        "plotlyServerURL": "https://plot.ly"
       },
       "data": [
        {
         "hovertemplate": "sex=Male<br>comres_beds_per_100k=%{x}<br>suicide_rate=%{y}<extra></extra>",
         "legendgroup": "Male",
         "marker": {
          "color": "#636efa",
          "symbol": "circle"
         },
         "mode": "markers",
         "name": "Male",
         "orientation": "v",
         "showlegend": true,
         "type": "scatter",
         "x": [
          0.337,
          4.584,
          2.911,
          2.236,
          13.933,
          11.69,
          1.967,
          2.874,
          10.055,
          0,
          1.872,
          0.145,
          14.78,
          0.234,
          5.178,
          4.85,
          0.444,
          0.103,
          0.255,
          0.495,
          2.989,
          0.172,
          2.045,
          6.344,
          0.874,
          0.573,
          0.634,
          0.908,
          6.431,
          0.27,
          1.934,
          0.957,
          4.645,
          0.279,
          0.513
         ],
         "xaxis": "x",
         "y": [
          14,
          7,
          4.3,
          5.5,
          13.1,
          9.9,
          9.7,
          6.2,
          16,
          32,
          12.8,
          15.8,
          6.1,
          4.4,
          18.5,
          29.6,
          13.8,
          10.5,
          8.2,
          19.4,
          3,
          7.6,
          5.2,
          14.3,
          12.3,
          7.3,
          4.6,
          20.3,
          11.1,
          22.7,
          9,
          11.3,
          8.7,
          17.5,
          29.1
         ],
         "yaxis": "y"
        },
        {
         "hovertemplate": "<b>OLS trendline</b><br>suicide_rate = -0.221615 * comres_beds_per_100k + 13.2814<br>R<sup>2</sup>=0.014157<br><br>sex=Male<br>comres_beds_per_100k=%{x}<br>suicide_rate=%{y} <b>(trend)</b><extra></extra>",
         "legendgroup": "Male",
         "marker": {
          "color": "#636efa",
          "symbol": "circle"
         },
         "mode": "lines",
         "name": "Male",
         "showlegend": false,
         "type": "scatter",
         "x": [
          0,
          0.103,
          0.145,
          0.172,
          0.234,
          0.255,
          0.27,
          0.279,
          0.337,
          0.444,
          0.495,
          0.513,
          0.573,
          0.634,
          0.874,
          0.908,
          0.957,
          1.872,
          1.934,
          1.967,
          2.045,
          2.236,
          2.874,
          2.911,
          2.989,
          4.584,
          4.645,
          4.85,
          5.178,
          6.344,
          6.431,
          10.055,
          11.69,
          13.933,
          14.78
         ],
         "xaxis": "x",
         "y": [
          13.28136048055554,
          13.258534181540668,
          13.249226370291886,
          13.24324277734624,
          13.229502675026607,
          13.224848769402216,
          13.22152455109908,
          13.219530020117197,
          13.206676376011737,
          13.182963618782695,
          13.17166127655203,
          13.167672214588267,
          13.15437534137572,
          13.14085685360963,
          13.087669360759444,
          13.080134465939,
          13.069275352815422,
          12.866498036324087,
          12.852757934004455,
          12.845444653737554,
          12.828158718561243,
          12.785830338834637,
          12.644440253674558,
          12.636240515193487,
          12.618954580017178,
          12.265479367116981,
          12.251960879350891,
          12.20652989587469,
          12.13384032231277,
          11.87543775288228,
          11.856157286724088,
          11.053026144686275,
          10.69068634964438,
          10.19360490604868,
          10.005897379198231
         ],
         "yaxis": "y"
        },
        {
         "hovertemplate": "sex=Female<br>comres_beds_per_100k=%{x}<br>suicide_rate=%{y}<extra></extra>",
         "legendgroup": "Female",
         "marker": {
          "color": "#EF553B",
          "symbol": "circle"
         },
         "mode": "markers",
         "name": "Female",
         "orientation": "v",
         "showlegend": true,
         "type": "scatter",
         "x": [
          0.337,
          4.584,
          2.911,
          2.236,
          13.933,
          11.69,
          1.967,
          2.874,
          10.055,
          0,
          1.872,
          0.145,
          14.78,
          0.234,
          5.178,
          4.85,
          0.444,
          0.103,
          0.255,
          0.495,
          2.989,
          0.172,
          2.045,
          6.344,
          0.874,
          0.573,
          0.634,
          0.908,
          6.431,
          0.27,
          1.934,
          0.957,
          4.645,
          0.279,
          0.513
         ],
         "xaxis": "x",
         "y": [
          4.6,
          4.3,
          1,
          6.7,
          3.2,
          2,
          2.8,
          2.8,
          3.8,
          13,
          2.3,
          2.9,
          1.5,
          1.7,
          14.5,
          11.6,
          13,
          3.6,
          2.3,
          4.9,
          3.1,
          2.7,
          2.3,
          3.8,
          6.2,
          1.1,
          1.7,
          5.2,
          4.9,
          10.9,
          3.7,
          3.2,
          2.2,
          6.2,
          11.1
         ],
         "yaxis": "y"
        },
        {
         "hovertemplate": "<b>OLS trendline</b><br>suicide_rate = -0.167328 * comres_beds_per_100k + 5.39877<br>R<sup>2</sup>=0.031444<br><br>sex=Female<br>comres_beds_per_100k=%{x}<br>suicide_rate=%{y} <b>(trend)</b><extra></extra>",
         "legendgroup": "Female",
         "marker": {
          "color": "#EF553B",
          "symbol": "circle"
         },
         "mode": "lines",
         "name": "Female",
         "showlegend": false,
         "type": "scatter",
         "x": [
          0,
          0.103,
          0.145,
          0.172,
          0.234,
          0.255,
          0.27,
          0.279,
          0.337,
          0.444,
          0.495,
          0.513,
          0.573,
          0.634,
          0.874,
          0.908,
          0.957,
          1.872,
          1.934,
          1.967,
          2.045,
          2.236,
          2.874,
          2.911,
          2.989,
          4.584,
          4.645,
          4.85,
          5.178,
          6.344,
          6.431,
          10.055,
          11.69,
          13.933,
          14.78
         ],
         "xaxis": "x",
         "y": [
          5.398769381936307,
          5.381534598164336,
          5.3745068222573185,
          5.369988966317092,
          5.359614630454352,
          5.356100742500844,
          5.353590822534052,
          5.352084870553977,
          5.342379846682381,
          5.324475750919265,
          5.315942023032172,
          5.312930119072022,
          5.302890439204854,
          5.292683431339901,
          5.252524711871229,
          5.246835559946501,
          5.23863648805498,
          5.0855313700806715,
          5.075157034217931,
          5.069635210290989,
          5.05658362646367,
          5.0246239788865195,
          4.917868716298968,
          4.911677580380881,
          4.898625996553563,
          4.631737840084686,
          4.621530832219731,
          4.587228592673575,
          4.532345009399724,
          4.337240563981096,
          4.322683028173703,
          3.7162863641967663,
          3.442705087816443,
          3.0673883887821525,
          2.9256615746573003
         ],
         "yaxis": "y"
        }
       ],
       "layout": {
        "legend": {
         "title": {
          "text": "sex"
         },
         "tracegroupgap": 0
        },
        "margin": {
         "t": 60
        },
        "template": {
         "data": {
          "bar": [
           {
            "error_x": {
             "color": "#2a3f5f"
            },
            "error_y": {
             "color": "#2a3f5f"
            },
            "marker": {
             "line": {
              "color": "#E5ECF6",
              "width": 0.5
             },
             "pattern": {
              "fillmode": "overlay",
              "size": 10,
              "solidity": 0.2
             }
            },
            "type": "bar"
           }
          ],
          "barpolar": [
           {
            "marker": {
             "line": {
              "color": "#E5ECF6",
              "width": 0.5
             },
             "pattern": {
              "fillmode": "overlay",
              "size": 10,
              "solidity": 0.2
             }
            },
            "type": "barpolar"
           }
          ],
          "carpet": [
           {
            "aaxis": {
             "endlinecolor": "#2a3f5f",
             "gridcolor": "white",
             "linecolor": "white",
             "minorgridcolor": "white",
             "startlinecolor": "#2a3f5f"
            },
            "baxis": {
             "endlinecolor": "#2a3f5f",
             "gridcolor": "white",
             "linecolor": "white",
             "minorgridcolor": "white",
             "startlinecolor": "#2a3f5f"
            },
            "type": "carpet"
           }
          ],
          "choropleth": [
           {
            "colorbar": {
             "outlinewidth": 0,
             "ticks": ""
            },
            "type": "choropleth"
           }
          ],
          "contour": [
           {
            "colorbar": {
             "outlinewidth": 0,
             "ticks": ""
            },
            "colorscale": [
             [
              0,
              "#0d0887"
             ],
             [
              0.1111111111111111,
              "#46039f"
             ],
             [
              0.2222222222222222,
              "#7201a8"
             ],
             [
              0.3333333333333333,
              "#9c179e"
             ],
             [
              0.4444444444444444,
              "#bd3786"
             ],
             [
              0.5555555555555556,
              "#d8576b"
             ],
             [
              0.6666666666666666,
              "#ed7953"
             ],
             [
              0.7777777777777778,
              "#fb9f3a"
             ],
             [
              0.8888888888888888,
              "#fdca26"
             ],
             [
              1,
              "#f0f921"
             ]
            ],
            "type": "contour"
           }
          ],
          "contourcarpet": [
           {
            "colorbar": {
             "outlinewidth": 0,
             "ticks": ""
            },
            "type": "contourcarpet"
           }
          ],
          "heatmap": [
           {
            "colorbar": {
             "outlinewidth": 0,
             "ticks": ""
            },
            "colorscale": [
             [
              0,
              "#0d0887"
             ],
             [
              0.1111111111111111,
              "#46039f"
             ],
             [
              0.2222222222222222,
              "#7201a8"
             ],
             [
              0.3333333333333333,
              "#9c179e"
             ],
             [
              0.4444444444444444,
              "#bd3786"
             ],
             [
              0.5555555555555556,
              "#d8576b"
             ],
             [
              0.6666666666666666,
              "#ed7953"
             ],
             [
              0.7777777777777778,
              "#fb9f3a"
             ],
             [
              0.8888888888888888,
              "#fdca26"
             ],
             [
              1,
              "#f0f921"
             ]
            ],
            "type": "heatmap"
           }
          ],
          "heatmapgl": [
           {
            "colorbar": {
             "outlinewidth": 0,
             "ticks": ""
            },
            "colorscale": [
             [
              0,
              "#0d0887"
             ],
             [
              0.1111111111111111,
              "#46039f"
             ],
             [
              0.2222222222222222,
              "#7201a8"
             ],
             [
              0.3333333333333333,
              "#9c179e"
             ],
             [
              0.4444444444444444,
              "#bd3786"
             ],
             [
              0.5555555555555556,
              "#d8576b"
             ],
             [
              0.6666666666666666,
              "#ed7953"
             ],
             [
              0.7777777777777778,
              "#fb9f3a"
             ],
             [
              0.8888888888888888,
              "#fdca26"
             ],
             [
              1,
              "#f0f921"
             ]
            ],
            "type": "heatmapgl"
           }
          ],
          "histogram": [
           {
            "marker": {
             "pattern": {
              "fillmode": "overlay",
              "size": 10,
              "solidity": 0.2
             }
            },
            "type": "histogram"
           }
          ],
          "histogram2d": [
           {
            "colorbar": {
             "outlinewidth": 0,
             "ticks": ""
            },
            "colorscale": [
             [
              0,
              "#0d0887"
             ],
             [
              0.1111111111111111,
              "#46039f"
             ],
             [
              0.2222222222222222,
              "#7201a8"
             ],
             [
              0.3333333333333333,
              "#9c179e"
             ],
             [
              0.4444444444444444,
              "#bd3786"
             ],
             [
              0.5555555555555556,
              "#d8576b"
             ],
             [
              0.6666666666666666,
              "#ed7953"
             ],
             [
              0.7777777777777778,
              "#fb9f3a"
             ],
             [
              0.8888888888888888,
              "#fdca26"
             ],
             [
              1,
              "#f0f921"
             ]
            ],
            "type": "histogram2d"
           }
          ],
          "histogram2dcontour": [
           {
            "colorbar": {
             "outlinewidth": 0,
             "ticks": ""
            },
            "colorscale": [
             [
              0,
              "#0d0887"
             ],
             [
              0.1111111111111111,
              "#46039f"
             ],
             [
              0.2222222222222222,
              "#7201a8"
             ],
             [
              0.3333333333333333,
              "#9c179e"
             ],
             [
              0.4444444444444444,
              "#bd3786"
             ],
             [
              0.5555555555555556,
              "#d8576b"
             ],
             [
              0.6666666666666666,
              "#ed7953"
             ],
             [
              0.7777777777777778,
              "#fb9f3a"
             ],
             [
              0.8888888888888888,
              "#fdca26"
             ],
             [
              1,
              "#f0f921"
             ]
            ],
            "type": "histogram2dcontour"
           }
          ],
          "mesh3d": [
           {
            "colorbar": {
             "outlinewidth": 0,
             "ticks": ""
            },
            "type": "mesh3d"
           }
          ],
          "parcoords": [
           {
            "line": {
             "colorbar": {
              "outlinewidth": 0,
              "ticks": ""
             }
            },
            "type": "parcoords"
           }
          ],
          "pie": [
           {
            "automargin": true,
            "type": "pie"
           }
          ],
          "scatter": [
           {
            "fillpattern": {
             "fillmode": "overlay",
             "size": 10,
             "solidity": 0.2
            },
            "type": "scatter"
           }
          ],
          "scatter3d": [
           {
            "line": {
             "colorbar": {
              "outlinewidth": 0,
              "ticks": ""
             }
            },
            "marker": {
             "colorbar": {
              "outlinewidth": 0,
              "ticks": ""
             }
            },
            "type": "scatter3d"
           }
          ],
          "scattercarpet": [
           {
            "marker": {
             "colorbar": {
              "outlinewidth": 0,
              "ticks": ""
             }
            },
            "type": "scattercarpet"
           }
          ],
          "scattergeo": [
           {
            "marker": {
             "colorbar": {
              "outlinewidth": 0,
              "ticks": ""
             }
            },
            "type": "scattergeo"
           }
          ],
          "scattergl": [
           {
            "marker": {
             "colorbar": {
              "outlinewidth": 0,
              "ticks": ""
             }
            },
            "type": "scattergl"
           }
          ],
          "scattermapbox": [
           {
            "marker": {
             "colorbar": {
              "outlinewidth": 0,
              "ticks": ""
             }
            },
            "type": "scattermapbox"
           }
          ],
          "scatterpolar": [
           {
            "marker": {
             "colorbar": {
              "outlinewidth": 0,
              "ticks": ""
             }
            },
            "type": "scatterpolar"
           }
          ],
          "scatterpolargl": [
           {
            "marker": {
             "colorbar": {
              "outlinewidth": 0,
              "ticks": ""
             }
            },
            "type": "scatterpolargl"
           }
          ],
          "scatterternary": [
           {
            "marker": {
             "colorbar": {
              "outlinewidth": 0,
              "ticks": ""
             }
            },
            "type": "scatterternary"
           }
          ],
          "surface": [
           {
            "colorbar": {
             "outlinewidth": 0,
             "ticks": ""
            },
            "colorscale": [
             [
              0,
              "#0d0887"
             ],
             [
              0.1111111111111111,
              "#46039f"
             ],
             [
              0.2222222222222222,
              "#7201a8"
             ],
             [
              0.3333333333333333,
              "#9c179e"
             ],
             [
              0.4444444444444444,
              "#bd3786"
             ],
             [
              0.5555555555555556,
              "#d8576b"
             ],
             [
              0.6666666666666666,
              "#ed7953"
             ],
             [
              0.7777777777777778,
              "#fb9f3a"
             ],
             [
              0.8888888888888888,
              "#fdca26"
             ],
             [
              1,
              "#f0f921"
             ]
            ],
            "type": "surface"
           }
          ],
          "table": [
           {
            "cells": {
             "fill": {
              "color": "#EBF0F8"
             },
             "line": {
              "color": "white"
             }
            },
            "header": {
             "fill": {
              "color": "#C8D4E3"
             },
             "line": {
              "color": "white"
             }
            },
            "type": "table"
           }
          ]
         },
         "layout": {
          "annotationdefaults": {
           "arrowcolor": "#2a3f5f",
           "arrowhead": 0,
           "arrowwidth": 1
          },
          "autotypenumbers": "strict",
          "coloraxis": {
           "colorbar": {
            "outlinewidth": 0,
            "ticks": ""
           }
          },
          "colorscale": {
           "diverging": [
            [
             0,
             "#8e0152"
            ],
            [
             0.1,
             "#c51b7d"
            ],
            [
             0.2,
             "#de77ae"
            ],
            [
             0.3,
             "#f1b6da"
            ],
            [
             0.4,
             "#fde0ef"
            ],
            [
             0.5,
             "#f7f7f7"
            ],
            [
             0.6,
             "#e6f5d0"
            ],
            [
             0.7,
             "#b8e186"
            ],
            [
             0.8,
             "#7fbc41"
            ],
            [
             0.9,
             "#4d9221"
            ],
            [
             1,
             "#276419"
            ]
           ],
           "sequential": [
            [
             0,
             "#0d0887"
            ],
            [
             0.1111111111111111,
             "#46039f"
            ],
            [
             0.2222222222222222,
             "#7201a8"
            ],
            [
             0.3333333333333333,
             "#9c179e"
            ],
            [
             0.4444444444444444,
             "#bd3786"
            ],
            [
             0.5555555555555556,
             "#d8576b"
            ],
            [
             0.6666666666666666,
             "#ed7953"
            ],
            [
             0.7777777777777778,
             "#fb9f3a"
            ],
            [
             0.8888888888888888,
             "#fdca26"
            ],
            [
             1,
             "#f0f921"
            ]
           ],
           "sequentialminus": [
            [
             0,
             "#0d0887"
            ],
            [
             0.1111111111111111,
             "#46039f"
            ],
            [
             0.2222222222222222,
             "#7201a8"
            ],
            [
             0.3333333333333333,
             "#9c179e"
            ],
            [
             0.4444444444444444,
             "#bd3786"
            ],
            [
             0.5555555555555556,
             "#d8576b"
            ],
            [
             0.6666666666666666,
             "#ed7953"
            ],
            [
             0.7777777777777778,
             "#fb9f3a"
            ],
            [
             0.8888888888888888,
             "#fdca26"
            ],
            [
             1,
             "#f0f921"
            ]
           ]
          },
          "colorway": [
           "#636efa",
           "#EF553B",
           "#00cc96",
           "#ab63fa",
           "#FFA15A",
           "#19d3f3",
           "#FF6692",
           "#B6E880",
           "#FF97FF",
           "#FECB52"
          ],
          "font": {
           "color": "#2a3f5f"
          },
          "geo": {
           "bgcolor": "white",
           "lakecolor": "white",
           "landcolor": "#E5ECF6",
           "showlakes": true,
           "showland": true,
           "subunitcolor": "white"
          },
          "hoverlabel": {
           "align": "left"
          },
          "hovermode": "closest",
          "mapbox": {
           "style": "light"
          },
          "paper_bgcolor": "white",
          "plot_bgcolor": "#E5ECF6",
          "polar": {
           "angularaxis": {
            "gridcolor": "white",
            "linecolor": "white",
            "ticks": ""
           },
           "bgcolor": "#E5ECF6",
           "radialaxis": {
            "gridcolor": "white",
            "linecolor": "white",
            "ticks": ""
           }
          },
          "scene": {
           "xaxis": {
            "backgroundcolor": "#E5ECF6",
            "gridcolor": "white",
            "gridwidth": 2,
            "linecolor": "white",
            "showbackground": true,
            "ticks": "",
            "zerolinecolor": "white"
           },
           "yaxis": {
            "backgroundcolor": "#E5ECF6",
            "gridcolor": "white",
            "gridwidth": 2,
            "linecolor": "white",
            "showbackground": true,
            "ticks": "",
            "zerolinecolor": "white"
           },
           "zaxis": {
            "backgroundcolor": "#E5ECF6",
            "gridcolor": "white",
            "gridwidth": 2,
            "linecolor": "white",
            "showbackground": true,
            "ticks": "",
            "zerolinecolor": "white"
           }
          },
          "shapedefaults": {
           "line": {
            "color": "#2a3f5f"
           }
          },
          "ternary": {
           "aaxis": {
            "gridcolor": "white",
            "linecolor": "white",
            "ticks": ""
           },
           "baxis": {
            "gridcolor": "white",
            "linecolor": "white",
            "ticks": ""
           },
           "bgcolor": "#E5ECF6",
           "caxis": {
            "gridcolor": "white",
            "linecolor": "white",
            "ticks": ""
           }
          },
          "title": {
           "x": 0.05
          },
          "xaxis": {
           "automargin": true,
           "gridcolor": "white",
           "linecolor": "white",
           "ticks": "",
           "title": {
            "standoff": 15
           },
           "zerolinecolor": "white",
           "zerolinewidth": 2
          },
          "yaxis": {
           "automargin": true,
           "gridcolor": "white",
           "linecolor": "white",
           "ticks": "",
           "title": {
            "standoff": 15
           },
           "zerolinecolor": "white",
           "zerolinewidth": 2
          }
         }
        },
        "xaxis": {
         "anchor": "y",
         "domain": [
          0,
          1
         ],
         "title": {
          "text": "comres_beds_per_100k"
         }
        },
        "yaxis": {
         "anchor": "x",
         "domain": [
          0,
          1
         ],
         "title": {
          "text": "suicide_rate"
         }
        }
       }
      }
     },
     "metadata": {},
     "output_type": "display_data"
    }
   ],
   "source": [
    "fig = px.scatter(df2016g[df2016g[\"comres_beds_per_100k\"] < 15], x=\"comres_beds_per_100k\", y=\"suicide_rate\", trendline=\"ols\", color=\"sex\")\n",
    "fig.show()"
   ]
  },
  {
   "attachments": {},
   "cell_type": "markdown",
   "metadata": {},
   "source": [
    "A negative trend! I had to look up \"community residential facility\" and different areas can't seem to agree on what the exact definition is so I don't even know what this means, and it's another one where if you cut it off again you get a confusing shape, but hooray!\n",
    "\n",
    "To complete the Facilities category I've made up, we'll look at outpatient and day treatment facilities. It could be argued that these are similar enough to make a good combined statistic, but some years in countries have data on one and not the other."
   ]
  },
  {
   "cell_type": "code",
   "execution_count": 14,
   "metadata": {},
   "outputs": [
    {
     "data": {
      "application/vnd.plotly.v1+json": {
       "config": {
        "plotlyServerURL": "https://plot.ly"
       },
       "data": [
        {
         "hovertemplate": "outpatient_facilities_per_100k=%{x}<br>suicide_rate=%{y}<extra></extra>",
         "legendgroup": "",
         "marker": {
          "color": "#636efa",
          "symbol": "circle"
         },
         "mode": "markers",
         "name": "",
         "orientation": "v",
         "showlegend": false,
         "type": "scatter",
         "x": [
          0.006,
          0.41,
          0.524,
          1.72,
          1.371,
          0.156,
          0.055,
          0.307,
          0.116,
          2.227,
          0.009,
          1.491,
          2.634,
          3.556,
          0.839,
          0.017,
          0.02,
          0.292,
          1.706,
          2.932,
          1.748,
          0.048,
          0.242,
          0.031,
          0.227,
          3.363,
          0.052,
          0.683,
          2.378,
          0.056,
          1.346,
          1.434,
          0.26,
          3.093,
          0.131,
          0.176,
          3.83,
          3.028,
          0.513,
          0.068,
          1.159,
          1.134,
          1.789,
          0.622,
          3.922,
          0.371,
          0.126,
          0.073,
          0.067,
          0.768,
          0.316,
          0.082,
          1.685,
          1.308,
          0.112,
          2.3,
          2.696,
          0.166,
          0.211,
          3.207,
          0.701,
          1.416,
          0.344,
          0.911,
          0.404,
          0.507,
          0.04,
          0.217,
          0.729,
          0.008,
          0.511,
          2.134,
          2.263,
          0.007,
          0.04,
          1.302,
          0.164,
          0.94,
          0.19,
          0.942,
          0.049,
          0.373,
          0.084,
          0.009,
          2.645,
          0.063,
          0.11,
          0.205,
          0.057
         ],
         "xaxis": "x",
         "y": [
          6.4,
          5.6,
          2.7,
          9.1,
          5.7,
          2.6,
          6.1,
          7.9,
          21.4,
          5.9,
          12.9,
          6.1,
          4.5,
          11.6,
          9.7,
          23,
          9.3,
          7,
          7.5,
          10.1,
          10.5,
          3.3,
          7.2,
          4.4,
          13.8,
          5.5,
          9.6,
          6.7,
          8.7,
          7.4,
          3.8,
          2.9,
          30.2,
          11.5,
          12.2,
          16.5,
          10.9,
          13.3,
          3.7,
          5.6,
          9.1,
          5.9,
          20.2,
          13.4,
          25.7,
          3.1,
          5.2,
          8.1,
          13.3,
          8.4,
          6.2,
          11.5,
          9,
          10.1,
          9.6,
          3.1,
          4.4,
          5.1,
          3.7,
          13.4,
          8.6,
          9.3,
          5.8,
          8,
          11,
          3.4,
          11.8,
          7.9,
          13.5,
          6.1,
          3.1,
          8.3,
          2.4,
          15.5,
          16.6,
          12.9,
          3.3,
          4,
          7.2,
          20,
          18.5,
          13.7,
          7.4,
          7,
          5.4,
          9.8,
          12.8,
          11.3,
          19.1
         ],
         "yaxis": "y"
        },
        {
         "hovertemplate": "<b>OLS trendline</b><br>suicide_rate = 0.0455024 * outpatient_facilities_per_100k + 9.33981<br>R<sup>2</sup>=0.000080<br><br>outpatient_facilities_per_100k=%{x}<br>suicide_rate=%{y} <b>(trend)</b><extra></extra>",
         "legendgroup": "",
         "marker": {
          "color": "#636efa",
          "symbol": "circle"
         },
         "mode": "lines",
         "name": "",
         "showlegend": false,
         "type": "scatter",
         "x": [
          0.006,
          0.007,
          0.008,
          0.009,
          0.009,
          0.017,
          0.02,
          0.031,
          0.04,
          0.04,
          0.048,
          0.049,
          0.052,
          0.055,
          0.056,
          0.057,
          0.063,
          0.067,
          0.068,
          0.073,
          0.082,
          0.084,
          0.11,
          0.112,
          0.116,
          0.126,
          0.131,
          0.156,
          0.164,
          0.166,
          0.176,
          0.19,
          0.205,
          0.211,
          0.217,
          0.227,
          0.242,
          0.26,
          0.292,
          0.307,
          0.316,
          0.344,
          0.371,
          0.373,
          0.404,
          0.41,
          0.507,
          0.511,
          0.513,
          0.524,
          0.622,
          0.683,
          0.701,
          0.729,
          0.768,
          0.839,
          0.911,
          0.94,
          0.942,
          1.134,
          1.159,
          1.302,
          1.308,
          1.346,
          1.371,
          1.416,
          1.434,
          1.491,
          1.685,
          1.706,
          1.72,
          1.748,
          1.789,
          2.134,
          2.227,
          2.263,
          2.3,
          2.378,
          2.634,
          2.645,
          2.696,
          2.932,
          3.028,
          3.093,
          3.207,
          3.363,
          3.556,
          3.83,
          3.922
         ],
         "xaxis": "x",
         "y": [
          9.340078418352297,
          9.340123920799478,
          9.340169423246657,
          9.340214925693838,
          9.340214925693838,
          9.340578945271277,
          9.340715452612816,
          9.341215979531796,
          9.341625501556416,
          9.341625501556416,
          9.341989521133856,
          9.342035023581037,
          9.342171530922576,
          9.342308038264116,
          9.342353540711295,
          9.342399043158476,
          9.342672057841556,
          9.342854067630276,
          9.342899570077456,
          9.343127082313355,
          9.343536604337976,
          9.343627609232335,
          9.344810672859015,
          9.344901677753375,
          9.345083687542095,
          9.345538712013894,
          9.345766224249795,
          9.346903785429294,
          9.347267805006734,
          9.347358809901094,
          9.347813834372893,
          9.348450868633414,
          9.349133405341112,
          9.349406420024193,
          9.349679434707273,
          9.350134459179072,
          9.350816995886772,
          9.351636039936011,
          9.35309211824577,
          9.35377465495347,
          9.354184176978091,
          9.355458245499129,
          9.356686811572988,
          9.356777816467348,
          9.358188392329929,
          9.358461407013008,
          9.362875144389466,
          9.363057154178186,
          9.363148159072546,
          9.363648685991526,
          9.368107925815163,
          9.370883575093142,
          9.371702619142381,
          9.37297668766342,
          9.374751283103441,
          9.377981956853219,
          9.381258133050176,
          9.382577704018397,
          9.382668708912757,
          9.391405178771311,
          9.39254273995081,
          9.399049589897547,
          9.399322604580629,
          9.401051697573466,
          9.402189258752967,
          9.404236868876065,
          9.405055912925306,
          9.407649552414563,
          9.41647702716748,
          9.417432578558259,
          9.418069612818778,
          9.419343681339818,
          9.421209281674198,
          9.436907625951289,
          9.441139353539027,
          9.442777441637507,
          9.444461032183165,
          9.448010223063203,
          9.45965884954128,
          9.460159376460258,
          9.462480001266437,
          9.473218578800912,
          9.47758681373019,
          9.480544472796888,
          9.485731751775406,
          9.492830133535483,
          9.501612105841218,
          9.514079776368531,
          9.51826600150909
         ],
         "yaxis": "y"
        }
       ],
       "layout": {
        "legend": {
         "tracegroupgap": 0
        },
        "margin": {
         "t": 60
        },
        "template": {
         "data": {
          "bar": [
           {
            "error_x": {
             "color": "#2a3f5f"
            },
            "error_y": {
             "color": "#2a3f5f"
            },
            "marker": {
             "line": {
              "color": "#E5ECF6",
              "width": 0.5
             },
             "pattern": {
              "fillmode": "overlay",
              "size": 10,
              "solidity": 0.2
             }
            },
            "type": "bar"
           }
          ],
          "barpolar": [
           {
            "marker": {
             "line": {
              "color": "#E5ECF6",
              "width": 0.5
             },
             "pattern": {
              "fillmode": "overlay",
              "size": 10,
              "solidity": 0.2
             }
            },
            "type": "barpolar"
           }
          ],
          "carpet": [
           {
            "aaxis": {
             "endlinecolor": "#2a3f5f",
             "gridcolor": "white",
             "linecolor": "white",
             "minorgridcolor": "white",
             "startlinecolor": "#2a3f5f"
            },
            "baxis": {
             "endlinecolor": "#2a3f5f",
             "gridcolor": "white",
             "linecolor": "white",
             "minorgridcolor": "white",
             "startlinecolor": "#2a3f5f"
            },
            "type": "carpet"
           }
          ],
          "choropleth": [
           {
            "colorbar": {
             "outlinewidth": 0,
             "ticks": ""
            },
            "type": "choropleth"
           }
          ],
          "contour": [
           {
            "colorbar": {
             "outlinewidth": 0,
             "ticks": ""
            },
            "colorscale": [
             [
              0,
              "#0d0887"
             ],
             [
              0.1111111111111111,
              "#46039f"
             ],
             [
              0.2222222222222222,
              "#7201a8"
             ],
             [
              0.3333333333333333,
              "#9c179e"
             ],
             [
              0.4444444444444444,
              "#bd3786"
             ],
             [
              0.5555555555555556,
              "#d8576b"
             ],
             [
              0.6666666666666666,
              "#ed7953"
             ],
             [
              0.7777777777777778,
              "#fb9f3a"
             ],
             [
              0.8888888888888888,
              "#fdca26"
             ],
             [
              1,
              "#f0f921"
             ]
            ],
            "type": "contour"
           }
          ],
          "contourcarpet": [
           {
            "colorbar": {
             "outlinewidth": 0,
             "ticks": ""
            },
            "type": "contourcarpet"
           }
          ],
          "heatmap": [
           {
            "colorbar": {
             "outlinewidth": 0,
             "ticks": ""
            },
            "colorscale": [
             [
              0,
              "#0d0887"
             ],
             [
              0.1111111111111111,
              "#46039f"
             ],
             [
              0.2222222222222222,
              "#7201a8"
             ],
             [
              0.3333333333333333,
              "#9c179e"
             ],
             [
              0.4444444444444444,
              "#bd3786"
             ],
             [
              0.5555555555555556,
              "#d8576b"
             ],
             [
              0.6666666666666666,
              "#ed7953"
             ],
             [
              0.7777777777777778,
              "#fb9f3a"
             ],
             [
              0.8888888888888888,
              "#fdca26"
             ],
             [
              1,
              "#f0f921"
             ]
            ],
            "type": "heatmap"
           }
          ],
          "heatmapgl": [
           {
            "colorbar": {
             "outlinewidth": 0,
             "ticks": ""
            },
            "colorscale": [
             [
              0,
              "#0d0887"
             ],
             [
              0.1111111111111111,
              "#46039f"
             ],
             [
              0.2222222222222222,
              "#7201a8"
             ],
             [
              0.3333333333333333,
              "#9c179e"
             ],
             [
              0.4444444444444444,
              "#bd3786"
             ],
             [
              0.5555555555555556,
              "#d8576b"
             ],
             [
              0.6666666666666666,
              "#ed7953"
             ],
             [
              0.7777777777777778,
              "#fb9f3a"
             ],
             [
              0.8888888888888888,
              "#fdca26"
             ],
             [
              1,
              "#f0f921"
             ]
            ],
            "type": "heatmapgl"
           }
          ],
          "histogram": [
           {
            "marker": {
             "pattern": {
              "fillmode": "overlay",
              "size": 10,
              "solidity": 0.2
             }
            },
            "type": "histogram"
           }
          ],
          "histogram2d": [
           {
            "colorbar": {
             "outlinewidth": 0,
             "ticks": ""
            },
            "colorscale": [
             [
              0,
              "#0d0887"
             ],
             [
              0.1111111111111111,
              "#46039f"
             ],
             [
              0.2222222222222222,
              "#7201a8"
             ],
             [
              0.3333333333333333,
              "#9c179e"
             ],
             [
              0.4444444444444444,
              "#bd3786"
             ],
             [
              0.5555555555555556,
              "#d8576b"
             ],
             [
              0.6666666666666666,
              "#ed7953"
             ],
             [
              0.7777777777777778,
              "#fb9f3a"
             ],
             [
              0.8888888888888888,
              "#fdca26"
             ],
             [
              1,
              "#f0f921"
             ]
            ],
            "type": "histogram2d"
           }
          ],
          "histogram2dcontour": [
           {
            "colorbar": {
             "outlinewidth": 0,
             "ticks": ""
            },
            "colorscale": [
             [
              0,
              "#0d0887"
             ],
             [
              0.1111111111111111,
              "#46039f"
             ],
             [
              0.2222222222222222,
              "#7201a8"
             ],
             [
              0.3333333333333333,
              "#9c179e"
             ],
             [
              0.4444444444444444,
              "#bd3786"
             ],
             [
              0.5555555555555556,
              "#d8576b"
             ],
             [
              0.6666666666666666,
              "#ed7953"
             ],
             [
              0.7777777777777778,
              "#fb9f3a"
             ],
             [
              0.8888888888888888,
              "#fdca26"
             ],
             [
              1,
              "#f0f921"
             ]
            ],
            "type": "histogram2dcontour"
           }
          ],
          "mesh3d": [
           {
            "colorbar": {
             "outlinewidth": 0,
             "ticks": ""
            },
            "type": "mesh3d"
           }
          ],
          "parcoords": [
           {
            "line": {
             "colorbar": {
              "outlinewidth": 0,
              "ticks": ""
             }
            },
            "type": "parcoords"
           }
          ],
          "pie": [
           {
            "automargin": true,
            "type": "pie"
           }
          ],
          "scatter": [
           {
            "fillpattern": {
             "fillmode": "overlay",
             "size": 10,
             "solidity": 0.2
            },
            "type": "scatter"
           }
          ],
          "scatter3d": [
           {
            "line": {
             "colorbar": {
              "outlinewidth": 0,
              "ticks": ""
             }
            },
            "marker": {
             "colorbar": {
              "outlinewidth": 0,
              "ticks": ""
             }
            },
            "type": "scatter3d"
           }
          ],
          "scattercarpet": [
           {
            "marker": {
             "colorbar": {
              "outlinewidth": 0,
              "ticks": ""
             }
            },
            "type": "scattercarpet"
           }
          ],
          "scattergeo": [
           {
            "marker": {
             "colorbar": {
              "outlinewidth": 0,
              "ticks": ""
             }
            },
            "type": "scattergeo"
           }
          ],
          "scattergl": [
           {
            "marker": {
             "colorbar": {
              "outlinewidth": 0,
              "ticks": ""
             }
            },
            "type": "scattergl"
           }
          ],
          "scattermapbox": [
           {
            "marker": {
             "colorbar": {
              "outlinewidth": 0,
              "ticks": ""
             }
            },
            "type": "scattermapbox"
           }
          ],
          "scatterpolar": [
           {
            "marker": {
             "colorbar": {
              "outlinewidth": 0,
              "ticks": ""
             }
            },
            "type": "scatterpolar"
           }
          ],
          "scatterpolargl": [
           {
            "marker": {
             "colorbar": {
              "outlinewidth": 0,
              "ticks": ""
             }
            },
            "type": "scatterpolargl"
           }
          ],
          "scatterternary": [
           {
            "marker": {
             "colorbar": {
              "outlinewidth": 0,
              "ticks": ""
             }
            },
            "type": "scatterternary"
           }
          ],
          "surface": [
           {
            "colorbar": {
             "outlinewidth": 0,
             "ticks": ""
            },
            "colorscale": [
             [
              0,
              "#0d0887"
             ],
             [
              0.1111111111111111,
              "#46039f"
             ],
             [
              0.2222222222222222,
              "#7201a8"
             ],
             [
              0.3333333333333333,
              "#9c179e"
             ],
             [
              0.4444444444444444,
              "#bd3786"
             ],
             [
              0.5555555555555556,
              "#d8576b"
             ],
             [
              0.6666666666666666,
              "#ed7953"
             ],
             [
              0.7777777777777778,
              "#fb9f3a"
             ],
             [
              0.8888888888888888,
              "#fdca26"
             ],
             [
              1,
              "#f0f921"
             ]
            ],
            "type": "surface"
           }
          ],
          "table": [
           {
            "cells": {
             "fill": {
              "color": "#EBF0F8"
             },
             "line": {
              "color": "white"
             }
            },
            "header": {
             "fill": {
              "color": "#C8D4E3"
             },
             "line": {
              "color": "white"
             }
            },
            "type": "table"
           }
          ]
         },
         "layout": {
          "annotationdefaults": {
           "arrowcolor": "#2a3f5f",
           "arrowhead": 0,
           "arrowwidth": 1
          },
          "autotypenumbers": "strict",
          "coloraxis": {
           "colorbar": {
            "outlinewidth": 0,
            "ticks": ""
           }
          },
          "colorscale": {
           "diverging": [
            [
             0,
             "#8e0152"
            ],
            [
             0.1,
             "#c51b7d"
            ],
            [
             0.2,
             "#de77ae"
            ],
            [
             0.3,
             "#f1b6da"
            ],
            [
             0.4,
             "#fde0ef"
            ],
            [
             0.5,
             "#f7f7f7"
            ],
            [
             0.6,
             "#e6f5d0"
            ],
            [
             0.7,
             "#b8e186"
            ],
            [
             0.8,
             "#7fbc41"
            ],
            [
             0.9,
             "#4d9221"
            ],
            [
             1,
             "#276419"
            ]
           ],
           "sequential": [
            [
             0,
             "#0d0887"
            ],
            [
             0.1111111111111111,
             "#46039f"
            ],
            [
             0.2222222222222222,
             "#7201a8"
            ],
            [
             0.3333333333333333,
             "#9c179e"
            ],
            [
             0.4444444444444444,
             "#bd3786"
            ],
            [
             0.5555555555555556,
             "#d8576b"
            ],
            [
             0.6666666666666666,
             "#ed7953"
            ],
            [
             0.7777777777777778,
             "#fb9f3a"
            ],
            [
             0.8888888888888888,
             "#fdca26"
            ],
            [
             1,
             "#f0f921"
            ]
           ],
           "sequentialminus": [
            [
             0,
             "#0d0887"
            ],
            [
             0.1111111111111111,
             "#46039f"
            ],
            [
             0.2222222222222222,
             "#7201a8"
            ],
            [
             0.3333333333333333,
             "#9c179e"
            ],
            [
             0.4444444444444444,
             "#bd3786"
            ],
            [
             0.5555555555555556,
             "#d8576b"
            ],
            [
             0.6666666666666666,
             "#ed7953"
            ],
            [
             0.7777777777777778,
             "#fb9f3a"
            ],
            [
             0.8888888888888888,
             "#fdca26"
            ],
            [
             1,
             "#f0f921"
            ]
           ]
          },
          "colorway": [
           "#636efa",
           "#EF553B",
           "#00cc96",
           "#ab63fa",
           "#FFA15A",
           "#19d3f3",
           "#FF6692",
           "#B6E880",
           "#FF97FF",
           "#FECB52"
          ],
          "font": {
           "color": "#2a3f5f"
          },
          "geo": {
           "bgcolor": "white",
           "lakecolor": "white",
           "landcolor": "#E5ECF6",
           "showlakes": true,
           "showland": true,
           "subunitcolor": "white"
          },
          "hoverlabel": {
           "align": "left"
          },
          "hovermode": "closest",
          "mapbox": {
           "style": "light"
          },
          "paper_bgcolor": "white",
          "plot_bgcolor": "#E5ECF6",
          "polar": {
           "angularaxis": {
            "gridcolor": "white",
            "linecolor": "white",
            "ticks": ""
           },
           "bgcolor": "#E5ECF6",
           "radialaxis": {
            "gridcolor": "white",
            "linecolor": "white",
            "ticks": ""
           }
          },
          "scene": {
           "xaxis": {
            "backgroundcolor": "#E5ECF6",
            "gridcolor": "white",
            "gridwidth": 2,
            "linecolor": "white",
            "showbackground": true,
            "ticks": "",
            "zerolinecolor": "white"
           },
           "yaxis": {
            "backgroundcolor": "#E5ECF6",
            "gridcolor": "white",
            "gridwidth": 2,
            "linecolor": "white",
            "showbackground": true,
            "ticks": "",
            "zerolinecolor": "white"
           },
           "zaxis": {
            "backgroundcolor": "#E5ECF6",
            "gridcolor": "white",
            "gridwidth": 2,
            "linecolor": "white",
            "showbackground": true,
            "ticks": "",
            "zerolinecolor": "white"
           }
          },
          "shapedefaults": {
           "line": {
            "color": "#2a3f5f"
           }
          },
          "ternary": {
           "aaxis": {
            "gridcolor": "white",
            "linecolor": "white",
            "ticks": ""
           },
           "baxis": {
            "gridcolor": "white",
            "linecolor": "white",
            "ticks": ""
           },
           "bgcolor": "#E5ECF6",
           "caxis": {
            "gridcolor": "white",
            "linecolor": "white",
            "ticks": ""
           }
          },
          "title": {
           "x": 0.05
          },
          "xaxis": {
           "automargin": true,
           "gridcolor": "white",
           "linecolor": "white",
           "ticks": "",
           "title": {
            "standoff": 15
           },
           "zerolinecolor": "white",
           "zerolinewidth": 2
          },
          "yaxis": {
           "automargin": true,
           "gridcolor": "white",
           "linecolor": "white",
           "ticks": "",
           "title": {
            "standoff": 15
           },
           "zerolinecolor": "white",
           "zerolinewidth": 2
          }
         }
        },
        "xaxis": {
         "anchor": "y",
         "domain": [
          0,
          1
         ],
         "title": {
          "text": "outpatient_facilities_per_100k"
         }
        },
        "yaxis": {
         "anchor": "x",
         "domain": [
          0,
          1
         ],
         "title": {
          "text": "suicide_rate"
         }
        }
       }
      }
     },
     "metadata": {},
     "output_type": "display_data"
    }
   ],
   "source": [
    "fig = px.scatter(df2016[df2016[\"outpatient_facilities_per_100k\"] < 5], x=\"outpatient_facilities_per_100k\", y=\"suicide_rate\", trendline=\"ols\")\n",
    "fig.show()"
   ]
  },
  {
   "attachments": {},
   "cell_type": "markdown",
   "metadata": {},
   "source": [
    "It's a good thing that 10 line is there or I wouldn't be able to tell which direction the trend line is going."
   ]
  },
  {
   "cell_type": "code",
   "execution_count": 15,
   "metadata": {},
   "outputs": [
    {
     "data": {
      "application/vnd.plotly.v1+json": {
       "config": {
        "plotlyServerURL": "https://plot.ly"
       },
       "data": [
        {
         "hovertemplate": "sex=Male<br>day_treatment_facilities_per_100k=%{x}<br>suicide_rate=%{y}<extra></extra>",
         "legendgroup": "Male",
         "marker": {
          "color": "#636efa",
          "symbol": "circle"
         },
         "mode": "markers",
         "name": "Male",
         "orientation": "v",
         "showlegend": true,
         "type": "scatter",
         "x": [
          0.034,
          0.094,
          0.285,
          0.278,
          0.718,
          0.315,
          0.022,
          0.125,
          0.445,
          0.019,
          0.011,
          0.112,
          0.101,
          0.018,
          1.319,
          0.803,
          0.02,
          0.023,
          0.085,
          0.051,
          0.134,
          0.101,
          0.004,
          0.079,
          0.021,
          0.019,
          0.885,
          0.025,
          0.016,
          0.002,
          0.716,
          0.518,
          0.015,
          0.115,
          0.277,
          0.163,
          1.067,
          0.007,
          1.576,
          0.612,
          0.052,
          0.516,
          0.006
         ],
         "xaxis": "x",
         "y": [
          10.1,
          4.3,
          39.3,
          9.9,
          6.2,
          16,
          32,
          12.8,
          16.4,
          17.9,
          7.2,
          8.8,
          12.3,
          15.8,
          6.1,
          18.8,
          22.2,
          18.5,
          17.6,
          14.8,
          29.6,
          2.5,
          10.5,
          8.2,
          14,
          11.5,
          13.6,
          7.6,
          7.6,
          5.2,
          23.9,
          14.3,
          12.3,
          7.3,
          13.9,
          11.1,
          15,
          21.4,
          34.5,
          26.8,
          10.3,
          8.7,
          29.1
         ],
         "yaxis": "y"
        },
        {
         "hovertemplate": "<b>OLS trendline</b><br>suicide_rate = 4.35008 * day_treatment_facilities_per_100k + 13.8268<br>R<sup>2</sup>=0.038214<br><br>sex=Male<br>day_treatment_facilities_per_100k=%{x}<br>suicide_rate=%{y} <b>(trend)</b><extra></extra>",
         "legendgroup": "Male",
         "marker": {
          "color": "#636efa",
          "symbol": "circle"
         },
         "mode": "lines",
         "name": "Male",
         "showlegend": false,
         "type": "scatter",
         "x": [
          0.002,
          0.004,
          0.006,
          0.007,
          0.011,
          0.015,
          0.016,
          0.018,
          0.019,
          0.019,
          0.02,
          0.021,
          0.022,
          0.023,
          0.025,
          0.034,
          0.051,
          0.052,
          0.079,
          0.085,
          0.094,
          0.101,
          0.101,
          0.112,
          0.115,
          0.125,
          0.134,
          0.163,
          0.277,
          0.278,
          0.285,
          0.315,
          0.445,
          0.516,
          0.518,
          0.612,
          0.716,
          0.718,
          0.803,
          0.885,
          1.067,
          1.319,
          1.576
         ],
         "xaxis": "x",
         "y": [
          13.835481770994598,
          13.844181938915273,
          13.852882106835947,
          13.857232190796285,
          13.874632526637633,
          13.892032862478983,
          13.89638294643932,
          13.905083114359995,
          13.909433198320333,
          13.909433198320333,
          13.913783282280669,
          13.918133366241006,
          13.922483450201344,
          13.92683353416168,
          13.935533702082356,
          13.974684457725392,
          14.048635885051125,
          14.052985969011463,
          14.17043823594057,
          14.196538739702593,
          14.235689495345628,
          14.266140083067988,
          14.266140083067988,
          14.3139910066317,
          14.327041258512711,
          14.370542098116083,
          14.409692853759118,
          14.535845288608899,
          15.031754860087348,
          15.036104944047686,
          15.066555531770046,
          15.197058050580164,
          15.76256896542401,
          16.071424926607957,
          16.080125094528633,
          16.489032986800336,
          16.941441718675414,
          16.950141886596086,
          17.319899023224757,
          17.676605907972412,
          18.468321188753794,
          19.56454234675879,
          20.68251392456547
         ],
         "yaxis": "y"
        },
        {
         "hovertemplate": "sex=Female<br>day_treatment_facilities_per_100k=%{x}<br>suicide_rate=%{y}<extra></extra>",
         "legendgroup": "Female",
         "marker": {
          "color": "#EF553B",
          "symbol": "circle"
         },
         "mode": "markers",
         "name": "Female",
         "orientation": "v",
         "showlegend": true,
         "type": "scatter",
         "x": [
          0.034,
          0.094,
          0.285,
          0.278,
          0.718,
          0.315,
          0.022,
          0.125,
          0.445,
          0.019,
          0.011,
          0.112,
          0.101,
          0.018,
          1.319,
          0.803,
          0.02,
          0.023,
          0.085,
          0.051,
          0.134,
          0.101,
          0.004,
          0.079,
          0.021,
          0.019,
          0.885,
          0.025,
          0.016,
          0.002,
          0.716,
          0.518,
          0.015,
          0.115,
          0.277,
          0.163,
          1.067,
          0.007,
          1.576,
          0.612,
          0.052,
          0.516,
          0.006
         ],
         "xaxis": "x",
         "y": [
          2,
          1,
          6.2,
          2,
          2.8,
          3.8,
          13,
          2.3,
          4.1,
          3.2,
          1.7,
          2.5,
          1.9,
          2.9,
          1.5,
          5.1,
          6.2,
          14.5,
          4.2,
          3.7,
          11.6,
          3.6,
          3.6,
          2.3,
          4.1,
          6.7,
          6.5,
          1.2,
          2.7,
          2.3,
          3.4,
          3.8,
          6.2,
          1.1,
          2.4,
          4.9,
          2.1,
          4.8,
          4.7,
          7.1,
          4.6,
          2.2,
          11.1
         ],
         "yaxis": "y"
        },
        {
         "hovertemplate": "<b>OLS trendline</b><br>suicide_rate = -0.976822 * day_treatment_facilities_per_100k + 4.63094<br>R<sup>2</sup>=0.014321<br><br>sex=Female<br>day_treatment_facilities_per_100k=%{x}<br>suicide_rate=%{y} <b>(trend)</b><extra></extra>",
         "legendgroup": "Female",
         "marker": {
          "color": "#EF553B",
          "symbol": "circle"
         },
         "mode": "lines",
         "name": "Female",
         "showlegend": false,
         "type": "scatter",
         "x": [
          0.002,
          0.004,
          0.006,
          0.007,
          0.011,
          0.015,
          0.016,
          0.018,
          0.019,
          0.019,
          0.02,
          0.021,
          0.022,
          0.023,
          0.025,
          0.034,
          0.051,
          0.052,
          0.079,
          0.085,
          0.094,
          0.101,
          0.101,
          0.112,
          0.115,
          0.125,
          0.134,
          0.163,
          0.277,
          0.278,
          0.285,
          0.315,
          0.445,
          0.516,
          0.518,
          0.612,
          0.716,
          0.718,
          0.803,
          0.885,
          1.067,
          1.319,
          1.576
         ],
         "xaxis": "x",
         "y": [
          4.628985965960448,
          4.627032322585077,
          4.625078679209706,
          4.62410185752202,
          4.620194570771278,
          4.616287284020536,
          4.61531046233285,
          4.613356818957479,
          4.612379997269794,
          4.612379997269794,
          4.611403175582108,
          4.610426353894423,
          4.609449532206737,
          4.6084727105190515,
          4.60651906714368,
          4.597727671954511,
          4.581121703263856,
          4.58014488157617,
          4.553770696008661,
          4.547909765882547,
          4.5391183706933775,
          4.532280618879579,
          4.532280618879579,
          4.521535580315037,
          4.51860511525198,
          4.508836898375125,
          4.500045503185955,
          4.471717674243075,
          4.360360001846922,
          4.359383180159236,
          4.3525454283454375,
          4.3232407777148705,
          4.19625395831575,
          4.126899618490075,
          4.124945975114704,
          4.033124736472263,
          3.9315352809529656,
          3.9295816375775945,
          3.8465517941243226,
          3.7664524157341077,
          3.588670868575338,
          3.3425118032785797,
          3.0914686295433933
         ],
         "yaxis": "y"
        }
       ],
       "layout": {
        "legend": {
         "title": {
          "text": "sex"
         },
         "tracegroupgap": 0
        },
        "margin": {
         "t": 60
        },
        "template": {
         "data": {
          "bar": [
           {
            "error_x": {
             "color": "#2a3f5f"
            },
            "error_y": {
             "color": "#2a3f5f"
            },
            "marker": {
             "line": {
              "color": "#E5ECF6",
              "width": 0.5
             },
             "pattern": {
              "fillmode": "overlay",
              "size": 10,
              "solidity": 0.2
             }
            },
            "type": "bar"
           }
          ],
          "barpolar": [
           {
            "marker": {
             "line": {
              "color": "#E5ECF6",
              "width": 0.5
             },
             "pattern": {
              "fillmode": "overlay",
              "size": 10,
              "solidity": 0.2
             }
            },
            "type": "barpolar"
           }
          ],
          "carpet": [
           {
            "aaxis": {
             "endlinecolor": "#2a3f5f",
             "gridcolor": "white",
             "linecolor": "white",
             "minorgridcolor": "white",
             "startlinecolor": "#2a3f5f"
            },
            "baxis": {
             "endlinecolor": "#2a3f5f",
             "gridcolor": "white",
             "linecolor": "white",
             "minorgridcolor": "white",
             "startlinecolor": "#2a3f5f"
            },
            "type": "carpet"
           }
          ],
          "choropleth": [
           {
            "colorbar": {
             "outlinewidth": 0,
             "ticks": ""
            },
            "type": "choropleth"
           }
          ],
          "contour": [
           {
            "colorbar": {
             "outlinewidth": 0,
             "ticks": ""
            },
            "colorscale": [
             [
              0,
              "#0d0887"
             ],
             [
              0.1111111111111111,
              "#46039f"
             ],
             [
              0.2222222222222222,
              "#7201a8"
             ],
             [
              0.3333333333333333,
              "#9c179e"
             ],
             [
              0.4444444444444444,
              "#bd3786"
             ],
             [
              0.5555555555555556,
              "#d8576b"
             ],
             [
              0.6666666666666666,
              "#ed7953"
             ],
             [
              0.7777777777777778,
              "#fb9f3a"
             ],
             [
              0.8888888888888888,
              "#fdca26"
             ],
             [
              1,
              "#f0f921"
             ]
            ],
            "type": "contour"
           }
          ],
          "contourcarpet": [
           {
            "colorbar": {
             "outlinewidth": 0,
             "ticks": ""
            },
            "type": "contourcarpet"
           }
          ],
          "heatmap": [
           {
            "colorbar": {
             "outlinewidth": 0,
             "ticks": ""
            },
            "colorscale": [
             [
              0,
              "#0d0887"
             ],
             [
              0.1111111111111111,
              "#46039f"
             ],
             [
              0.2222222222222222,
              "#7201a8"
             ],
             [
              0.3333333333333333,
              "#9c179e"
             ],
             [
              0.4444444444444444,
              "#bd3786"
             ],
             [
              0.5555555555555556,
              "#d8576b"
             ],
             [
              0.6666666666666666,
              "#ed7953"
             ],
             [
              0.7777777777777778,
              "#fb9f3a"
             ],
             [
              0.8888888888888888,
              "#fdca26"
             ],
             [
              1,
              "#f0f921"
             ]
            ],
            "type": "heatmap"
           }
          ],
          "heatmapgl": [
           {
            "colorbar": {
             "outlinewidth": 0,
             "ticks": ""
            },
            "colorscale": [
             [
              0,
              "#0d0887"
             ],
             [
              0.1111111111111111,
              "#46039f"
             ],
             [
              0.2222222222222222,
              "#7201a8"
             ],
             [
              0.3333333333333333,
              "#9c179e"
             ],
             [
              0.4444444444444444,
              "#bd3786"
             ],
             [
              0.5555555555555556,
              "#d8576b"
             ],
             [
              0.6666666666666666,
              "#ed7953"
             ],
             [
              0.7777777777777778,
              "#fb9f3a"
             ],
             [
              0.8888888888888888,
              "#fdca26"
             ],
             [
              1,
              "#f0f921"
             ]
            ],
            "type": "heatmapgl"
           }
          ],
          "histogram": [
           {
            "marker": {
             "pattern": {
              "fillmode": "overlay",
              "size": 10,
              "solidity": 0.2
             }
            },
            "type": "histogram"
           }
          ],
          "histogram2d": [
           {
            "colorbar": {
             "outlinewidth": 0,
             "ticks": ""
            },
            "colorscale": [
             [
              0,
              "#0d0887"
             ],
             [
              0.1111111111111111,
              "#46039f"
             ],
             [
              0.2222222222222222,
              "#7201a8"
             ],
             [
              0.3333333333333333,
              "#9c179e"
             ],
             [
              0.4444444444444444,
              "#bd3786"
             ],
             [
              0.5555555555555556,
              "#d8576b"
             ],
             [
              0.6666666666666666,
              "#ed7953"
             ],
             [
              0.7777777777777778,
              "#fb9f3a"
             ],
             [
              0.8888888888888888,
              "#fdca26"
             ],
             [
              1,
              "#f0f921"
             ]
            ],
            "type": "histogram2d"
           }
          ],
          "histogram2dcontour": [
           {
            "colorbar": {
             "outlinewidth": 0,
             "ticks": ""
            },
            "colorscale": [
             [
              0,
              "#0d0887"
             ],
             [
              0.1111111111111111,
              "#46039f"
             ],
             [
              0.2222222222222222,
              "#7201a8"
             ],
             [
              0.3333333333333333,
              "#9c179e"
             ],
             [
              0.4444444444444444,
              "#bd3786"
             ],
             [
              0.5555555555555556,
              "#d8576b"
             ],
             [
              0.6666666666666666,
              "#ed7953"
             ],
             [
              0.7777777777777778,
              "#fb9f3a"
             ],
             [
              0.8888888888888888,
              "#fdca26"
             ],
             [
              1,
              "#f0f921"
             ]
            ],
            "type": "histogram2dcontour"
           }
          ],
          "mesh3d": [
           {
            "colorbar": {
             "outlinewidth": 0,
             "ticks": ""
            },
            "type": "mesh3d"
           }
          ],
          "parcoords": [
           {
            "line": {
             "colorbar": {
              "outlinewidth": 0,
              "ticks": ""
             }
            },
            "type": "parcoords"
           }
          ],
          "pie": [
           {
            "automargin": true,
            "type": "pie"
           }
          ],
          "scatter": [
           {
            "fillpattern": {
             "fillmode": "overlay",
             "size": 10,
             "solidity": 0.2
            },
            "type": "scatter"
           }
          ],
          "scatter3d": [
           {
            "line": {
             "colorbar": {
              "outlinewidth": 0,
              "ticks": ""
             }
            },
            "marker": {
             "colorbar": {
              "outlinewidth": 0,
              "ticks": ""
             }
            },
            "type": "scatter3d"
           }
          ],
          "scattercarpet": [
           {
            "marker": {
             "colorbar": {
              "outlinewidth": 0,
              "ticks": ""
             }
            },
            "type": "scattercarpet"
           }
          ],
          "scattergeo": [
           {
            "marker": {
             "colorbar": {
              "outlinewidth": 0,
              "ticks": ""
             }
            },
            "type": "scattergeo"
           }
          ],
          "scattergl": [
           {
            "marker": {
             "colorbar": {
              "outlinewidth": 0,
              "ticks": ""
             }
            },
            "type": "scattergl"
           }
          ],
          "scattermapbox": [
           {
            "marker": {
             "colorbar": {
              "outlinewidth": 0,
              "ticks": ""
             }
            },
            "type": "scattermapbox"
           }
          ],
          "scatterpolar": [
           {
            "marker": {
             "colorbar": {
              "outlinewidth": 0,
              "ticks": ""
             }
            },
            "type": "scatterpolar"
           }
          ],
          "scatterpolargl": [
           {
            "marker": {
             "colorbar": {
              "outlinewidth": 0,
              "ticks": ""
             }
            },
            "type": "scatterpolargl"
           }
          ],
          "scatterternary": [
           {
            "marker": {
             "colorbar": {
              "outlinewidth": 0,
              "ticks": ""
             }
            },
            "type": "scatterternary"
           }
          ],
          "surface": [
           {
            "colorbar": {
             "outlinewidth": 0,
             "ticks": ""
            },
            "colorscale": [
             [
              0,
              "#0d0887"
             ],
             [
              0.1111111111111111,
              "#46039f"
             ],
             [
              0.2222222222222222,
              "#7201a8"
             ],
             [
              0.3333333333333333,
              "#9c179e"
             ],
             [
              0.4444444444444444,
              "#bd3786"
             ],
             [
              0.5555555555555556,
              "#d8576b"
             ],
             [
              0.6666666666666666,
              "#ed7953"
             ],
             [
              0.7777777777777778,
              "#fb9f3a"
             ],
             [
              0.8888888888888888,
              "#fdca26"
             ],
             [
              1,
              "#f0f921"
             ]
            ],
            "type": "surface"
           }
          ],
          "table": [
           {
            "cells": {
             "fill": {
              "color": "#EBF0F8"
             },
             "line": {
              "color": "white"
             }
            },
            "header": {
             "fill": {
              "color": "#C8D4E3"
             },
             "line": {
              "color": "white"
             }
            },
            "type": "table"
           }
          ]
         },
         "layout": {
          "annotationdefaults": {
           "arrowcolor": "#2a3f5f",
           "arrowhead": 0,
           "arrowwidth": 1
          },
          "autotypenumbers": "strict",
          "coloraxis": {
           "colorbar": {
            "outlinewidth": 0,
            "ticks": ""
           }
          },
          "colorscale": {
           "diverging": [
            [
             0,
             "#8e0152"
            ],
            [
             0.1,
             "#c51b7d"
            ],
            [
             0.2,
             "#de77ae"
            ],
            [
             0.3,
             "#f1b6da"
            ],
            [
             0.4,
             "#fde0ef"
            ],
            [
             0.5,
             "#f7f7f7"
            ],
            [
             0.6,
             "#e6f5d0"
            ],
            [
             0.7,
             "#b8e186"
            ],
            [
             0.8,
             "#7fbc41"
            ],
            [
             0.9,
             "#4d9221"
            ],
            [
             1,
             "#276419"
            ]
           ],
           "sequential": [
            [
             0,
             "#0d0887"
            ],
            [
             0.1111111111111111,
             "#46039f"
            ],
            [
             0.2222222222222222,
             "#7201a8"
            ],
            [
             0.3333333333333333,
             "#9c179e"
            ],
            [
             0.4444444444444444,
             "#bd3786"
            ],
            [
             0.5555555555555556,
             "#d8576b"
            ],
            [
             0.6666666666666666,
             "#ed7953"
            ],
            [
             0.7777777777777778,
             "#fb9f3a"
            ],
            [
             0.8888888888888888,
             "#fdca26"
            ],
            [
             1,
             "#f0f921"
            ]
           ],
           "sequentialminus": [
            [
             0,
             "#0d0887"
            ],
            [
             0.1111111111111111,
             "#46039f"
            ],
            [
             0.2222222222222222,
             "#7201a8"
            ],
            [
             0.3333333333333333,
             "#9c179e"
            ],
            [
             0.4444444444444444,
             "#bd3786"
            ],
            [
             0.5555555555555556,
             "#d8576b"
            ],
            [
             0.6666666666666666,
             "#ed7953"
            ],
            [
             0.7777777777777778,
             "#fb9f3a"
            ],
            [
             0.8888888888888888,
             "#fdca26"
            ],
            [
             1,
             "#f0f921"
            ]
           ]
          },
          "colorway": [
           "#636efa",
           "#EF553B",
           "#00cc96",
           "#ab63fa",
           "#FFA15A",
           "#19d3f3",
           "#FF6692",
           "#B6E880",
           "#FF97FF",
           "#FECB52"
          ],
          "font": {
           "color": "#2a3f5f"
          },
          "geo": {
           "bgcolor": "white",
           "lakecolor": "white",
           "landcolor": "#E5ECF6",
           "showlakes": true,
           "showland": true,
           "subunitcolor": "white"
          },
          "hoverlabel": {
           "align": "left"
          },
          "hovermode": "closest",
          "mapbox": {
           "style": "light"
          },
          "paper_bgcolor": "white",
          "plot_bgcolor": "#E5ECF6",
          "polar": {
           "angularaxis": {
            "gridcolor": "white",
            "linecolor": "white",
            "ticks": ""
           },
           "bgcolor": "#E5ECF6",
           "radialaxis": {
            "gridcolor": "white",
            "linecolor": "white",
            "ticks": ""
           }
          },
          "scene": {
           "xaxis": {
            "backgroundcolor": "#E5ECF6",
            "gridcolor": "white",
            "gridwidth": 2,
            "linecolor": "white",
            "showbackground": true,
            "ticks": "",
            "zerolinecolor": "white"
           },
           "yaxis": {
            "backgroundcolor": "#E5ECF6",
            "gridcolor": "white",
            "gridwidth": 2,
            "linecolor": "white",
            "showbackground": true,
            "ticks": "",
            "zerolinecolor": "white"
           },
           "zaxis": {
            "backgroundcolor": "#E5ECF6",
            "gridcolor": "white",
            "gridwidth": 2,
            "linecolor": "white",
            "showbackground": true,
            "ticks": "",
            "zerolinecolor": "white"
           }
          },
          "shapedefaults": {
           "line": {
            "color": "#2a3f5f"
           }
          },
          "ternary": {
           "aaxis": {
            "gridcolor": "white",
            "linecolor": "white",
            "ticks": ""
           },
           "baxis": {
            "gridcolor": "white",
            "linecolor": "white",
            "ticks": ""
           },
           "bgcolor": "#E5ECF6",
           "caxis": {
            "gridcolor": "white",
            "linecolor": "white",
            "ticks": ""
           }
          },
          "title": {
           "x": 0.05
          },
          "xaxis": {
           "automargin": true,
           "gridcolor": "white",
           "linecolor": "white",
           "ticks": "",
           "title": {
            "standoff": 15
           },
           "zerolinecolor": "white",
           "zerolinewidth": 2
          },
          "yaxis": {
           "automargin": true,
           "gridcolor": "white",
           "linecolor": "white",
           "ticks": "",
           "title": {
            "standoff": 15
           },
           "zerolinecolor": "white",
           "zerolinewidth": 2
          }
         }
        },
        "xaxis": {
         "anchor": "y",
         "domain": [
          0,
          1
         ],
         "title": {
          "text": "day_treatment_facilities_per_100k"
         }
        },
        "yaxis": {
         "anchor": "x",
         "domain": [
          0,
          1
         ],
         "title": {
          "text": "suicide_rate"
         }
        }
       }
      }
     },
     "metadata": {},
     "output_type": "display_data"
    }
   ],
   "source": [
    "fig = px.scatter(df2016g[df2016g[\"day_treatment_facilities_per_100k\"] < 2], x=\"day_treatment_facilities_per_100k\", y=\"suicide_rate\", trendline=\"ols\", color=\"sex\")\n",
    "fig.show()"
   ]
  },
  {
   "attachments": {},
   "cell_type": "markdown",
   "metadata": {},
   "source": [
    "Conclusion: mental hospitals and anything related to them are a waste of resources.\n",
    "\n",
    "### Scatterplots, part 2: Surely psychologists are useful?\n",
    "But first, psychiatrists."
   ]
  },
  {
   "cell_type": "code",
   "execution_count": 16,
   "metadata": {},
   "outputs": [
    {
     "data": {
      "application/vnd.plotly.v1+json": {
       "config": {
        "plotlyServerURL": "https://plot.ly"
       },
       "data": [
        {
         "hovertemplate": "sex=Male<br>psychiatrists_per_100k=%{x}<br>suicide_rate=%{y}<extra></extra>",
         "legendgroup": "Male",
         "marker": {
          "color": "#636efa",
          "symbol": "circle"
         },
         "mode": "markers",
         "name": "Male",
         "orientation": "v",
         "showlegend": true,
         "type": "scatter",
         "x": [
          0.231,
          0.057,
          1.471,
          1.649,
          1.001,
          0.039,
          0.13,
          1.392,
          1.128,
          1.197,
          0.508,
          0.13,
          0.08,
          1.835,
          0.458,
          1.6,
          0.224,
          0.259,
          0.058,
          0.025,
          0.101,
          1.872,
          0.492,
          0.911,
          0.075,
          0.31,
          0.292,
          1.125,
          0.184,
          1.688,
          0.387,
          0.044,
          0.564,
          0.839,
          0.058,
          0.207,
          0.029,
          0.384,
          0.046,
          1.048,
          0.371,
          0.014,
          0.356,
          0.518,
          0.06,
          1.321,
          0.2,
          0.887,
          0.025,
          0.511,
          1.265,
          0.368,
          0.007,
          0.054,
          0.721,
          1.392,
          0.081,
          1.637,
          0.082,
          0.378,
          1.548,
          0.201,
          1.521,
          0.056,
          0.095
         ],
         "xaxis": "x",
         "y": [
          10.6,
          14,
          7,
          3.5,
          0,
          22.4,
          5.5,
          9.9,
          16.9,
          6.2,
          13.8,
          32,
          13.9,
          11.5,
          10.7,
          7.2,
          8.8,
          15,
          15.8,
          12.7,
          12.8,
          2.1,
          4.4,
          46.6,
          18.3,
          5.2,
          18.5,
          4.7,
          9.7,
          14.8,
          9,
          13.8,
          12.7,
          2.5,
          10.5,
          8.2,
          13.5,
          6.3,
          14,
          8.7,
          19.4,
          11.5,
          11.4,
          5.2,
          16.9,
          4.6,
          20.3,
          24.8,
          8.3,
          4.2,
          36.1,
          3.8,
          17.1,
          22.7,
          21.4,
          5,
          9,
          11.3,
          21.2,
          8.1,
          8.7,
          13.4,
          21.7,
          17.5,
          29.1
         ],
         "yaxis": "y"
        },
        {
         "hovertemplate": "<b>OLS trendline</b><br>suicide_rate = -2.68185 * psychiatrists_per_100k + 14.581<br>R<sup>2</sup>=0.034501<br><br>sex=Male<br>psychiatrists_per_100k=%{x}<br>suicide_rate=%{y} <b>(trend)</b><extra></extra>",
         "legendgroup": "Male",
         "marker": {
          "color": "#636efa",
          "symbol": "circle"
         },
         "mode": "lines",
         "name": "Male",
         "showlegend": false,
         "type": "scatter",
         "x": [
          0.007,
          0.014,
          0.025,
          0.025,
          0.029,
          0.039,
          0.044,
          0.046,
          0.054,
          0.056,
          0.057,
          0.058,
          0.058,
          0.06,
          0.075,
          0.08,
          0.081,
          0.082,
          0.095,
          0.101,
          0.13,
          0.13,
          0.184,
          0.2,
          0.201,
          0.207,
          0.224,
          0.231,
          0.259,
          0.292,
          0.31,
          0.356,
          0.368,
          0.371,
          0.378,
          0.384,
          0.387,
          0.458,
          0.492,
          0.508,
          0.511,
          0.518,
          0.564,
          0.721,
          0.839,
          0.887,
          0.911,
          1.001,
          1.048,
          1.125,
          1.128,
          1.197,
          1.265,
          1.321,
          1.392,
          1.392,
          1.471,
          1.521,
          1.548,
          1.6,
          1.637,
          1.649,
          1.688,
          1.835,
          1.872
         ],
         "xaxis": "x",
         "y": [
          14.562241598366763,
          14.54346863689558,
          14.513968268869437,
          14.513968268869437,
          14.503240862314476,
          14.476422345927073,
          14.463013087733373,
          14.457649384455891,
          14.43619457134597,
          14.430830868068488,
          14.42814901642975,
          14.425467164791009,
          14.425467164791009,
          14.420103461513529,
          14.379875686932424,
          14.366466428738722,
          14.363784577099983,
          14.361102725461242,
          14.326238654157619,
          14.310147544325176,
          14.232373846801709,
          14.232373846801709,
          14.087553858309734,
          14.044644232089889,
          14.04196238045115,
          14.025871270618708,
          13.980279792760122,
          13.96150683128894,
          13.886414985404214,
          13.797913881325783,
          13.74964055182846,
          13.626275376446406,
          13.594093156781524,
          13.586047601865301,
          13.567274640394121,
          13.551183530561678,
          13.543137975645458,
          13.352726509294898,
          13.261543553577729,
          13.218633927357885,
          13.210588372441663,
          13.19181541097048,
          13.068450235588429,
          12.647399528306206,
          12.330941034934852,
          12.20221215627532,
          12.137847716945553,
          11.896481069458929,
          11.770434042438135,
          11.563931466255134,
          11.555885911338914,
          11.370838148265834,
          11.188472236831496,
          11.03828854506204,
          10.84787707871148,
          10.84787707871148,
          10.636010799250998,
          10.501918217313985,
          10.429508223067998,
          10.290051937853502,
          10.190823427220113,
          10.15864120755523,
          10.054048993644358,
          9.659816802749539,
          9.560588292116147
         ],
         "yaxis": "y"
        },
        {
         "hovertemplate": "sex=Female<br>psychiatrists_per_100k=%{x}<br>suicide_rate=%{y}<extra></extra>",
         "legendgroup": "Female",
         "marker": {
          "color": "#EF553B",
          "symbol": "circle"
         },
         "mode": "markers",
         "name": "Female",
         "orientation": "v",
         "showlegend": true,
         "type": "scatter",
         "x": [
          0.231,
          0.057,
          1.471,
          1.649,
          1.001,
          0.039,
          0.13,
          1.392,
          1.128,
          1.197,
          0.508,
          0.13,
          0.08,
          1.835,
          0.458,
          1.6,
          0.224,
          0.259,
          0.058,
          0.025,
          0.101,
          1.872,
          0.492,
          0.911,
          0.075,
          0.31,
          0.292,
          1.125,
          0.184,
          1.688,
          0.387,
          0.044,
          0.564,
          0.839,
          0.058,
          0.207,
          0.029,
          0.384,
          0.046,
          1.048,
          0.371,
          0.014,
          0.356,
          0.518,
          0.06,
          1.321,
          0.2,
          0.887,
          0.025,
          0.511,
          1.265,
          0.368,
          0.007,
          0.054,
          0.721,
          1.392,
          0.081,
          1.637,
          0.082,
          0.378,
          1.548,
          0.201,
          1.521,
          0.056,
          0.095
         ],
         "xaxis": "x",
         "y": [
          2.1,
          4.6,
          4.3,
          0.8,
          0.9,
          9.1,
          6.7,
          2,
          8.9,
          2.8,
          8.9,
          13,
          5,
          2.8,
          3.8,
          1.7,
          2.5,
          4.3,
          2.9,
          8.4,
          7.3,
          1,
          1.7,
          14.2,
          6.4,
          2.2,
          14.5,
          2.7,
          2.1,
          3.7,
          3.2,
          13,
          2.1,
          3.6,
          3.6,
          2.3,
          4.7,
          9.8,
          4.1,
          3.6,
          4.9,
          6.7,
          8,
          2.3,
          6,
          1.7,
          5.2,
          4.3,
          4.1,
          2.1,
          10.9,
          1.1,
          13.8,
          10.9,
          4.8,
          1.7,
          3.7,
          3.2,
          18.7,
          2.7,
          2.2,
          6.2,
          5.1,
          6.2,
          11.1
         ],
         "yaxis": "y"
        },
        {
         "hovertemplate": "<b>OLS trendline</b><br>suicide_rate = -2.51962 * psychiatrists_per_100k + 6.83283<br>R<sup>2</sup>=0.136864<br><br>sex=Female<br>psychiatrists_per_100k=%{x}<br>suicide_rate=%{y} <b>(trend)</b><extra></extra>",
         "legendgroup": "Female",
         "marker": {
          "color": "#EF553B",
          "symbol": "circle"
         },
         "mode": "lines",
         "name": "Female",
         "showlegend": false,
         "type": "scatter",
         "x": [
          0.007,
          0.014,
          0.025,
          0.025,
          0.029,
          0.039,
          0.044,
          0.046,
          0.054,
          0.056,
          0.057,
          0.058,
          0.058,
          0.06,
          0.075,
          0.08,
          0.081,
          0.082,
          0.095,
          0.101,
          0.13,
          0.13,
          0.184,
          0.2,
          0.201,
          0.207,
          0.224,
          0.231,
          0.259,
          0.292,
          0.31,
          0.356,
          0.368,
          0.371,
          0.378,
          0.384,
          0.387,
          0.458,
          0.492,
          0.508,
          0.511,
          0.518,
          0.564,
          0.721,
          0.839,
          0.887,
          0.911,
          1.001,
          1.048,
          1.125,
          1.128,
          1.197,
          1.265,
          1.321,
          1.392,
          1.392,
          1.471,
          1.521,
          1.548,
          1.6,
          1.637,
          1.649,
          1.688,
          1.835,
          1.872
         ],
         "xaxis": "x",
         "y": [
          6.81519560828601,
          6.797558256195331,
          6.769842417195693,
          6.769842417195693,
          6.759763930286733,
          6.734567713014335,
          6.721969604378136,
          6.716930360923656,
          6.696773387105737,
          6.691734143651257,
          6.6892145219240176,
          6.686694900196778,
          6.686694900196778,
          6.681655656742298,
          6.6438613308337,
          6.631263222197501,
          6.628743600470261,
          6.626223978743021,
          6.593468896288903,
          6.578351165925464,
          6.505282135835508,
          6.505282135835508,
          6.369222562564556,
          6.328908614928719,
          6.326388993201479,
          6.31127126283804,
          6.268437693474962,
          6.250800341384283,
          6.180250933021568,
          6.0971034160226525,
          6.051750224932335,
          5.935847625479302,
          5.905612164752424,
          5.898053299570704,
          5.880415947480025,
          5.865298217116586,
          5.857739351934867,
          5.678846209300838,
          5.593179070574683,
          5.5528651229388455,
          5.545306257757126,
          5.527668905666447,
          5.411766306213414,
          5.016185695036757,
          4.718870331222455,
          4.597928488314942,
          4.537457566861185,
          4.310691611409599,
          4.192269390229326,
          3.998258517231857,
          3.990699652050138,
          3.816845752870588,
          3.6455114754182785,
          3.504412658692847,
          3.3255195160588173,
          3.3255195160588173,
          3.1264693996068686,
          3.000488313244877,
          2.9324585266094005,
          2.801438196792928,
          2.708212192885054,
          2.677976732158176,
          2.579711484795822,
          2.2093270908915636,
          2.116101086983689
         ],
         "yaxis": "y"
        }
       ],
       "layout": {
        "legend": {
         "title": {
          "text": "sex"
         },
         "tracegroupgap": 0
        },
        "margin": {
         "t": 60
        },
        "template": {
         "data": {
          "bar": [
           {
            "error_x": {
             "color": "#2a3f5f"
            },
            "error_y": {
             "color": "#2a3f5f"
            },
            "marker": {
             "line": {
              "color": "#E5ECF6",
              "width": 0.5
             },
             "pattern": {
              "fillmode": "overlay",
              "size": 10,
              "solidity": 0.2
             }
            },
            "type": "bar"
           }
          ],
          "barpolar": [
           {
            "marker": {
             "line": {
              "color": "#E5ECF6",
              "width": 0.5
             },
             "pattern": {
              "fillmode": "overlay",
              "size": 10,
              "solidity": 0.2
             }
            },
            "type": "barpolar"
           }
          ],
          "carpet": [
           {
            "aaxis": {
             "endlinecolor": "#2a3f5f",
             "gridcolor": "white",
             "linecolor": "white",
             "minorgridcolor": "white",
             "startlinecolor": "#2a3f5f"
            },
            "baxis": {
             "endlinecolor": "#2a3f5f",
             "gridcolor": "white",
             "linecolor": "white",
             "minorgridcolor": "white",
             "startlinecolor": "#2a3f5f"
            },
            "type": "carpet"
           }
          ],
          "choropleth": [
           {
            "colorbar": {
             "outlinewidth": 0,
             "ticks": ""
            },
            "type": "choropleth"
           }
          ],
          "contour": [
           {
            "colorbar": {
             "outlinewidth": 0,
             "ticks": ""
            },
            "colorscale": [
             [
              0,
              "#0d0887"
             ],
             [
              0.1111111111111111,
              "#46039f"
             ],
             [
              0.2222222222222222,
              "#7201a8"
             ],
             [
              0.3333333333333333,
              "#9c179e"
             ],
             [
              0.4444444444444444,
              "#bd3786"
             ],
             [
              0.5555555555555556,
              "#d8576b"
             ],
             [
              0.6666666666666666,
              "#ed7953"
             ],
             [
              0.7777777777777778,
              "#fb9f3a"
             ],
             [
              0.8888888888888888,
              "#fdca26"
             ],
             [
              1,
              "#f0f921"
             ]
            ],
            "type": "contour"
           }
          ],
          "contourcarpet": [
           {
            "colorbar": {
             "outlinewidth": 0,
             "ticks": ""
            },
            "type": "contourcarpet"
           }
          ],
          "heatmap": [
           {
            "colorbar": {
             "outlinewidth": 0,
             "ticks": ""
            },
            "colorscale": [
             [
              0,
              "#0d0887"
             ],
             [
              0.1111111111111111,
              "#46039f"
             ],
             [
              0.2222222222222222,
              "#7201a8"
             ],
             [
              0.3333333333333333,
              "#9c179e"
             ],
             [
              0.4444444444444444,
              "#bd3786"
             ],
             [
              0.5555555555555556,
              "#d8576b"
             ],
             [
              0.6666666666666666,
              "#ed7953"
             ],
             [
              0.7777777777777778,
              "#fb9f3a"
             ],
             [
              0.8888888888888888,
              "#fdca26"
             ],
             [
              1,
              "#f0f921"
             ]
            ],
            "type": "heatmap"
           }
          ],
          "heatmapgl": [
           {
            "colorbar": {
             "outlinewidth": 0,
             "ticks": ""
            },
            "colorscale": [
             [
              0,
              "#0d0887"
             ],
             [
              0.1111111111111111,
              "#46039f"
             ],
             [
              0.2222222222222222,
              "#7201a8"
             ],
             [
              0.3333333333333333,
              "#9c179e"
             ],
             [
              0.4444444444444444,
              "#bd3786"
             ],
             [
              0.5555555555555556,
              "#d8576b"
             ],
             [
              0.6666666666666666,
              "#ed7953"
             ],
             [
              0.7777777777777778,
              "#fb9f3a"
             ],
             [
              0.8888888888888888,
              "#fdca26"
             ],
             [
              1,
              "#f0f921"
             ]
            ],
            "type": "heatmapgl"
           }
          ],
          "histogram": [
           {
            "marker": {
             "pattern": {
              "fillmode": "overlay",
              "size": 10,
              "solidity": 0.2
             }
            },
            "type": "histogram"
           }
          ],
          "histogram2d": [
           {
            "colorbar": {
             "outlinewidth": 0,
             "ticks": ""
            },
            "colorscale": [
             [
              0,
              "#0d0887"
             ],
             [
              0.1111111111111111,
              "#46039f"
             ],
             [
              0.2222222222222222,
              "#7201a8"
             ],
             [
              0.3333333333333333,
              "#9c179e"
             ],
             [
              0.4444444444444444,
              "#bd3786"
             ],
             [
              0.5555555555555556,
              "#d8576b"
             ],
             [
              0.6666666666666666,
              "#ed7953"
             ],
             [
              0.7777777777777778,
              "#fb9f3a"
             ],
             [
              0.8888888888888888,
              "#fdca26"
             ],
             [
              1,
              "#f0f921"
             ]
            ],
            "type": "histogram2d"
           }
          ],
          "histogram2dcontour": [
           {
            "colorbar": {
             "outlinewidth": 0,
             "ticks": ""
            },
            "colorscale": [
             [
              0,
              "#0d0887"
             ],
             [
              0.1111111111111111,
              "#46039f"
             ],
             [
              0.2222222222222222,
              "#7201a8"
             ],
             [
              0.3333333333333333,
              "#9c179e"
             ],
             [
              0.4444444444444444,
              "#bd3786"
             ],
             [
              0.5555555555555556,
              "#d8576b"
             ],
             [
              0.6666666666666666,
              "#ed7953"
             ],
             [
              0.7777777777777778,
              "#fb9f3a"
             ],
             [
              0.8888888888888888,
              "#fdca26"
             ],
             [
              1,
              "#f0f921"
             ]
            ],
            "type": "histogram2dcontour"
           }
          ],
          "mesh3d": [
           {
            "colorbar": {
             "outlinewidth": 0,
             "ticks": ""
            },
            "type": "mesh3d"
           }
          ],
          "parcoords": [
           {
            "line": {
             "colorbar": {
              "outlinewidth": 0,
              "ticks": ""
             }
            },
            "type": "parcoords"
           }
          ],
          "pie": [
           {
            "automargin": true,
            "type": "pie"
           }
          ],
          "scatter": [
           {
            "fillpattern": {
             "fillmode": "overlay",
             "size": 10,
             "solidity": 0.2
            },
            "type": "scatter"
           }
          ],
          "scatter3d": [
           {
            "line": {
             "colorbar": {
              "outlinewidth": 0,
              "ticks": ""
             }
            },
            "marker": {
             "colorbar": {
              "outlinewidth": 0,
              "ticks": ""
             }
            },
            "type": "scatter3d"
           }
          ],
          "scattercarpet": [
           {
            "marker": {
             "colorbar": {
              "outlinewidth": 0,
              "ticks": ""
             }
            },
            "type": "scattercarpet"
           }
          ],
          "scattergeo": [
           {
            "marker": {
             "colorbar": {
              "outlinewidth": 0,
              "ticks": ""
             }
            },
            "type": "scattergeo"
           }
          ],
          "scattergl": [
           {
            "marker": {
             "colorbar": {
              "outlinewidth": 0,
              "ticks": ""
             }
            },
            "type": "scattergl"
           }
          ],
          "scattermapbox": [
           {
            "marker": {
             "colorbar": {
              "outlinewidth": 0,
              "ticks": ""
             }
            },
            "type": "scattermapbox"
           }
          ],
          "scatterpolar": [
           {
            "marker": {
             "colorbar": {
              "outlinewidth": 0,
              "ticks": ""
             }
            },
            "type": "scatterpolar"
           }
          ],
          "scatterpolargl": [
           {
            "marker": {
             "colorbar": {
              "outlinewidth": 0,
              "ticks": ""
             }
            },
            "type": "scatterpolargl"
           }
          ],
          "scatterternary": [
           {
            "marker": {
             "colorbar": {
              "outlinewidth": 0,
              "ticks": ""
             }
            },
            "type": "scatterternary"
           }
          ],
          "surface": [
           {
            "colorbar": {
             "outlinewidth": 0,
             "ticks": ""
            },
            "colorscale": [
             [
              0,
              "#0d0887"
             ],
             [
              0.1111111111111111,
              "#46039f"
             ],
             [
              0.2222222222222222,
              "#7201a8"
             ],
             [
              0.3333333333333333,
              "#9c179e"
             ],
             [
              0.4444444444444444,
              "#bd3786"
             ],
             [
              0.5555555555555556,
              "#d8576b"
             ],
             [
              0.6666666666666666,
              "#ed7953"
             ],
             [
              0.7777777777777778,
              "#fb9f3a"
             ],
             [
              0.8888888888888888,
              "#fdca26"
             ],
             [
              1,
              "#f0f921"
             ]
            ],
            "type": "surface"
           }
          ],
          "table": [
           {
            "cells": {
             "fill": {
              "color": "#EBF0F8"
             },
             "line": {
              "color": "white"
             }
            },
            "header": {
             "fill": {
              "color": "#C8D4E3"
             },
             "line": {
              "color": "white"
             }
            },
            "type": "table"
           }
          ]
         },
         "layout": {
          "annotationdefaults": {
           "arrowcolor": "#2a3f5f",
           "arrowhead": 0,
           "arrowwidth": 1
          },
          "autotypenumbers": "strict",
          "coloraxis": {
           "colorbar": {
            "outlinewidth": 0,
            "ticks": ""
           }
          },
          "colorscale": {
           "diverging": [
            [
             0,
             "#8e0152"
            ],
            [
             0.1,
             "#c51b7d"
            ],
            [
             0.2,
             "#de77ae"
            ],
            [
             0.3,
             "#f1b6da"
            ],
            [
             0.4,
             "#fde0ef"
            ],
            [
             0.5,
             "#f7f7f7"
            ],
            [
             0.6,
             "#e6f5d0"
            ],
            [
             0.7,
             "#b8e186"
            ],
            [
             0.8,
             "#7fbc41"
            ],
            [
             0.9,
             "#4d9221"
            ],
            [
             1,
             "#276419"
            ]
           ],
           "sequential": [
            [
             0,
             "#0d0887"
            ],
            [
             0.1111111111111111,
             "#46039f"
            ],
            [
             0.2222222222222222,
             "#7201a8"
            ],
            [
             0.3333333333333333,
             "#9c179e"
            ],
            [
             0.4444444444444444,
             "#bd3786"
            ],
            [
             0.5555555555555556,
             "#d8576b"
            ],
            [
             0.6666666666666666,
             "#ed7953"
            ],
            [
             0.7777777777777778,
             "#fb9f3a"
            ],
            [
             0.8888888888888888,
             "#fdca26"
            ],
            [
             1,
             "#f0f921"
            ]
           ],
           "sequentialminus": [
            [
             0,
             "#0d0887"
            ],
            [
             0.1111111111111111,
             "#46039f"
            ],
            [
             0.2222222222222222,
             "#7201a8"
            ],
            [
             0.3333333333333333,
             "#9c179e"
            ],
            [
             0.4444444444444444,
             "#bd3786"
            ],
            [
             0.5555555555555556,
             "#d8576b"
            ],
            [
             0.6666666666666666,
             "#ed7953"
            ],
            [
             0.7777777777777778,
             "#fb9f3a"
            ],
            [
             0.8888888888888888,
             "#fdca26"
            ],
            [
             1,
             "#f0f921"
            ]
           ]
          },
          "colorway": [
           "#636efa",
           "#EF553B",
           "#00cc96",
           "#ab63fa",
           "#FFA15A",
           "#19d3f3",
           "#FF6692",
           "#B6E880",
           "#FF97FF",
           "#FECB52"
          ],
          "font": {
           "color": "#2a3f5f"
          },
          "geo": {
           "bgcolor": "white",
           "lakecolor": "white",
           "landcolor": "#E5ECF6",
           "showlakes": true,
           "showland": true,
           "subunitcolor": "white"
          },
          "hoverlabel": {
           "align": "left"
          },
          "hovermode": "closest",
          "mapbox": {
           "style": "light"
          },
          "paper_bgcolor": "white",
          "plot_bgcolor": "#E5ECF6",
          "polar": {
           "angularaxis": {
            "gridcolor": "white",
            "linecolor": "white",
            "ticks": ""
           },
           "bgcolor": "#E5ECF6",
           "radialaxis": {
            "gridcolor": "white",
            "linecolor": "white",
            "ticks": ""
           }
          },
          "scene": {
           "xaxis": {
            "backgroundcolor": "#E5ECF6",
            "gridcolor": "white",
            "gridwidth": 2,
            "linecolor": "white",
            "showbackground": true,
            "ticks": "",
            "zerolinecolor": "white"
           },
           "yaxis": {
            "backgroundcolor": "#E5ECF6",
            "gridcolor": "white",
            "gridwidth": 2,
            "linecolor": "white",
            "showbackground": true,
            "ticks": "",
            "zerolinecolor": "white"
           },
           "zaxis": {
            "backgroundcolor": "#E5ECF6",
            "gridcolor": "white",
            "gridwidth": 2,
            "linecolor": "white",
            "showbackground": true,
            "ticks": "",
            "zerolinecolor": "white"
           }
          },
          "shapedefaults": {
           "line": {
            "color": "#2a3f5f"
           }
          },
          "ternary": {
           "aaxis": {
            "gridcolor": "white",
            "linecolor": "white",
            "ticks": ""
           },
           "baxis": {
            "gridcolor": "white",
            "linecolor": "white",
            "ticks": ""
           },
           "bgcolor": "#E5ECF6",
           "caxis": {
            "gridcolor": "white",
            "linecolor": "white",
            "ticks": ""
           }
          },
          "title": {
           "x": 0.05
          },
          "xaxis": {
           "automargin": true,
           "gridcolor": "white",
           "linecolor": "white",
           "ticks": "",
           "title": {
            "standoff": 15
           },
           "zerolinecolor": "white",
           "zerolinewidth": 2
          },
          "yaxis": {
           "automargin": true,
           "gridcolor": "white",
           "linecolor": "white",
           "ticks": "",
           "title": {
            "standoff": 15
           },
           "zerolinecolor": "white",
           "zerolinewidth": 2
          }
         }
        },
        "xaxis": {
         "anchor": "y",
         "domain": [
          0,
          1
         ],
         "title": {
          "text": "psychiatrists_per_100k"
         }
        },
        "yaxis": {
         "anchor": "x",
         "domain": [
          0,
          1
         ],
         "title": {
          "text": "suicide_rate"
         }
        }
       }
      }
     },
     "metadata": {},
     "output_type": "display_data"
    }
   ],
   "source": [
    "fig = px.scatter(df2016g[df2016g[\"psychiatrists_per_100k\"] < 2], x=\"psychiatrists_per_100k\", y=\"suicide_rate\", trendline=\"ols\", color=\"sex\")\n",
    "fig.show()"
   ]
  },
  {
   "attachments": {},
   "cell_type": "markdown",
   "metadata": {},
   "source": [
    "It's only for one gender, but we've found a negative trend that just might actually mean something. Although in absolute rather than percentage terms, the lines are very close, and this isn't the only chart that's true of. Is there a certain percentage of male suicides that are inevitable, or perhaps a certain type we haven't figured out how to get to?"
   ]
  },
  {
   "cell_type": "code",
   "execution_count": 17,
   "metadata": {},
   "outputs": [
    {
     "data": {
      "application/vnd.plotly.v1+json": {
       "config": {
        "plotlyServerURL": "https://plot.ly"
       },
       "data": [
        {
         "hovertemplate": "sex=Male<br>nurses_per_100k=%{x}<br>suicide_rate=%{y}<extra></extra>",
         "legendgroup": "Male",
         "marker": {
          "color": "#636efa",
          "symbol": "circle"
         },
         "mode": "markers",
         "name": "Male",
         "orientation": "v",
         "showlegend": true,
         "type": "scatter",
         "x": [
          0.098,
          0.66,
          6.876,
          4.37,
          11.245,
          7.005,
          6.717,
          0.635,
          0.873,
          17.736,
          3.34,
          15.088,
          0.127,
          1.88,
          0.381,
          0.5,
          0,
          5.699,
          8.899,
          0.056,
          4.799,
          2.166,
          1.457,
          0.518,
          5.922,
          7.733,
          0.303,
          0.791,
          12.748,
          0.936,
          1.071,
          0.233,
          2.518,
          0.796,
          3.297,
          7.365,
          0.277,
          13.662,
          6.401,
          2.451,
          0.314,
          2.239,
          0.092,
          0.321,
          18.307,
          4.199,
          6.838,
          0.907,
          0.126,
          0.558,
          3.452,
          5.995,
          9.933,
          18.71,
          1.376,
          10.66,
          0.267,
          0.017,
          4.602,
          16.63,
          8.534,
          1.068,
          0.021,
          0.27,
          7.418,
          1.497,
          1.37,
          16.923,
          2.242,
          4.283,
          9.214,
          4.535,
          1.548,
          0.323,
          1.429,
          3.486
         ],
         "xaxis": "x",
         "y": [
          10.6,
          14,
          7,
          3.5,
          10.1,
          0,
          4.3,
          22.4,
          5.5,
          13.1,
          9.9,
          6.2,
          13.8,
          16,
          32,
          13.9,
          11.5,
          12.8,
          16.4,
          10.7,
          7.2,
          22.4,
          8.8,
          15,
          12.3,
          15.8,
          12.8,
          8.9,
          6.1,
          2.1,
          4.4,
          18.3,
          5.2,
          18.5,
          4.7,
          14.8,
          9,
          29.6,
          13.8,
          2.5,
          10.5,
          8.2,
          13.5,
          6.3,
          12.6,
          23.3,
          8.7,
          19.4,
          11.5,
          11.4,
          7.6,
          7.6,
          7.3,
          13.9,
          16.9,
          4.6,
          20.3,
          8.3,
          4.2,
          36.1,
          15,
          3.8,
          17.1,
          22.7,
          21.4,
          5,
          9,
          5.2,
          21.2,
          21.1,
          10.3,
          8.1,
          8.7,
          13.4,
          17.5,
          29.1
         ],
         "yaxis": "y"
        },
        {
         "hovertemplate": "<b>OLS trendline</b><br>suicide_rate = 0.0380369 * nurses_per_100k + 12.2877<br>R<sup>2</sup>=0.000711<br><br>sex=Male<br>nurses_per_100k=%{x}<br>suicide_rate=%{y} <b>(trend)</b><extra></extra>",
         "legendgroup": "Male",
         "marker": {
          "color": "#636efa",
          "symbol": "circle"
         },
         "mode": "lines",
         "name": "Male",
         "showlegend": false,
         "type": "scatter",
         "x": [
          0,
          0.017,
          0.021,
          0.056,
          0.092,
          0.098,
          0.126,
          0.127,
          0.233,
          0.267,
          0.27,
          0.277,
          0.303,
          0.314,
          0.321,
          0.323,
          0.381,
          0.5,
          0.518,
          0.558,
          0.635,
          0.66,
          0.791,
          0.796,
          0.873,
          0.907,
          0.936,
          1.068,
          1.071,
          1.37,
          1.376,
          1.429,
          1.457,
          1.497,
          1.548,
          1.88,
          2.166,
          2.239,
          2.242,
          2.451,
          2.518,
          3.297,
          3.34,
          3.452,
          3.486,
          4.199,
          4.283,
          4.37,
          4.535,
          4.602,
          4.799,
          5.699,
          5.922,
          5.995,
          6.401,
          6.717,
          6.838,
          6.876,
          7.005,
          7.365,
          7.418,
          7.733,
          8.534,
          8.899,
          9.214,
          9.933,
          10.66,
          11.245,
          12.748,
          13.662,
          15.088,
          16.63,
          16.923,
          17.736,
          18.307,
          18.71
         ],
         "xaxis": "x",
         "y": [
          12.287748860292414,
          12.288395486838,
          12.28854763426049,
          12.289878924207287,
          12.291248251009703,
          12.29147647214344,
          12.292541504100877,
          12.292579540956499,
          12.296611447652506,
          12.297904700743679,
          12.298018811310547,
          12.298285069299904,
          12.299274027546096,
          12.299692432957945,
          12.299958690947305,
          12.30003476465855,
          12.302240902284668,
          12.30676728810377,
          12.307451951504978,
          12.308973425729887,
          12.311902263612836,
          12.312853185003405,
          12.31783601308998,
          12.318026197368093,
          12.320955035251043,
          12.322248288342214,
          12.323351357155273,
          12.328372222097471,
          12.328486332664339,
          12.33985935249553,
          12.340087573629267,
          12.34210352697727,
          12.343168558934707,
          12.344690033159615,
          12.346629912796374,
          12.359258148863114,
          12.37013668957121,
          12.372913380031667,
          12.373027490598536,
          12.380977193423682,
          12.383525662750404,
          12.413156373280497,
          12.414791958072275,
          12.419052085902019,
          12.42034533899319,
          12.447465617052185,
          12.450660712924492,
          12.453969919363669,
          12.460246000541416,
          12.462794469868138,
          12.470287730425811,
          12.504520900486254,
          12.513003119290119,
          12.515779809750576,
          12.531222773133397,
          12.543242419510175,
          12.547844879040523,
          12.549290279554185,
          12.554197033929515,
          12.567890301953693,
          12.569906255301696,
          12.581887864822852,
          12.612355386176644,
          12.626238838478933,
          12.638220448000089,
          12.665568947192819,
          12.69322174123053,
          12.715473301769817,
          12.772642695770754,
          12.807408381809914,
          12.861648937927903,
          12.920301769298126,
          12.93144656799558,
          12.962370531616845,
          12.984089576177414,
          12.999418428993367
         ],
         "yaxis": "y"
        },
        {
         "hovertemplate": "sex=Female<br>nurses_per_100k=%{x}<br>suicide_rate=%{y}<extra></extra>",
         "legendgroup": "Female",
         "marker": {
          "color": "#EF553B",
          "symbol": "circle"
         },
         "mode": "markers",
         "name": "Female",
         "orientation": "v",
         "showlegend": true,
         "type": "scatter",
         "x": [
          0.098,
          0.66,
          6.876,
          4.37,
          11.245,
          7.005,
          6.717,
          0.635,
          0.873,
          17.736,
          3.34,
          15.088,
          0.127,
          1.88,
          0.381,
          0.5,
          0,
          5.699,
          8.899,
          0.056,
          4.799,
          2.166,
          1.457,
          0.518,
          5.922,
          7.733,
          0.303,
          0.791,
          12.748,
          0.936,
          1.071,
          0.233,
          2.518,
          0.796,
          3.297,
          7.365,
          0.277,
          13.662,
          6.401,
          2.451,
          0.314,
          2.239,
          0.092,
          0.321,
          18.307,
          4.199,
          6.838,
          0.907,
          0.126,
          0.558,
          3.452,
          5.995,
          9.933,
          18.71,
          1.376,
          10.66,
          0.267,
          0.017,
          4.602,
          16.63,
          8.534,
          1.068,
          0.021,
          0.27,
          7.418,
          1.497,
          1.37,
          16.923,
          2.242,
          4.283,
          9.214,
          4.535,
          1.548,
          0.323,
          1.429,
          3.486
         ],
         "xaxis": "x",
         "y": [
          2.1,
          4.6,
          4.3,
          0.8,
          2,
          0.9,
          1,
          9.1,
          6.7,
          3.2,
          2,
          2.8,
          8.9,
          3.8,
          13,
          5,
          2.8,
          2.3,
          4.1,
          3.8,
          1.7,
          6.1,
          2.5,
          4.3,
          1.9,
          2.9,
          7.3,
          6.1,
          1.5,
          1,
          1.7,
          6.4,
          2.2,
          14.5,
          2.7,
          3.7,
          3.2,
          11.6,
          13,
          3.6,
          3.6,
          2.3,
          4.7,
          9.8,
          3.6,
          3.8,
          3.6,
          4.9,
          6.7,
          8,
          1.2,
          2.7,
          1.1,
          2.4,
          6,
          1.7,
          5.2,
          4.1,
          2.1,
          10.9,
          2.1,
          1.1,
          13.8,
          10.9,
          4.8,
          1.7,
          3.7,
          2.9,
          18.7,
          6.4,
          4.6,
          2.7,
          2.2,
          6.2,
          6.2,
          11.1
         ],
         "yaxis": "y"
        },
        {
         "hovertemplate": "<b>OLS trendline</b><br>suicide_rate = -0.14085 * nurses_per_100k + 5.47517<br>R<sup>2</sup>=0.036952<br><br>sex=Female<br>nurses_per_100k=%{x}<br>suicide_rate=%{y} <b>(trend)</b><extra></extra>",
         "legendgroup": "Female",
         "marker": {
          "color": "#EF553B",
          "symbol": "circle"
         },
         "mode": "lines",
         "name": "Female",
         "showlegend": false,
         "type": "scatter",
         "x": [
          0,
          0.017,
          0.021,
          0.056,
          0.092,
          0.098,
          0.126,
          0.127,
          0.233,
          0.267,
          0.27,
          0.277,
          0.303,
          0.314,
          0.321,
          0.323,
          0.381,
          0.5,
          0.518,
          0.558,
          0.635,
          0.66,
          0.791,
          0.796,
          0.873,
          0.907,
          0.936,
          1.068,
          1.071,
          1.37,
          1.376,
          1.429,
          1.457,
          1.497,
          1.548,
          1.88,
          2.166,
          2.239,
          2.242,
          2.451,
          2.518,
          3.297,
          3.34,
          3.452,
          3.486,
          4.199,
          4.283,
          4.37,
          4.535,
          4.602,
          4.799,
          5.699,
          5.922,
          5.995,
          6.401,
          6.717,
          6.838,
          6.876,
          7.005,
          7.365,
          7.418,
          7.733,
          8.534,
          8.899,
          9.214,
          9.933,
          10.66,
          11.245,
          12.748,
          13.662,
          15.088,
          16.63,
          16.923,
          17.736,
          18.307,
          18.71
         ],
         "xaxis": "x",
         "y": [
          5.475174509718334,
          5.472780064269605,
          5.4722166653404924,
          5.4672869247107565,
          5.462216334348742,
          5.461371235955073,
          5.457427443451285,
          5.457286593719006,
          5.442356522097519,
          5.437567631200062,
          5.437145082003227,
          5.43615913387728,
          5.432497040838047,
          5.430947693782987,
          5.429961745657041,
          5.429680046192484,
          5.4215107617203495,
          5.404749643579247,
          5.40221434839824,
          5.396580359107113,
          5.385734929721694,
          5.382213686414739,
          5.363762371486298,
          5.363058122824907,
          5.352212693439488,
          5.34742380254203,
          5.343339160305963,
          5.324746995645244,
          5.32432444644841,
          5.282210376497235,
          5.281365278103566,
          5.2739002422928225,
          5.269956449789034,
          5.264322460497907,
          5.2571391241517205,
          5.210377013035366,
          5.170093989603808,
          5.159811959147501,
          5.159389409950667,
          5.129951815904529,
          5.120514883841891,
          5.010792942397193,
          5.004736403909232,
          4.988961233894076,
          4.984172342996618,
          4.8837464838822795,
          4.871915106370913,
          4.859661179662712,
          4.836420973836813,
          4.826984041774176,
          4.799236644515375,
          4.6724718854650185,
          4.641062395166985,
          4.630780364710678,
          4.573595373405739,
          4.5290868580058365,
          4.512044040400177,
          4.506691750573607,
          4.488522135109722,
          4.437816231489579,
          4.430351195678836,
          4.385983530011211,
          4.2731628944563935,
          4.22175274217486,
          4.1773850765072345,
          4.076114118999227,
          3.9737163636329944,
          3.8913192702502624,
          3.6796221226361663,
          3.5508854673339147,
          3.350033749105238,
          3.132843461932293,
          3.091574490374788,
          2.9770636580326317,
          2.8966384609017943,
          2.83987601879369
         ],
         "yaxis": "y"
        }
       ],
       "layout": {
        "legend": {
         "title": {
          "text": "sex"
         },
         "tracegroupgap": 0
        },
        "margin": {
         "t": 60
        },
        "template": {
         "data": {
          "bar": [
           {
            "error_x": {
             "color": "#2a3f5f"
            },
            "error_y": {
             "color": "#2a3f5f"
            },
            "marker": {
             "line": {
              "color": "#E5ECF6",
              "width": 0.5
             },
             "pattern": {
              "fillmode": "overlay",
              "size": 10,
              "solidity": 0.2
             }
            },
            "type": "bar"
           }
          ],
          "barpolar": [
           {
            "marker": {
             "line": {
              "color": "#E5ECF6",
              "width": 0.5
             },
             "pattern": {
              "fillmode": "overlay",
              "size": 10,
              "solidity": 0.2
             }
            },
            "type": "barpolar"
           }
          ],
          "carpet": [
           {
            "aaxis": {
             "endlinecolor": "#2a3f5f",
             "gridcolor": "white",
             "linecolor": "white",
             "minorgridcolor": "white",
             "startlinecolor": "#2a3f5f"
            },
            "baxis": {
             "endlinecolor": "#2a3f5f",
             "gridcolor": "white",
             "linecolor": "white",
             "minorgridcolor": "white",
             "startlinecolor": "#2a3f5f"
            },
            "type": "carpet"
           }
          ],
          "choropleth": [
           {
            "colorbar": {
             "outlinewidth": 0,
             "ticks": ""
            },
            "type": "choropleth"
           }
          ],
          "contour": [
           {
            "colorbar": {
             "outlinewidth": 0,
             "ticks": ""
            },
            "colorscale": [
             [
              0,
              "#0d0887"
             ],
             [
              0.1111111111111111,
              "#46039f"
             ],
             [
              0.2222222222222222,
              "#7201a8"
             ],
             [
              0.3333333333333333,
              "#9c179e"
             ],
             [
              0.4444444444444444,
              "#bd3786"
             ],
             [
              0.5555555555555556,
              "#d8576b"
             ],
             [
              0.6666666666666666,
              "#ed7953"
             ],
             [
              0.7777777777777778,
              "#fb9f3a"
             ],
             [
              0.8888888888888888,
              "#fdca26"
             ],
             [
              1,
              "#f0f921"
             ]
            ],
            "type": "contour"
           }
          ],
          "contourcarpet": [
           {
            "colorbar": {
             "outlinewidth": 0,
             "ticks": ""
            },
            "type": "contourcarpet"
           }
          ],
          "heatmap": [
           {
            "colorbar": {
             "outlinewidth": 0,
             "ticks": ""
            },
            "colorscale": [
             [
              0,
              "#0d0887"
             ],
             [
              0.1111111111111111,
              "#46039f"
             ],
             [
              0.2222222222222222,
              "#7201a8"
             ],
             [
              0.3333333333333333,
              "#9c179e"
             ],
             [
              0.4444444444444444,
              "#bd3786"
             ],
             [
              0.5555555555555556,
              "#d8576b"
             ],
             [
              0.6666666666666666,
              "#ed7953"
             ],
             [
              0.7777777777777778,
              "#fb9f3a"
             ],
             [
              0.8888888888888888,
              "#fdca26"
             ],
             [
              1,
              "#f0f921"
             ]
            ],
            "type": "heatmap"
           }
          ],
          "heatmapgl": [
           {
            "colorbar": {
             "outlinewidth": 0,
             "ticks": ""
            },
            "colorscale": [
             [
              0,
              "#0d0887"
             ],
             [
              0.1111111111111111,
              "#46039f"
             ],
             [
              0.2222222222222222,
              "#7201a8"
             ],
             [
              0.3333333333333333,
              "#9c179e"
             ],
             [
              0.4444444444444444,
              "#bd3786"
             ],
             [
              0.5555555555555556,
              "#d8576b"
             ],
             [
              0.6666666666666666,
              "#ed7953"
             ],
             [
              0.7777777777777778,
              "#fb9f3a"
             ],
             [
              0.8888888888888888,
              "#fdca26"
             ],
             [
              1,
              "#f0f921"
             ]
            ],
            "type": "heatmapgl"
           }
          ],
          "histogram": [
           {
            "marker": {
             "pattern": {
              "fillmode": "overlay",
              "size": 10,
              "solidity": 0.2
             }
            },
            "type": "histogram"
           }
          ],
          "histogram2d": [
           {
            "colorbar": {
             "outlinewidth": 0,
             "ticks": ""
            },
            "colorscale": [
             [
              0,
              "#0d0887"
             ],
             [
              0.1111111111111111,
              "#46039f"
             ],
             [
              0.2222222222222222,
              "#7201a8"
             ],
             [
              0.3333333333333333,
              "#9c179e"
             ],
             [
              0.4444444444444444,
              "#bd3786"
             ],
             [
              0.5555555555555556,
              "#d8576b"
             ],
             [
              0.6666666666666666,
              "#ed7953"
             ],
             [
              0.7777777777777778,
              "#fb9f3a"
             ],
             [
              0.8888888888888888,
              "#fdca26"
             ],
             [
              1,
              "#f0f921"
             ]
            ],
            "type": "histogram2d"
           }
          ],
          "histogram2dcontour": [
           {
            "colorbar": {
             "outlinewidth": 0,
             "ticks": ""
            },
            "colorscale": [
             [
              0,
              "#0d0887"
             ],
             [
              0.1111111111111111,
              "#46039f"
             ],
             [
              0.2222222222222222,
              "#7201a8"
             ],
             [
              0.3333333333333333,
              "#9c179e"
             ],
             [
              0.4444444444444444,
              "#bd3786"
             ],
             [
              0.5555555555555556,
              "#d8576b"
             ],
             [
              0.6666666666666666,
              "#ed7953"
             ],
             [
              0.7777777777777778,
              "#fb9f3a"
             ],
             [
              0.8888888888888888,
              "#fdca26"
             ],
             [
              1,
              "#f0f921"
             ]
            ],
            "type": "histogram2dcontour"
           }
          ],
          "mesh3d": [
           {
            "colorbar": {
             "outlinewidth": 0,
             "ticks": ""
            },
            "type": "mesh3d"
           }
          ],
          "parcoords": [
           {
            "line": {
             "colorbar": {
              "outlinewidth": 0,
              "ticks": ""
             }
            },
            "type": "parcoords"
           }
          ],
          "pie": [
           {
            "automargin": true,
            "type": "pie"
           }
          ],
          "scatter": [
           {
            "fillpattern": {
             "fillmode": "overlay",
             "size": 10,
             "solidity": 0.2
            },
            "type": "scatter"
           }
          ],
          "scatter3d": [
           {
            "line": {
             "colorbar": {
              "outlinewidth": 0,
              "ticks": ""
             }
            },
            "marker": {
             "colorbar": {
              "outlinewidth": 0,
              "ticks": ""
             }
            },
            "type": "scatter3d"
           }
          ],
          "scattercarpet": [
           {
            "marker": {
             "colorbar": {
              "outlinewidth": 0,
              "ticks": ""
             }
            },
            "type": "scattercarpet"
           }
          ],
          "scattergeo": [
           {
            "marker": {
             "colorbar": {
              "outlinewidth": 0,
              "ticks": ""
             }
            },
            "type": "scattergeo"
           }
          ],
          "scattergl": [
           {
            "marker": {
             "colorbar": {
              "outlinewidth": 0,
              "ticks": ""
             }
            },
            "type": "scattergl"
           }
          ],
          "scattermapbox": [
           {
            "marker": {
             "colorbar": {
              "outlinewidth": 0,
              "ticks": ""
             }
            },
            "type": "scattermapbox"
           }
          ],
          "scatterpolar": [
           {
            "marker": {
             "colorbar": {
              "outlinewidth": 0,
              "ticks": ""
             }
            },
            "type": "scatterpolar"
           }
          ],
          "scatterpolargl": [
           {
            "marker": {
             "colorbar": {
              "outlinewidth": 0,
              "ticks": ""
             }
            },
            "type": "scatterpolargl"
           }
          ],
          "scatterternary": [
           {
            "marker": {
             "colorbar": {
              "outlinewidth": 0,
              "ticks": ""
             }
            },
            "type": "scatterternary"
           }
          ],
          "surface": [
           {
            "colorbar": {
             "outlinewidth": 0,
             "ticks": ""
            },
            "colorscale": [
             [
              0,
              "#0d0887"
             ],
             [
              0.1111111111111111,
              "#46039f"
             ],
             [
              0.2222222222222222,
              "#7201a8"
             ],
             [
              0.3333333333333333,
              "#9c179e"
             ],
             [
              0.4444444444444444,
              "#bd3786"
             ],
             [
              0.5555555555555556,
              "#d8576b"
             ],
             [
              0.6666666666666666,
              "#ed7953"
             ],
             [
              0.7777777777777778,
              "#fb9f3a"
             ],
             [
              0.8888888888888888,
              "#fdca26"
             ],
             [
              1,
              "#f0f921"
             ]
            ],
            "type": "surface"
           }
          ],
          "table": [
           {
            "cells": {
             "fill": {
              "color": "#EBF0F8"
             },
             "line": {
              "color": "white"
             }
            },
            "header": {
             "fill": {
              "color": "#C8D4E3"
             },
             "line": {
              "color": "white"
             }
            },
            "type": "table"
           }
          ]
         },
         "layout": {
          "annotationdefaults": {
           "arrowcolor": "#2a3f5f",
           "arrowhead": 0,
           "arrowwidth": 1
          },
          "autotypenumbers": "strict",
          "coloraxis": {
           "colorbar": {
            "outlinewidth": 0,
            "ticks": ""
           }
          },
          "colorscale": {
           "diverging": [
            [
             0,
             "#8e0152"
            ],
            [
             0.1,
             "#c51b7d"
            ],
            [
             0.2,
             "#de77ae"
            ],
            [
             0.3,
             "#f1b6da"
            ],
            [
             0.4,
             "#fde0ef"
            ],
            [
             0.5,
             "#f7f7f7"
            ],
            [
             0.6,
             "#e6f5d0"
            ],
            [
             0.7,
             "#b8e186"
            ],
            [
             0.8,
             "#7fbc41"
            ],
            [
             0.9,
             "#4d9221"
            ],
            [
             1,
             "#276419"
            ]
           ],
           "sequential": [
            [
             0,
             "#0d0887"
            ],
            [
             0.1111111111111111,
             "#46039f"
            ],
            [
             0.2222222222222222,
             "#7201a8"
            ],
            [
             0.3333333333333333,
             "#9c179e"
            ],
            [
             0.4444444444444444,
             "#bd3786"
            ],
            [
             0.5555555555555556,
             "#d8576b"
            ],
            [
             0.6666666666666666,
             "#ed7953"
            ],
            [
             0.7777777777777778,
             "#fb9f3a"
            ],
            [
             0.8888888888888888,
             "#fdca26"
            ],
            [
             1,
             "#f0f921"
            ]
           ],
           "sequentialminus": [
            [
             0,
             "#0d0887"
            ],
            [
             0.1111111111111111,
             "#46039f"
            ],
            [
             0.2222222222222222,
             "#7201a8"
            ],
            [
             0.3333333333333333,
             "#9c179e"
            ],
            [
             0.4444444444444444,
             "#bd3786"
            ],
            [
             0.5555555555555556,
             "#d8576b"
            ],
            [
             0.6666666666666666,
             "#ed7953"
            ],
            [
             0.7777777777777778,
             "#fb9f3a"
            ],
            [
             0.8888888888888888,
             "#fdca26"
            ],
            [
             1,
             "#f0f921"
            ]
           ]
          },
          "colorway": [
           "#636efa",
           "#EF553B",
           "#00cc96",
           "#ab63fa",
           "#FFA15A",
           "#19d3f3",
           "#FF6692",
           "#B6E880",
           "#FF97FF",
           "#FECB52"
          ],
          "font": {
           "color": "#2a3f5f"
          },
          "geo": {
           "bgcolor": "white",
           "lakecolor": "white",
           "landcolor": "#E5ECF6",
           "showlakes": true,
           "showland": true,
           "subunitcolor": "white"
          },
          "hoverlabel": {
           "align": "left"
          },
          "hovermode": "closest",
          "mapbox": {
           "style": "light"
          },
          "paper_bgcolor": "white",
          "plot_bgcolor": "#E5ECF6",
          "polar": {
           "angularaxis": {
            "gridcolor": "white",
            "linecolor": "white",
            "ticks": ""
           },
           "bgcolor": "#E5ECF6",
           "radialaxis": {
            "gridcolor": "white",
            "linecolor": "white",
            "ticks": ""
           }
          },
          "scene": {
           "xaxis": {
            "backgroundcolor": "#E5ECF6",
            "gridcolor": "white",
            "gridwidth": 2,
            "linecolor": "white",
            "showbackground": true,
            "ticks": "",
            "zerolinecolor": "white"
           },
           "yaxis": {
            "backgroundcolor": "#E5ECF6",
            "gridcolor": "white",
            "gridwidth": 2,
            "linecolor": "white",
            "showbackground": true,
            "ticks": "",
            "zerolinecolor": "white"
           },
           "zaxis": {
            "backgroundcolor": "#E5ECF6",
            "gridcolor": "white",
            "gridwidth": 2,
            "linecolor": "white",
            "showbackground": true,
            "ticks": "",
            "zerolinecolor": "white"
           }
          },
          "shapedefaults": {
           "line": {
            "color": "#2a3f5f"
           }
          },
          "ternary": {
           "aaxis": {
            "gridcolor": "white",
            "linecolor": "white",
            "ticks": ""
           },
           "baxis": {
            "gridcolor": "white",
            "linecolor": "white",
            "ticks": ""
           },
           "bgcolor": "#E5ECF6",
           "caxis": {
            "gridcolor": "white",
            "linecolor": "white",
            "ticks": ""
           }
          },
          "title": {
           "x": 0.05
          },
          "xaxis": {
           "automargin": true,
           "gridcolor": "white",
           "linecolor": "white",
           "ticks": "",
           "title": {
            "standoff": 15
           },
           "zerolinecolor": "white",
           "zerolinewidth": 2
          },
          "yaxis": {
           "automargin": true,
           "gridcolor": "white",
           "linecolor": "white",
           "ticks": "",
           "title": {
            "standoff": 15
           },
           "zerolinecolor": "white",
           "zerolinewidth": 2
          }
         }
        },
        "xaxis": {
         "anchor": "y",
         "domain": [
          0,
          1
         ],
         "title": {
          "text": "nurses_per_100k"
         }
        },
        "yaxis": {
         "anchor": "x",
         "domain": [
          0,
          1
         ],
         "title": {
          "text": "suicide_rate"
         }
        }
       }
      }
     },
     "metadata": {},
     "output_type": "display_data"
    }
   ],
   "source": [
    "fig = px.scatter(df2016g[df2016g[\"nurses_per_100k\"] < 20], x=\"nurses_per_100k\", y=\"suicide_rate\", trendline=\"ols\", color=\"sex\")\n",
    "fig.show()"
   ]
  },
  {
   "attachments": {},
   "cell_type": "markdown",
   "metadata": {},
   "source": [
    "I'm not seeing that much. It makes sense, nurses aren't strongly associated with suicide prevention the same way a few other occupations are."
   ]
  },
  {
   "cell_type": "code",
   "execution_count": 18,
   "metadata": {},
   "outputs": [
    {
     "data": {
      "application/vnd.plotly.v1+json": {
       "config": {
        "plotlyServerURL": "https://plot.ly"
       },
       "data": [
        {
         "hovertemplate": "sex=Male<br>social_workers_per_100k=%{x}<br>suicide_rate=%{y}<extra></extra>",
         "legendgroup": "Male",
         "marker": {
          "color": "#636efa",
          "symbol": "circle"
         },
         "mode": "markers",
         "name": "Male",
         "orientation": "v",
         "showlegend": true,
         "type": "scatter",
         "x": [
          0.022,
          0.36,
          0.274,
          0.114,
          0.011,
          0.78,
          0.239,
          0.02,
          0.294,
          0.019,
          0.448,
          0.041,
          0.532,
          0.56,
          0.104,
          0.008,
          0.101,
          0.169,
          0.006,
          0.373,
          0.065,
          0.218,
          0.564,
          0.646,
          0.05,
          0.53,
          0.013,
          0.101,
          0.018,
          0.206,
          0.028,
          0.115,
          0.503,
          0.172,
          0.067,
          0.301,
          0.511,
          0.362,
          0.801,
          0.007,
          0.054,
          0.836,
          0.037,
          0.378,
          0.056,
          0.019,
          0.634
         ],
         "xaxis": "x",
         "y": [
          14,
          3.5,
          10.1,
          4.3,
          22.4,
          13.1,
          6.2,
          13.9,
          17.9,
          10.7,
          7.2,
          22.4,
          25.6,
          8.8,
          15,
          12.7,
          12.8,
          8.9,
          4.4,
          18.3,
          18.5,
          4.7,
          12.7,
          2.5,
          10.5,
          8.2,
          6.3,
          23.3,
          14,
          19.4,
          11.5,
          7.3,
          13.9,
          16.9,
          20.3,
          24.8,
          4.2,
          36.1,
          3.8,
          17.1,
          22.7,
          21.4,
          21.2,
          8.1,
          13.4,
          17.5,
          29.1
         ],
         "yaxis": "y"
        },
        {
         "hovertemplate": "<b>OLS trendline</b><br>suicide_rate = -2.06311 * social_workers_per_100k + 14.5931<br>R<sup>2</sup>=0.004553<br><br>sex=Male<br>social_workers_per_100k=%{x}<br>suicide_rate=%{y} <b>(trend)</b><extra></extra>",
         "legendgroup": "Male",
         "marker": {
          "color": "#636efa",
          "symbol": "circle"
         },
         "mode": "lines",
         "name": "Male",
         "showlegend": false,
         "type": "scatter",
         "x": [
          0.006,
          0.007,
          0.008,
          0.011,
          0.013,
          0.018,
          0.019,
          0.019,
          0.02,
          0.022,
          0.028,
          0.037,
          0.041,
          0.05,
          0.054,
          0.056,
          0.065,
          0.067,
          0.101,
          0.101,
          0.104,
          0.114,
          0.115,
          0.169,
          0.172,
          0.206,
          0.218,
          0.239,
          0.274,
          0.294,
          0.301,
          0.36,
          0.362,
          0.373,
          0.378,
          0.448,
          0.503,
          0.511,
          0.53,
          0.532,
          0.56,
          0.564,
          0.634,
          0.646,
          0.78,
          0.801,
          0.836
         ],
         "xaxis": "x",
         "y": [
          14.580740739928496,
          14.578677630239628,
          14.576614520550761,
          14.57042519148416,
          14.566298972106425,
          14.55598342366209,
          14.553920313973222,
          14.553920313973222,
          14.551857204284355,
          14.547730984906622,
          14.535352326773419,
          14.516784339573613,
          14.508531900818145,
          14.489963913618341,
          14.481711474862871,
          14.477585255485138,
          14.459017268285333,
          14.4548910489076,
          14.384745319486116,
          14.384745319486116,
          14.378555990419514,
          14.357924893530843,
          14.355861783841975,
          14.244453860643148,
          14.238264531576547,
          14.168118802155064,
          14.143361485888658,
          14.100036182422446,
          14.027827343312097,
          13.986565149534753,
          13.972123381712683,
          13.85039991006952,
          13.846273690691786,
          13.823579484114248,
          13.813263935669912,
          13.66884625744921,
          13.555375224561516,
          13.53887034705058,
          13.499671262962103,
          13.495545043584368,
          13.437777972296088,
          13.42952553354062,
          13.285107855319918,
          13.260350539053512,
          12.983893840745312,
          12.940568537279102,
          12.868359698168751
         ],
         "yaxis": "y"
        },
        {
         "hovertemplate": "sex=Female<br>social_workers_per_100k=%{x}<br>suicide_rate=%{y}<extra></extra>",
         "legendgroup": "Female",
         "marker": {
          "color": "#EF553B",
          "symbol": "circle"
         },
         "mode": "markers",
         "name": "Female",
         "orientation": "v",
         "showlegend": true,
         "type": "scatter",
         "x": [
          0.022,
          0.36,
          0.274,
          0.114,
          0.011,
          0.78,
          0.239,
          0.02,
          0.294,
          0.019,
          0.448,
          0.041,
          0.532,
          0.56,
          0.104,
          0.008,
          0.101,
          0.169,
          0.006,
          0.373,
          0.065,
          0.218,
          0.564,
          0.646,
          0.05,
          0.53,
          0.013,
          0.101,
          0.018,
          0.206,
          0.028,
          0.115,
          0.503,
          0.172,
          0.067,
          0.301,
          0.511,
          0.362,
          0.801,
          0.007,
          0.054,
          0.836,
          0.037,
          0.378,
          0.056,
          0.019,
          0.634
         ],
         "xaxis": "x",
         "y": [
          4.6,
          0.8,
          2,
          1,
          9.1,
          3.2,
          2.8,
          5,
          3.2,
          3.8,
          1.7,
          6.1,
          4.4,
          2.5,
          4.3,
          8.4,
          7.3,
          6.1,
          1.7,
          6.4,
          14.5,
          2.7,
          2.1,
          3.6,
          3.6,
          2.3,
          9.8,
          3.8,
          4.1,
          4.9,
          6.7,
          1.1,
          2.4,
          6,
          5.2,
          4.3,
          2.1,
          10.9,
          1.1,
          13.8,
          10.9,
          4.8,
          18.7,
          2.7,
          6.2,
          6.2,
          11.1
         ],
         "yaxis": "y"
        },
        {
         "hovertemplate": "<b>OLS trendline</b><br>suicide_rate = -5.57487 * social_workers_per_100k + 6.71488<br>R<sup>2</sup>=0.127035<br><br>sex=Female<br>social_workers_per_100k=%{x}<br>suicide_rate=%{y} <b>(trend)</b><extra></extra>",
         "legendgroup": "Female",
         "marker": {
          "color": "#EF553B",
          "symbol": "circle"
         },
         "mode": "lines",
         "name": "Female",
         "showlegend": false,
         "type": "scatter",
         "x": [
          0.006,
          0.007,
          0.008,
          0.011,
          0.013,
          0.018,
          0.019,
          0.019,
          0.02,
          0.022,
          0.028,
          0.037,
          0.041,
          0.05,
          0.054,
          0.056,
          0.065,
          0.067,
          0.101,
          0.101,
          0.104,
          0.114,
          0.115,
          0.169,
          0.172,
          0.206,
          0.218,
          0.239,
          0.274,
          0.294,
          0.301,
          0.36,
          0.362,
          0.373,
          0.378,
          0.448,
          0.503,
          0.511,
          0.53,
          0.532,
          0.56,
          0.564,
          0.634,
          0.646,
          0.78,
          0.801,
          0.836
         ],
         "xaxis": "x",
         "y": [
          6.68143474807215,
          6.675859873613343,
          6.670284999154537,
          6.653560375778118,
          6.642410626860506,
          6.614536254566474,
          6.608961380107667,
          6.608961380107667,
          6.603386505648861,
          6.592236756731248,
          6.55878750997841,
          6.508613639849153,
          6.486314142013927,
          6.436140271884669,
          6.4138407740494445,
          6.402691025131832,
          6.352517155002574,
          6.341367406084961,
          6.151821674485545,
          6.151821674485545,
          6.135097051109126,
          6.079348306521062,
          6.073773432062256,
          5.772730211286713,
          5.756005587910294,
          5.5664598563108765,
          5.499561362805201,
          5.382488999170267,
          5.187368393112044,
          5.0758709039359164,
          5.036846782724273,
          4.707929189654697,
          4.6967794407370835,
          4.635455821690214,
          4.607581449396182,
          4.217340237279737,
          3.910722142045387,
          3.8661231463749357,
          3.7602005316576146,
          3.7490507827400017,
          3.5929542978934235,
          3.5706548000581986,
          3.1804135879417528,
          3.1135150944360763,
          2.3664819169560234,
          2.2494095533210894,
          2.054288947262867
         ],
         "yaxis": "y"
        }
       ],
       "layout": {
        "legend": {
         "title": {
          "text": "sex"
         },
         "tracegroupgap": 0
        },
        "margin": {
         "t": 60
        },
        "template": {
         "data": {
          "bar": [
           {
            "error_x": {
             "color": "#2a3f5f"
            },
            "error_y": {
             "color": "#2a3f5f"
            },
            "marker": {
             "line": {
              "color": "#E5ECF6",
              "width": 0.5
             },
             "pattern": {
              "fillmode": "overlay",
              "size": 10,
              "solidity": 0.2
             }
            },
            "type": "bar"
           }
          ],
          "barpolar": [
           {
            "marker": {
             "line": {
              "color": "#E5ECF6",
              "width": 0.5
             },
             "pattern": {
              "fillmode": "overlay",
              "size": 10,
              "solidity": 0.2
             }
            },
            "type": "barpolar"
           }
          ],
          "carpet": [
           {
            "aaxis": {
             "endlinecolor": "#2a3f5f",
             "gridcolor": "white",
             "linecolor": "white",
             "minorgridcolor": "white",
             "startlinecolor": "#2a3f5f"
            },
            "baxis": {
             "endlinecolor": "#2a3f5f",
             "gridcolor": "white",
             "linecolor": "white",
             "minorgridcolor": "white",
             "startlinecolor": "#2a3f5f"
            },
            "type": "carpet"
           }
          ],
          "choropleth": [
           {
            "colorbar": {
             "outlinewidth": 0,
             "ticks": ""
            },
            "type": "choropleth"
           }
          ],
          "contour": [
           {
            "colorbar": {
             "outlinewidth": 0,
             "ticks": ""
            },
            "colorscale": [
             [
              0,
              "#0d0887"
             ],
             [
              0.1111111111111111,
              "#46039f"
             ],
             [
              0.2222222222222222,
              "#7201a8"
             ],
             [
              0.3333333333333333,
              "#9c179e"
             ],
             [
              0.4444444444444444,
              "#bd3786"
             ],
             [
              0.5555555555555556,
              "#d8576b"
             ],
             [
              0.6666666666666666,
              "#ed7953"
             ],
             [
              0.7777777777777778,
              "#fb9f3a"
             ],
             [
              0.8888888888888888,
              "#fdca26"
             ],
             [
              1,
              "#f0f921"
             ]
            ],
            "type": "contour"
           }
          ],
          "contourcarpet": [
           {
            "colorbar": {
             "outlinewidth": 0,
             "ticks": ""
            },
            "type": "contourcarpet"
           }
          ],
          "heatmap": [
           {
            "colorbar": {
             "outlinewidth": 0,
             "ticks": ""
            },
            "colorscale": [
             [
              0,
              "#0d0887"
             ],
             [
              0.1111111111111111,
              "#46039f"
             ],
             [
              0.2222222222222222,
              "#7201a8"
             ],
             [
              0.3333333333333333,
              "#9c179e"
             ],
             [
              0.4444444444444444,
              "#bd3786"
             ],
             [
              0.5555555555555556,
              "#d8576b"
             ],
             [
              0.6666666666666666,
              "#ed7953"
             ],
             [
              0.7777777777777778,
              "#fb9f3a"
             ],
             [
              0.8888888888888888,
              "#fdca26"
             ],
             [
              1,
              "#f0f921"
             ]
            ],
            "type": "heatmap"
           }
          ],
          "heatmapgl": [
           {
            "colorbar": {
             "outlinewidth": 0,
             "ticks": ""
            },
            "colorscale": [
             [
              0,
              "#0d0887"
             ],
             [
              0.1111111111111111,
              "#46039f"
             ],
             [
              0.2222222222222222,
              "#7201a8"
             ],
             [
              0.3333333333333333,
              "#9c179e"
             ],
             [
              0.4444444444444444,
              "#bd3786"
             ],
             [
              0.5555555555555556,
              "#d8576b"
             ],
             [
              0.6666666666666666,
              "#ed7953"
             ],
             [
              0.7777777777777778,
              "#fb9f3a"
             ],
             [
              0.8888888888888888,
              "#fdca26"
             ],
             [
              1,
              "#f0f921"
             ]
            ],
            "type": "heatmapgl"
           }
          ],
          "histogram": [
           {
            "marker": {
             "pattern": {
              "fillmode": "overlay",
              "size": 10,
              "solidity": 0.2
             }
            },
            "type": "histogram"
           }
          ],
          "histogram2d": [
           {
            "colorbar": {
             "outlinewidth": 0,
             "ticks": ""
            },
            "colorscale": [
             [
              0,
              "#0d0887"
             ],
             [
              0.1111111111111111,
              "#46039f"
             ],
             [
              0.2222222222222222,
              "#7201a8"
             ],
             [
              0.3333333333333333,
              "#9c179e"
             ],
             [
              0.4444444444444444,
              "#bd3786"
             ],
             [
              0.5555555555555556,
              "#d8576b"
             ],
             [
              0.6666666666666666,
              "#ed7953"
             ],
             [
              0.7777777777777778,
              "#fb9f3a"
             ],
             [
              0.8888888888888888,
              "#fdca26"
             ],
             [
              1,
              "#f0f921"
             ]
            ],
            "type": "histogram2d"
           }
          ],
          "histogram2dcontour": [
           {
            "colorbar": {
             "outlinewidth": 0,
             "ticks": ""
            },
            "colorscale": [
             [
              0,
              "#0d0887"
             ],
             [
              0.1111111111111111,
              "#46039f"
             ],
             [
              0.2222222222222222,
              "#7201a8"
             ],
             [
              0.3333333333333333,
              "#9c179e"
             ],
             [
              0.4444444444444444,
              "#bd3786"
             ],
             [
              0.5555555555555556,
              "#d8576b"
             ],
             [
              0.6666666666666666,
              "#ed7953"
             ],
             [
              0.7777777777777778,
              "#fb9f3a"
             ],
             [
              0.8888888888888888,
              "#fdca26"
             ],
             [
              1,
              "#f0f921"
             ]
            ],
            "type": "histogram2dcontour"
           }
          ],
          "mesh3d": [
           {
            "colorbar": {
             "outlinewidth": 0,
             "ticks": ""
            },
            "type": "mesh3d"
           }
          ],
          "parcoords": [
           {
            "line": {
             "colorbar": {
              "outlinewidth": 0,
              "ticks": ""
             }
            },
            "type": "parcoords"
           }
          ],
          "pie": [
           {
            "automargin": true,
            "type": "pie"
           }
          ],
          "scatter": [
           {
            "fillpattern": {
             "fillmode": "overlay",
             "size": 10,
             "solidity": 0.2
            },
            "type": "scatter"
           }
          ],
          "scatter3d": [
           {
            "line": {
             "colorbar": {
              "outlinewidth": 0,
              "ticks": ""
             }
            },
            "marker": {
             "colorbar": {
              "outlinewidth": 0,
              "ticks": ""
             }
            },
            "type": "scatter3d"
           }
          ],
          "scattercarpet": [
           {
            "marker": {
             "colorbar": {
              "outlinewidth": 0,
              "ticks": ""
             }
            },
            "type": "scattercarpet"
           }
          ],
          "scattergeo": [
           {
            "marker": {
             "colorbar": {
              "outlinewidth": 0,
              "ticks": ""
             }
            },
            "type": "scattergeo"
           }
          ],
          "scattergl": [
           {
            "marker": {
             "colorbar": {
              "outlinewidth": 0,
              "ticks": ""
             }
            },
            "type": "scattergl"
           }
          ],
          "scattermapbox": [
           {
            "marker": {
             "colorbar": {
              "outlinewidth": 0,
              "ticks": ""
             }
            },
            "type": "scattermapbox"
           }
          ],
          "scatterpolar": [
           {
            "marker": {
             "colorbar": {
              "outlinewidth": 0,
              "ticks": ""
             }
            },
            "type": "scatterpolar"
           }
          ],
          "scatterpolargl": [
           {
            "marker": {
             "colorbar": {
              "outlinewidth": 0,
              "ticks": ""
             }
            },
            "type": "scatterpolargl"
           }
          ],
          "scatterternary": [
           {
            "marker": {
             "colorbar": {
              "outlinewidth": 0,
              "ticks": ""
             }
            },
            "type": "scatterternary"
           }
          ],
          "surface": [
           {
            "colorbar": {
             "outlinewidth": 0,
             "ticks": ""
            },
            "colorscale": [
             [
              0,
              "#0d0887"
             ],
             [
              0.1111111111111111,
              "#46039f"
             ],
             [
              0.2222222222222222,
              "#7201a8"
             ],
             [
              0.3333333333333333,
              "#9c179e"
             ],
             [
              0.4444444444444444,
              "#bd3786"
             ],
             [
              0.5555555555555556,
              "#d8576b"
             ],
             [
              0.6666666666666666,
              "#ed7953"
             ],
             [
              0.7777777777777778,
              "#fb9f3a"
             ],
             [
              0.8888888888888888,
              "#fdca26"
             ],
             [
              1,
              "#f0f921"
             ]
            ],
            "type": "surface"
           }
          ],
          "table": [
           {
            "cells": {
             "fill": {
              "color": "#EBF0F8"
             },
             "line": {
              "color": "white"
             }
            },
            "header": {
             "fill": {
              "color": "#C8D4E3"
             },
             "line": {
              "color": "white"
             }
            },
            "type": "table"
           }
          ]
         },
         "layout": {
          "annotationdefaults": {
           "arrowcolor": "#2a3f5f",
           "arrowhead": 0,
           "arrowwidth": 1
          },
          "autotypenumbers": "strict",
          "coloraxis": {
           "colorbar": {
            "outlinewidth": 0,
            "ticks": ""
           }
          },
          "colorscale": {
           "diverging": [
            [
             0,
             "#8e0152"
            ],
            [
             0.1,
             "#c51b7d"
            ],
            [
             0.2,
             "#de77ae"
            ],
            [
             0.3,
             "#f1b6da"
            ],
            [
             0.4,
             "#fde0ef"
            ],
            [
             0.5,
             "#f7f7f7"
            ],
            [
             0.6,
             "#e6f5d0"
            ],
            [
             0.7,
             "#b8e186"
            ],
            [
             0.8,
             "#7fbc41"
            ],
            [
             0.9,
             "#4d9221"
            ],
            [
             1,
             "#276419"
            ]
           ],
           "sequential": [
            [
             0,
             "#0d0887"
            ],
            [
             0.1111111111111111,
             "#46039f"
            ],
            [
             0.2222222222222222,
             "#7201a8"
            ],
            [
             0.3333333333333333,
             "#9c179e"
            ],
            [
             0.4444444444444444,
             "#bd3786"
            ],
            [
             0.5555555555555556,
             "#d8576b"
            ],
            [
             0.6666666666666666,
             "#ed7953"
            ],
            [
             0.7777777777777778,
             "#fb9f3a"
            ],
            [
             0.8888888888888888,
             "#fdca26"
            ],
            [
             1,
             "#f0f921"
            ]
           ],
           "sequentialminus": [
            [
             0,
             "#0d0887"
            ],
            [
             0.1111111111111111,
             "#46039f"
            ],
            [
             0.2222222222222222,
             "#7201a8"
            ],
            [
             0.3333333333333333,
             "#9c179e"
            ],
            [
             0.4444444444444444,
             "#bd3786"
            ],
            [
             0.5555555555555556,
             "#d8576b"
            ],
            [
             0.6666666666666666,
             "#ed7953"
            ],
            [
             0.7777777777777778,
             "#fb9f3a"
            ],
            [
             0.8888888888888888,
             "#fdca26"
            ],
            [
             1,
             "#f0f921"
            ]
           ]
          },
          "colorway": [
           "#636efa",
           "#EF553B",
           "#00cc96",
           "#ab63fa",
           "#FFA15A",
           "#19d3f3",
           "#FF6692",
           "#B6E880",
           "#FF97FF",
           "#FECB52"
          ],
          "font": {
           "color": "#2a3f5f"
          },
          "geo": {
           "bgcolor": "white",
           "lakecolor": "white",
           "landcolor": "#E5ECF6",
           "showlakes": true,
           "showland": true,
           "subunitcolor": "white"
          },
          "hoverlabel": {
           "align": "left"
          },
          "hovermode": "closest",
          "mapbox": {
           "style": "light"
          },
          "paper_bgcolor": "white",
          "plot_bgcolor": "#E5ECF6",
          "polar": {
           "angularaxis": {
            "gridcolor": "white",
            "linecolor": "white",
            "ticks": ""
           },
           "bgcolor": "#E5ECF6",
           "radialaxis": {
            "gridcolor": "white",
            "linecolor": "white",
            "ticks": ""
           }
          },
          "scene": {
           "xaxis": {
            "backgroundcolor": "#E5ECF6",
            "gridcolor": "white",
            "gridwidth": 2,
            "linecolor": "white",
            "showbackground": true,
            "ticks": "",
            "zerolinecolor": "white"
           },
           "yaxis": {
            "backgroundcolor": "#E5ECF6",
            "gridcolor": "white",
            "gridwidth": 2,
            "linecolor": "white",
            "showbackground": true,
            "ticks": "",
            "zerolinecolor": "white"
           },
           "zaxis": {
            "backgroundcolor": "#E5ECF6",
            "gridcolor": "white",
            "gridwidth": 2,
            "linecolor": "white",
            "showbackground": true,
            "ticks": "",
            "zerolinecolor": "white"
           }
          },
          "shapedefaults": {
           "line": {
            "color": "#2a3f5f"
           }
          },
          "ternary": {
           "aaxis": {
            "gridcolor": "white",
            "linecolor": "white",
            "ticks": ""
           },
           "baxis": {
            "gridcolor": "white",
            "linecolor": "white",
            "ticks": ""
           },
           "bgcolor": "#E5ECF6",
           "caxis": {
            "gridcolor": "white",
            "linecolor": "white",
            "ticks": ""
           }
          },
          "title": {
           "x": 0.05
          },
          "xaxis": {
           "automargin": true,
           "gridcolor": "white",
           "linecolor": "white",
           "ticks": "",
           "title": {
            "standoff": 15
           },
           "zerolinecolor": "white",
           "zerolinewidth": 2
          },
          "yaxis": {
           "automargin": true,
           "gridcolor": "white",
           "linecolor": "white",
           "ticks": "",
           "title": {
            "standoff": 15
           },
           "zerolinecolor": "white",
           "zerolinewidth": 2
          }
         }
        },
        "xaxis": {
         "anchor": "y",
         "domain": [
          0,
          1
         ],
         "title": {
          "text": "social_workers_per_100k"
         }
        },
        "yaxis": {
         "anchor": "x",
         "domain": [
          0,
          1
         ],
         "title": {
          "text": "suicide_rate"
         }
        }
       }
      }
     },
     "metadata": {},
     "output_type": "display_data"
    }
   ],
   "source": [
    "fig = px.scatter(df2016g[df2016g[\"social_workers_per_100k\"] < 1], x=\"social_workers_per_100k\", y=\"suicide_rate\", trendline=\"ols\", color=\"sex\")\n",
    "fig.show()"
   ]
  },
  {
   "attachments": {},
   "cell_type": "markdown",
   "metadata": {},
   "source": [
    "Now this one has a gender difference. Almost nothing for males, but for females we've got something that could be significant. This is probably the most interesting one."
   ]
  },
  {
   "cell_type": "code",
   "execution_count": 19,
   "metadata": {},
   "outputs": [
    {
     "data": {
      "application/vnd.plotly.v1+json": {
       "config": {
        "plotlyServerURL": "https://plot.ly"
       },
       "data": [
        {
         "hovertemplate": "sex=Male<br>psychologists_per_100k=%{x}<br>suicide_rate=%{y}<extra></extra>",
         "legendgroup": "Male",
         "marker": {
          "color": "#636efa",
          "symbol": "circle"
         },
         "mode": "markers",
         "name": "Male",
         "orientation": "v",
         "showlegend": true,
         "type": "scatter",
         "x": [
          0.296,
          0.179,
          1.231,
          0.765,
          0.788,
          1.165,
          0.022,
          0.124,
          1.867,
          1.113,
          0.02,
          0.256,
          0.083,
          0.56,
          0.777,
          2.328,
          0.065,
          0.008,
          0.113,
          0,
          0.56,
          2.484,
          0.175,
          0.069,
          1.266,
          3.037,
          0.409,
          1.591,
          0.575,
          0.062,
          3.459,
          0.011,
          0.101,
          0.389,
          1.029,
          1.443,
          0.019,
          0.523,
          0.885,
          1.413,
          1.479,
          0.387,
          2.034,
          0.02,
          2.075,
          0.261,
          3.068,
          0.542,
          3.2,
          1.068,
          0.404,
          1.749,
          0.081,
          1.88,
          2.537,
          0.037,
          0.09,
          0.756,
          0.409,
          0.031,
          0.057
         ],
         "xaxis": "x",
         "y": [
          10.6,
          14,
          7,
          3.5,
          10.1,
          4.3,
          22.4,
          5.5,
          13.1,
          9.9,
          13.9,
          7.2,
          22.4,
          8.8,
          15,
          12.3,
          15.8,
          12.7,
          8.9,
          46.6,
          18.3,
          22.2,
          5.2,
          18.5,
          4.7,
          20.5,
          14.8,
          29.6,
          2.5,
          10.5,
          8.2,
          13.5,
          23.3,
          14,
          8.7,
          19.4,
          11.5,
          11.4,
          5.2,
          7.3,
          13.9,
          16.9,
          4.6,
          20.3,
          24.8,
          8.3,
          4.2,
          36.1,
          15,
          3.8,
          22.7,
          21.4,
          9,
          5.2,
          11.3,
          21.2,
          10.3,
          8.1,
          13.4,
          17.5,
          29.1
         ],
         "yaxis": "y"
        },
        {
         "hovertemplate": "<b>OLS trendline</b><br>suicide_rate = -1.22723 * psychologists_per_100k + 15.0158<br>R<sup>2</sup>=0.018832<br><br>sex=Male<br>psychologists_per_100k=%{x}<br>suicide_rate=%{y} <b>(trend)</b><extra></extra>",
         "legendgroup": "Male",
         "marker": {
          "color": "#636efa",
          "symbol": "circle"
         },
         "mode": "lines",
         "name": "Male",
         "showlegend": false,
         "type": "scatter",
         "x": [
          0,
          0.008,
          0.011,
          0.019,
          0.02,
          0.02,
          0.022,
          0.031,
          0.037,
          0.057,
          0.062,
          0.065,
          0.069,
          0.081,
          0.083,
          0.09,
          0.101,
          0.113,
          0.124,
          0.175,
          0.179,
          0.256,
          0.261,
          0.296,
          0.387,
          0.389,
          0.404,
          0.409,
          0.409,
          0.523,
          0.542,
          0.56,
          0.56,
          0.575,
          0.756,
          0.765,
          0.777,
          0.788,
          0.885,
          1.029,
          1.068,
          1.113,
          1.165,
          1.231,
          1.266,
          1.413,
          1.443,
          1.479,
          1.591,
          1.749,
          1.867,
          1.88,
          2.034,
          2.075,
          2.328,
          2.484,
          2.537,
          3.037,
          3.068,
          3.2,
          3.459
         ],
         "xaxis": "x",
         "y": [
          15.015813186344346,
          15.005995370061031,
          15.00231368895479,
          14.992495872671476,
          14.991268645636062,
          14.991268645636062,
          14.988814191565233,
          14.977769148246505,
          14.97040578603402,
          14.945861245325736,
          14.939725110148665,
          14.93604342904242,
          14.931134520900764,
          14.916407796475793,
          14.913953342404964,
          14.905362753157066,
          14.89186325576751,
          14.877136531342538,
          14.863637033952982,
          14.801048455146855,
          14.796139547005199,
          14.701643065278303,
          14.695506930101232,
          14.652553983861734,
          14.54087632363904,
          14.53842186956821,
          14.520013464036998,
          14.513877328859927,
          14.513877328859927,
          14.373973446822705,
          14.350656133149833,
          14.328566046512378,
          14.328566046512378,
          14.310157640981165,
          14.088029547571189,
          14.076984504252462,
          14.06225777982749,
          14.048758282437934,
          13.929717260002754,
          13.752996566903105,
          13.70513471252195,
          13.64990949592831,
          13.58609369008677,
          13.50509670574943,
          13.462143759509933,
          13.281741385304041,
          13.244924574241615,
          13.200744400966702,
          13.063294973000309,
          12.86939310140486,
          12.724580311225981,
          12.708626359765598,
          12.519633396311807,
          12.469317087859823,
          12.158828647900023,
          11.967381230375404,
          11.90233819749845,
          11.288724679791336,
          11.250680641693494,
          11.088686673018817,
          10.770834870846532
         ],
         "yaxis": "y"
        },
        {
         "hovertemplate": "sex=Female<br>psychologists_per_100k=%{x}<br>suicide_rate=%{y}<extra></extra>",
         "legendgroup": "Female",
         "marker": {
          "color": "#EF553B",
          "symbol": "circle"
         },
         "mode": "markers",
         "name": "Female",
         "orientation": "v",
         "showlegend": true,
         "type": "scatter",
         "x": [
          0.296,
          0.179,
          1.231,
          0.765,
          0.788,
          1.165,
          0.022,
          0.124,
          1.867,
          1.113,
          0.02,
          0.256,
          0.083,
          0.56,
          0.777,
          2.328,
          0.065,
          0.008,
          0.113,
          0,
          0.56,
          2.484,
          0.175,
          0.069,
          1.266,
          3.037,
          0.409,
          1.591,
          0.575,
          0.062,
          3.459,
          0.011,
          0.101,
          0.389,
          1.029,
          1.443,
          0.019,
          0.523,
          0.885,
          1.413,
          1.479,
          0.387,
          2.034,
          0.02,
          2.075,
          0.261,
          3.068,
          0.542,
          3.2,
          1.068,
          0.404,
          1.749,
          0.081,
          1.88,
          2.537,
          0.037,
          0.09,
          0.756,
          0.409,
          0.031,
          0.057
         ],
         "xaxis": "x",
         "y": [
          2.1,
          4.6,
          4.3,
          0.8,
          2,
          1,
          9.1,
          6.7,
          3.2,
          2,
          5,
          1.7,
          6.1,
          2.5,
          4.3,
          1.9,
          2.9,
          8.4,
          6.1,
          14.2,
          6.4,
          6.2,
          2.2,
          14.5,
          2.7,
          8.1,
          3.7,
          11.6,
          3.6,
          3.6,
          2.3,
          4.7,
          3.8,
          4.1,
          3.6,
          4.9,
          6.7,
          8,
          2.3,
          1.1,
          2.4,
          6,
          1.7,
          5.2,
          4.3,
          4.1,
          2.1,
          10.9,
          2.1,
          1.1,
          10.9,
          4.8,
          3.7,
          2.9,
          3.2,
          18.7,
          4.6,
          2.7,
          6.2,
          6.2,
          11.1
         ],
         "yaxis": "y"
        },
        {
         "hovertemplate": "<b>OLS trendline</b><br>suicide_rate = -1.26088 * psychologists_per_100k + 6.15184<br>R<sup>2</sup>=0.107042<br><br>sex=Female<br>psychologists_per_100k=%{x}<br>suicide_rate=%{y} <b>(trend)</b><extra></extra>",
         "legendgroup": "Female",
         "marker": {
          "color": "#EF553B",
          "symbol": "circle"
         },
         "mode": "lines",
         "name": "Female",
         "showlegend": false,
         "type": "scatter",
         "x": [
          0,
          0.008,
          0.011,
          0.019,
          0.02,
          0.02,
          0.022,
          0.031,
          0.037,
          0.057,
          0.062,
          0.065,
          0.069,
          0.081,
          0.083,
          0.09,
          0.101,
          0.113,
          0.124,
          0.175,
          0.179,
          0.256,
          0.261,
          0.296,
          0.387,
          0.389,
          0.404,
          0.409,
          0.409,
          0.523,
          0.542,
          0.56,
          0.56,
          0.575,
          0.756,
          0.765,
          0.777,
          0.788,
          0.885,
          1.029,
          1.068,
          1.113,
          1.165,
          1.231,
          1.266,
          1.413,
          1.443,
          1.479,
          1.591,
          1.749,
          1.867,
          1.88,
          2.034,
          2.075,
          2.328,
          2.484,
          2.537,
          3.037,
          3.068,
          3.2,
          3.459
         ],
         "xaxis": "x",
         "y": [
          6.151842375748422,
          6.141755355077103,
          6.137972722325358,
          6.127885701654039,
          6.126624824070124,
          6.126624824070124,
          6.124103068902294,
          6.11275517064706,
          6.10518990514357,
          6.079972353465273,
          6.073667965545698,
          6.0698853327939535,
          6.064841822458294,
          6.049711291451315,
          6.047189536283485,
          6.0383633931960805,
          6.024493739773017,
          6.009363208766038,
          5.995493555342974,
          5.931188798563314,
          5.926145288227654,
          5.829057714266206,
          5.822753326346632,
          5.77862261090961,
          5.663882750773354,
          5.661360995605524,
          5.6424478318468,
          5.636143443927226,
          5.636143443927226,
          5.492403399360927,
          5.468446725266544,
          5.445750928756075,
          5.445750928756075,
          5.426837764997352,
          5.1986189223087536,
          5.18727102405352,
          5.172140493046541,
          5.158270839623477,
          5.035965713983732,
          4.854399341899985,
          4.805225116127303,
          4.748485624851133,
          4.682919990487558,
          4.599702069949174,
          4.555571354512153,
          4.370222349676662,
          4.332396022159214,
          4.287004429138278,
          4.145786139739808,
          3.9465674814812535,
          3.797783926579295,
          3.7813925179884014,
          3.587217370065506,
          3.5355213891249946,
          3.216519360394524,
          3.019822457303799,
          2.952995945356309,
          2.3225571533988565,
          2.2834699482974945,
          2.117034107220727,
          1.7904668129867662
         ],
         "yaxis": "y"
        }
       ],
       "layout": {
        "legend": {
         "title": {
          "text": "sex"
         },
         "tracegroupgap": 0
        },
        "margin": {
         "t": 60
        },
        "template": {
         "data": {
          "bar": [
           {
            "error_x": {
             "color": "#2a3f5f"
            },
            "error_y": {
             "color": "#2a3f5f"
            },
            "marker": {
             "line": {
              "color": "#E5ECF6",
              "width": 0.5
             },
             "pattern": {
              "fillmode": "overlay",
              "size": 10,
              "solidity": 0.2
             }
            },
            "type": "bar"
           }
          ],
          "barpolar": [
           {
            "marker": {
             "line": {
              "color": "#E5ECF6",
              "width": 0.5
             },
             "pattern": {
              "fillmode": "overlay",
              "size": 10,
              "solidity": 0.2
             }
            },
            "type": "barpolar"
           }
          ],
          "carpet": [
           {
            "aaxis": {
             "endlinecolor": "#2a3f5f",
             "gridcolor": "white",
             "linecolor": "white",
             "minorgridcolor": "white",
             "startlinecolor": "#2a3f5f"
            },
            "baxis": {
             "endlinecolor": "#2a3f5f",
             "gridcolor": "white",
             "linecolor": "white",
             "minorgridcolor": "white",
             "startlinecolor": "#2a3f5f"
            },
            "type": "carpet"
           }
          ],
          "choropleth": [
           {
            "colorbar": {
             "outlinewidth": 0,
             "ticks": ""
            },
            "type": "choropleth"
           }
          ],
          "contour": [
           {
            "colorbar": {
             "outlinewidth": 0,
             "ticks": ""
            },
            "colorscale": [
             [
              0,
              "#0d0887"
             ],
             [
              0.1111111111111111,
              "#46039f"
             ],
             [
              0.2222222222222222,
              "#7201a8"
             ],
             [
              0.3333333333333333,
              "#9c179e"
             ],
             [
              0.4444444444444444,
              "#bd3786"
             ],
             [
              0.5555555555555556,
              "#d8576b"
             ],
             [
              0.6666666666666666,
              "#ed7953"
             ],
             [
              0.7777777777777778,
              "#fb9f3a"
             ],
             [
              0.8888888888888888,
              "#fdca26"
             ],
             [
              1,
              "#f0f921"
             ]
            ],
            "type": "contour"
           }
          ],
          "contourcarpet": [
           {
            "colorbar": {
             "outlinewidth": 0,
             "ticks": ""
            },
            "type": "contourcarpet"
           }
          ],
          "heatmap": [
           {
            "colorbar": {
             "outlinewidth": 0,
             "ticks": ""
            },
            "colorscale": [
             [
              0,
              "#0d0887"
             ],
             [
              0.1111111111111111,
              "#46039f"
             ],
             [
              0.2222222222222222,
              "#7201a8"
             ],
             [
              0.3333333333333333,
              "#9c179e"
             ],
             [
              0.4444444444444444,
              "#bd3786"
             ],
             [
              0.5555555555555556,
              "#d8576b"
             ],
             [
              0.6666666666666666,
              "#ed7953"
             ],
             [
              0.7777777777777778,
              "#fb9f3a"
             ],
             [
              0.8888888888888888,
              "#fdca26"
             ],
             [
              1,
              "#f0f921"
             ]
            ],
            "type": "heatmap"
           }
          ],
          "heatmapgl": [
           {
            "colorbar": {
             "outlinewidth": 0,
             "ticks": ""
            },
            "colorscale": [
             [
              0,
              "#0d0887"
             ],
             [
              0.1111111111111111,
              "#46039f"
             ],
             [
              0.2222222222222222,
              "#7201a8"
             ],
             [
              0.3333333333333333,
              "#9c179e"
             ],
             [
              0.4444444444444444,
              "#bd3786"
             ],
             [
              0.5555555555555556,
              "#d8576b"
             ],
             [
              0.6666666666666666,
              "#ed7953"
             ],
             [
              0.7777777777777778,
              "#fb9f3a"
             ],
             [
              0.8888888888888888,
              "#fdca26"
             ],
             [
              1,
              "#f0f921"
             ]
            ],
            "type": "heatmapgl"
           }
          ],
          "histogram": [
           {
            "marker": {
             "pattern": {
              "fillmode": "overlay",
              "size": 10,
              "solidity": 0.2
             }
            },
            "type": "histogram"
           }
          ],
          "histogram2d": [
           {
            "colorbar": {
             "outlinewidth": 0,
             "ticks": ""
            },
            "colorscale": [
             [
              0,
              "#0d0887"
             ],
             [
              0.1111111111111111,
              "#46039f"
             ],
             [
              0.2222222222222222,
              "#7201a8"
             ],
             [
              0.3333333333333333,
              "#9c179e"
             ],
             [
              0.4444444444444444,
              "#bd3786"
             ],
             [
              0.5555555555555556,
              "#d8576b"
             ],
             [
              0.6666666666666666,
              "#ed7953"
             ],
             [
              0.7777777777777778,
              "#fb9f3a"
             ],
             [
              0.8888888888888888,
              "#fdca26"
             ],
             [
              1,
              "#f0f921"
             ]
            ],
            "type": "histogram2d"
           }
          ],
          "histogram2dcontour": [
           {
            "colorbar": {
             "outlinewidth": 0,
             "ticks": ""
            },
            "colorscale": [
             [
              0,
              "#0d0887"
             ],
             [
              0.1111111111111111,
              "#46039f"
             ],
             [
              0.2222222222222222,
              "#7201a8"
             ],
             [
              0.3333333333333333,
              "#9c179e"
             ],
             [
              0.4444444444444444,
              "#bd3786"
             ],
             [
              0.5555555555555556,
              "#d8576b"
             ],
             [
              0.6666666666666666,
              "#ed7953"
             ],
             [
              0.7777777777777778,
              "#fb9f3a"
             ],
             [
              0.8888888888888888,
              "#fdca26"
             ],
             [
              1,
              "#f0f921"
             ]
            ],
            "type": "histogram2dcontour"
           }
          ],
          "mesh3d": [
           {
            "colorbar": {
             "outlinewidth": 0,
             "ticks": ""
            },
            "type": "mesh3d"
           }
          ],
          "parcoords": [
           {
            "line": {
             "colorbar": {
              "outlinewidth": 0,
              "ticks": ""
             }
            },
            "type": "parcoords"
           }
          ],
          "pie": [
           {
            "automargin": true,
            "type": "pie"
           }
          ],
          "scatter": [
           {
            "fillpattern": {
             "fillmode": "overlay",
             "size": 10,
             "solidity": 0.2
            },
            "type": "scatter"
           }
          ],
          "scatter3d": [
           {
            "line": {
             "colorbar": {
              "outlinewidth": 0,
              "ticks": ""
             }
            },
            "marker": {
             "colorbar": {
              "outlinewidth": 0,
              "ticks": ""
             }
            },
            "type": "scatter3d"
           }
          ],
          "scattercarpet": [
           {
            "marker": {
             "colorbar": {
              "outlinewidth": 0,
              "ticks": ""
             }
            },
            "type": "scattercarpet"
           }
          ],
          "scattergeo": [
           {
            "marker": {
             "colorbar": {
              "outlinewidth": 0,
              "ticks": ""
             }
            },
            "type": "scattergeo"
           }
          ],
          "scattergl": [
           {
            "marker": {
             "colorbar": {
              "outlinewidth": 0,
              "ticks": ""
             }
            },
            "type": "scattergl"
           }
          ],
          "scattermapbox": [
           {
            "marker": {
             "colorbar": {
              "outlinewidth": 0,
              "ticks": ""
             }
            },
            "type": "scattermapbox"
           }
          ],
          "scatterpolar": [
           {
            "marker": {
             "colorbar": {
              "outlinewidth": 0,
              "ticks": ""
             }
            },
            "type": "scatterpolar"
           }
          ],
          "scatterpolargl": [
           {
            "marker": {
             "colorbar": {
              "outlinewidth": 0,
              "ticks": ""
             }
            },
            "type": "scatterpolargl"
           }
          ],
          "scatterternary": [
           {
            "marker": {
             "colorbar": {
              "outlinewidth": 0,
              "ticks": ""
             }
            },
            "type": "scatterternary"
           }
          ],
          "surface": [
           {
            "colorbar": {
             "outlinewidth": 0,
             "ticks": ""
            },
            "colorscale": [
             [
              0,
              "#0d0887"
             ],
             [
              0.1111111111111111,
              "#46039f"
             ],
             [
              0.2222222222222222,
              "#7201a8"
             ],
             [
              0.3333333333333333,
              "#9c179e"
             ],
             [
              0.4444444444444444,
              "#bd3786"
             ],
             [
              0.5555555555555556,
              "#d8576b"
             ],
             [
              0.6666666666666666,
              "#ed7953"
             ],
             [
              0.7777777777777778,
              "#fb9f3a"
             ],
             [
              0.8888888888888888,
              "#fdca26"
             ],
             [
              1,
              "#f0f921"
             ]
            ],
            "type": "surface"
           }
          ],
          "table": [
           {
            "cells": {
             "fill": {
              "color": "#EBF0F8"
             },
             "line": {
              "color": "white"
             }
            },
            "header": {
             "fill": {
              "color": "#C8D4E3"
             },
             "line": {
              "color": "white"
             }
            },
            "type": "table"
           }
          ]
         },
         "layout": {
          "annotationdefaults": {
           "arrowcolor": "#2a3f5f",
           "arrowhead": 0,
           "arrowwidth": 1
          },
          "autotypenumbers": "strict",
          "coloraxis": {
           "colorbar": {
            "outlinewidth": 0,
            "ticks": ""
           }
          },
          "colorscale": {
           "diverging": [
            [
             0,
             "#8e0152"
            ],
            [
             0.1,
             "#c51b7d"
            ],
            [
             0.2,
             "#de77ae"
            ],
            [
             0.3,
             "#f1b6da"
            ],
            [
             0.4,
             "#fde0ef"
            ],
            [
             0.5,
             "#f7f7f7"
            ],
            [
             0.6,
             "#e6f5d0"
            ],
            [
             0.7,
             "#b8e186"
            ],
            [
             0.8,
             "#7fbc41"
            ],
            [
             0.9,
             "#4d9221"
            ],
            [
             1,
             "#276419"
            ]
           ],
           "sequential": [
            [
             0,
             "#0d0887"
            ],
            [
             0.1111111111111111,
             "#46039f"
            ],
            [
             0.2222222222222222,
             "#7201a8"
            ],
            [
             0.3333333333333333,
             "#9c179e"
            ],
            [
             0.4444444444444444,
             "#bd3786"
            ],
            [
             0.5555555555555556,
             "#d8576b"
            ],
            [
             0.6666666666666666,
             "#ed7953"
            ],
            [
             0.7777777777777778,
             "#fb9f3a"
            ],
            [
             0.8888888888888888,
             "#fdca26"
            ],
            [
             1,
             "#f0f921"
            ]
           ],
           "sequentialminus": [
            [
             0,
             "#0d0887"
            ],
            [
             0.1111111111111111,
             "#46039f"
            ],
            [
             0.2222222222222222,
             "#7201a8"
            ],
            [
             0.3333333333333333,
             "#9c179e"
            ],
            [
             0.4444444444444444,
             "#bd3786"
            ],
            [
             0.5555555555555556,
             "#d8576b"
            ],
            [
             0.6666666666666666,
             "#ed7953"
            ],
            [
             0.7777777777777778,
             "#fb9f3a"
            ],
            [
             0.8888888888888888,
             "#fdca26"
            ],
            [
             1,
             "#f0f921"
            ]
           ]
          },
          "colorway": [
           "#636efa",
           "#EF553B",
           "#00cc96",
           "#ab63fa",
           "#FFA15A",
           "#19d3f3",
           "#FF6692",
           "#B6E880",
           "#FF97FF",
           "#FECB52"
          ],
          "font": {
           "color": "#2a3f5f"
          },
          "geo": {
           "bgcolor": "white",
           "lakecolor": "white",
           "landcolor": "#E5ECF6",
           "showlakes": true,
           "showland": true,
           "subunitcolor": "white"
          },
          "hoverlabel": {
           "align": "left"
          },
          "hovermode": "closest",
          "mapbox": {
           "style": "light"
          },
          "paper_bgcolor": "white",
          "plot_bgcolor": "#E5ECF6",
          "polar": {
           "angularaxis": {
            "gridcolor": "white",
            "linecolor": "white",
            "ticks": ""
           },
           "bgcolor": "#E5ECF6",
           "radialaxis": {
            "gridcolor": "white",
            "linecolor": "white",
            "ticks": ""
           }
          },
          "scene": {
           "xaxis": {
            "backgroundcolor": "#E5ECF6",
            "gridcolor": "white",
            "gridwidth": 2,
            "linecolor": "white",
            "showbackground": true,
            "ticks": "",
            "zerolinecolor": "white"
           },
           "yaxis": {
            "backgroundcolor": "#E5ECF6",
            "gridcolor": "white",
            "gridwidth": 2,
            "linecolor": "white",
            "showbackground": true,
            "ticks": "",
            "zerolinecolor": "white"
           },
           "zaxis": {
            "backgroundcolor": "#E5ECF6",
            "gridcolor": "white",
            "gridwidth": 2,
            "linecolor": "white",
            "showbackground": true,
            "ticks": "",
            "zerolinecolor": "white"
           }
          },
          "shapedefaults": {
           "line": {
            "color": "#2a3f5f"
           }
          },
          "ternary": {
           "aaxis": {
            "gridcolor": "white",
            "linecolor": "white",
            "ticks": ""
           },
           "baxis": {
            "gridcolor": "white",
            "linecolor": "white",
            "ticks": ""
           },
           "bgcolor": "#E5ECF6",
           "caxis": {
            "gridcolor": "white",
            "linecolor": "white",
            "ticks": ""
           }
          },
          "title": {
           "x": 0.05
          },
          "xaxis": {
           "automargin": true,
           "gridcolor": "white",
           "linecolor": "white",
           "ticks": "",
           "title": {
            "standoff": 15
           },
           "zerolinecolor": "white",
           "zerolinewidth": 2
          },
          "yaxis": {
           "automargin": true,
           "gridcolor": "white",
           "linecolor": "white",
           "ticks": "",
           "title": {
            "standoff": 15
           },
           "zerolinecolor": "white",
           "zerolinewidth": 2
          }
         }
        },
        "xaxis": {
         "anchor": "y",
         "domain": [
          0,
          1
         ],
         "title": {
          "text": "psychologists_per_100k"
         }
        },
        "yaxis": {
         "anchor": "x",
         "domain": [
          0,
          1
         ],
         "title": {
          "text": "suicide_rate"
         }
        }
       }
      }
     },
     "metadata": {},
     "output_type": "display_data"
    }
   ],
   "source": [
    "fig = px.scatter(df2016g[df2016g[\"psychologists_per_100k\"] < 4], x=\"psychologists_per_100k\", y=\"suicide_rate\", trendline=\"ols\", color=\"sex\")\n",
    "fig.show()"
   ]
  },
  {
   "attachments": {},
   "cell_type": "markdown",
   "metadata": {},
   "source": [
    "Another one with a big percentage difference and much less of an absolute one. What does it mean?\n",
    "\n",
    "Conclusion: don't pull all psychological education funding. The therapy sector does a little bit, maybe.\n",
    "\n",
    "### Scatterplots, part 3: Government"
   ]
  },
  {
   "cell_type": "code",
   "execution_count": 20,
   "metadata": {},
   "outputs": [
    {
     "data": {
      "application/vnd.plotly.v1+json": {
       "config": {
        "plotlyServerURL": "https://plot.ly"
       },
       "data": [
        {
         "hovertemplate": "sex=Male<br>hospital_budget_pct=%{x}<br>suicide_rate=%{y}<extra></extra>",
         "legendgroup": "Male",
         "marker": {
          "color": "#636efa",
          "symbol": "circle"
         },
         "mode": "markers",
         "name": "Male",
         "orientation": "v",
         "showlegend": true,
         "type": "scatter",
         "x": [
          3.5,
          0.5,
          2.7,
          2.1,
          1,
          0.3,
          2.1,
          2,
          0.7,
          1.5,
          0.5,
          2.9,
          4,
          1.9,
          1.1,
          0.2,
          4.3,
          1.6,
          1.3,
          3.4,
          0,
          0,
          3.8,
          2.4,
          0.4,
          1.3,
          0.4,
          1.7,
          0.2,
          2.6,
          1.8,
          0.6,
          4,
          3,
          0.2,
          0.3,
          2,
          1.1,
          2.7,
          1,
          1.1,
          3,
          3.2
         ],
         "xaxis": "x",
         "y": [
          4.3,
          5.5,
          13.1,
          39.3,
          9.7,
          13.8,
          16,
          12.8,
          17.9,
          10.7,
          7.2,
          25.6,
          8.8,
          12.3,
          15.8,
          46.6,
          18.8,
          18.3,
          18.5,
          8.2,
          9.7,
          9,
          29.6,
          13.8,
          6.3,
          8.7,
          3,
          7.6,
          5.2,
          23.9,
          12.3,
          7.3,
          4.6,
          11.1,
          3.8,
          21.4,
          5,
          5.2,
          10.3,
          8.1,
          8.7,
          21.7,
          29.1
         ],
         "yaxis": "y"
        },
        {
         "hovertemplate": "<b>OLS trendline</b><br>suicide_rate = 1.29503 * hospital_budget_pct + 11.4477<br>R<sup>2</sup>=0.029467<br><br>sex=Male<br>hospital_budget_pct=%{x}<br>suicide_rate=%{y} <b>(trend)</b><extra></extra>",
         "legendgroup": "Male",
         "marker": {
          "color": "#636efa",
          "symbol": "circle"
         },
         "mode": "lines",
         "name": "Male",
         "showlegend": false,
         "type": "scatter",
         "x": [
          0,
          0,
          0.2,
          0.2,
          0.2,
          0.3,
          0.3,
          0.4,
          0.4,
          0.5,
          0.5,
          0.6,
          0.7,
          1,
          1,
          1.1,
          1.1,
          1.1,
          1.3,
          1.3,
          1.5,
          1.6,
          1.7,
          1.8,
          1.9,
          2,
          2,
          2.1,
          2.1,
          2.4,
          2.6,
          2.7,
          2.7,
          2.9,
          3,
          3,
          3.2,
          3.4,
          3.5,
          3.8,
          4,
          4,
          4.3
         ],
         "xaxis": "x",
         "y": [
          11.447674794917619,
          11.447674794917619,
          11.706680127763164,
          11.706680127763164,
          11.706680127763164,
          11.836182794185936,
          11.836182794185936,
          11.965685460608707,
          11.965685460608707,
          12.095188127031479,
          12.095188127031479,
          12.224690793454252,
          12.354193459877024,
          12.74270145914534,
          12.74270145914534,
          12.872204125568112,
          12.872204125568112,
          12.872204125568112,
          13.131209458413657,
          13.131209458413657,
          13.3902147912592,
          13.519717457681974,
          13.649220124104746,
          13.778722790527517,
          13.90822545695029,
          14.037728123373062,
          14.037728123373062,
          14.167230789795834,
          14.167230789795834,
          14.55573878906415,
          14.814744121909694,
          14.944246788332467,
          14.944246788332467,
          15.20325212117801,
          15.332754787600784,
          15.332754787600784,
          15.591760120446327,
          15.85076545329187,
          15.980268119714644,
          16.36877611898296,
          16.627781451828504,
          16.627781451828504,
          17.01628945109682
         ],
         "yaxis": "y"
        },
        {
         "hovertemplate": "sex=Female<br>hospital_budget_pct=%{x}<br>suicide_rate=%{y}<extra></extra>",
         "legendgroup": "Female",
         "marker": {
          "color": "#EF553B",
          "symbol": "circle"
         },
         "mode": "markers",
         "name": "Female",
         "orientation": "v",
         "showlegend": true,
         "type": "scatter",
         "x": [
          3.5,
          0.5,
          2.7,
          2.1,
          1,
          0.3,
          2.1,
          2,
          0.7,
          1.5,
          0.5,
          2.9,
          4,
          1.9,
          1.1,
          0.2,
          4.3,
          1.6,
          1.3,
          3.4,
          0,
          0,
          3.8,
          2.4,
          0.4,
          1.3,
          0.4,
          1.7,
          0.2,
          2.6,
          1.8,
          0.6,
          4,
          3,
          0.2,
          0.3,
          2,
          1.1,
          2.7,
          1,
          1.1,
          3,
          3.2
         ],
         "xaxis": "x",
         "y": [
          1,
          6.7,
          3.2,
          6.2,
          2.8,
          8.9,
          3.8,
          2.3,
          3.2,
          3.8,
          1.7,
          4.4,
          2.5,
          1.9,
          2.9,
          14.2,
          5.1,
          6.4,
          14.5,
          2.4,
          2.1,
          3.2,
          11.6,
          13,
          9.8,
          3.6,
          3.1,
          2.7,
          2.3,
          3.4,
          6.2,
          1.1,
          1.7,
          4.9,
          1.1,
          4.8,
          1.7,
          2.9,
          4.6,
          2.7,
          2.2,
          5.1,
          11.1
         ],
         "yaxis": "y"
        },
        {
         "hovertemplate": "<b>OLS trendline</b><br>suicide_rate = 0.0753106 * hospital_budget_pct + 4.58597<br>R<sup>2</sup>=0.000694<br><br>sex=Female<br>hospital_budget_pct=%{x}<br>suicide_rate=%{y} <b>(trend)</b><extra></extra>",
         "legendgroup": "Female",
         "marker": {
          "color": "#EF553B",
          "symbol": "circle"
         },
         "mode": "lines",
         "name": "Female",
         "showlegend": false,
         "type": "scatter",
         "x": [
          0,
          0,
          0.2,
          0.2,
          0.2,
          0.3,
          0.3,
          0.4,
          0.4,
          0.5,
          0.5,
          0.6,
          0.7,
          1,
          1,
          1.1,
          1.1,
          1.1,
          1.3,
          1.3,
          1.5,
          1.6,
          1.7,
          1.8,
          1.9,
          2,
          2,
          2.1,
          2.1,
          2.4,
          2.6,
          2.7,
          2.7,
          2.9,
          3,
          3,
          3.2,
          3.4,
          3.5,
          3.8,
          4,
          4,
          4.3
         ],
         "xaxis": "x",
         "y": [
          4.585974194093066,
          4.585974194093066,
          4.601036316818868,
          4.601036316818868,
          4.601036316818868,
          4.608567378181768,
          4.608567378181768,
          4.616098439544669,
          4.616098439544669,
          4.62362950090757,
          4.62362950090757,
          4.631160562270471,
          4.638691623633371,
          4.661284807722074,
          4.661284807722074,
          4.668815869084975,
          4.668815869084975,
          4.668815869084975,
          4.6838779918107765,
          4.6838779918107765,
          4.698940114536578,
          4.706471175899479,
          4.714002237262379,
          4.72153329862528,
          4.729064359988181,
          4.7365954213510815,
          4.7365954213510815,
          4.744126482713982,
          4.744126482713982,
          4.766719666802685,
          4.781781789528487,
          4.789312850891387,
          4.789312850891387,
          4.804374973617189,
          4.8119060349800895,
          4.8119060349800895,
          4.826968157705891,
          4.842030280431692,
          4.849561341794593,
          4.872154525883296,
          4.8872166486090975,
          4.8872166486090975,
          4.9098098326978
         ],
         "yaxis": "y"
        }
       ],
       "layout": {
        "legend": {
         "title": {
          "text": "sex"
         },
         "tracegroupgap": 0
        },
        "margin": {
         "t": 60
        },
        "template": {
         "data": {
          "bar": [
           {
            "error_x": {
             "color": "#2a3f5f"
            },
            "error_y": {
             "color": "#2a3f5f"
            },
            "marker": {
             "line": {
              "color": "#E5ECF6",
              "width": 0.5
             },
             "pattern": {
              "fillmode": "overlay",
              "size": 10,
              "solidity": 0.2
             }
            },
            "type": "bar"
           }
          ],
          "barpolar": [
           {
            "marker": {
             "line": {
              "color": "#E5ECF6",
              "width": 0.5
             },
             "pattern": {
              "fillmode": "overlay",
              "size": 10,
              "solidity": 0.2
             }
            },
            "type": "barpolar"
           }
          ],
          "carpet": [
           {
            "aaxis": {
             "endlinecolor": "#2a3f5f",
             "gridcolor": "white",
             "linecolor": "white",
             "minorgridcolor": "white",
             "startlinecolor": "#2a3f5f"
            },
            "baxis": {
             "endlinecolor": "#2a3f5f",
             "gridcolor": "white",
             "linecolor": "white",
             "minorgridcolor": "white",
             "startlinecolor": "#2a3f5f"
            },
            "type": "carpet"
           }
          ],
          "choropleth": [
           {
            "colorbar": {
             "outlinewidth": 0,
             "ticks": ""
            },
            "type": "choropleth"
           }
          ],
          "contour": [
           {
            "colorbar": {
             "outlinewidth": 0,
             "ticks": ""
            },
            "colorscale": [
             [
              0,
              "#0d0887"
             ],
             [
              0.1111111111111111,
              "#46039f"
             ],
             [
              0.2222222222222222,
              "#7201a8"
             ],
             [
              0.3333333333333333,
              "#9c179e"
             ],
             [
              0.4444444444444444,
              "#bd3786"
             ],
             [
              0.5555555555555556,
              "#d8576b"
             ],
             [
              0.6666666666666666,
              "#ed7953"
             ],
             [
              0.7777777777777778,
              "#fb9f3a"
             ],
             [
              0.8888888888888888,
              "#fdca26"
             ],
             [
              1,
              "#f0f921"
             ]
            ],
            "type": "contour"
           }
          ],
          "contourcarpet": [
           {
            "colorbar": {
             "outlinewidth": 0,
             "ticks": ""
            },
            "type": "contourcarpet"
           }
          ],
          "heatmap": [
           {
            "colorbar": {
             "outlinewidth": 0,
             "ticks": ""
            },
            "colorscale": [
             [
              0,
              "#0d0887"
             ],
             [
              0.1111111111111111,
              "#46039f"
             ],
             [
              0.2222222222222222,
              "#7201a8"
             ],
             [
              0.3333333333333333,
              "#9c179e"
             ],
             [
              0.4444444444444444,
              "#bd3786"
             ],
             [
              0.5555555555555556,
              "#d8576b"
             ],
             [
              0.6666666666666666,
              "#ed7953"
             ],
             [
              0.7777777777777778,
              "#fb9f3a"
             ],
             [
              0.8888888888888888,
              "#fdca26"
             ],
             [
              1,
              "#f0f921"
             ]
            ],
            "type": "heatmap"
           }
          ],
          "heatmapgl": [
           {
            "colorbar": {
             "outlinewidth": 0,
             "ticks": ""
            },
            "colorscale": [
             [
              0,
              "#0d0887"
             ],
             [
              0.1111111111111111,
              "#46039f"
             ],
             [
              0.2222222222222222,
              "#7201a8"
             ],
             [
              0.3333333333333333,
              "#9c179e"
             ],
             [
              0.4444444444444444,
              "#bd3786"
             ],
             [
              0.5555555555555556,
              "#d8576b"
             ],
             [
              0.6666666666666666,
              "#ed7953"
             ],
             [
              0.7777777777777778,
              "#fb9f3a"
             ],
             [
              0.8888888888888888,
              "#fdca26"
             ],
             [
              1,
              "#f0f921"
             ]
            ],
            "type": "heatmapgl"
           }
          ],
          "histogram": [
           {
            "marker": {
             "pattern": {
              "fillmode": "overlay",
              "size": 10,
              "solidity": 0.2
             }
            },
            "type": "histogram"
           }
          ],
          "histogram2d": [
           {
            "colorbar": {
             "outlinewidth": 0,
             "ticks": ""
            },
            "colorscale": [
             [
              0,
              "#0d0887"
             ],
             [
              0.1111111111111111,
              "#46039f"
             ],
             [
              0.2222222222222222,
              "#7201a8"
             ],
             [
              0.3333333333333333,
              "#9c179e"
             ],
             [
              0.4444444444444444,
              "#bd3786"
             ],
             [
              0.5555555555555556,
              "#d8576b"
             ],
             [
              0.6666666666666666,
              "#ed7953"
             ],
             [
              0.7777777777777778,
              "#fb9f3a"
             ],
             [
              0.8888888888888888,
              "#fdca26"
             ],
             [
              1,
              "#f0f921"
             ]
            ],
            "type": "histogram2d"
           }
          ],
          "histogram2dcontour": [
           {
            "colorbar": {
             "outlinewidth": 0,
             "ticks": ""
            },
            "colorscale": [
             [
              0,
              "#0d0887"
             ],
             [
              0.1111111111111111,
              "#46039f"
             ],
             [
              0.2222222222222222,
              "#7201a8"
             ],
             [
              0.3333333333333333,
              "#9c179e"
             ],
             [
              0.4444444444444444,
              "#bd3786"
             ],
             [
              0.5555555555555556,
              "#d8576b"
             ],
             [
              0.6666666666666666,
              "#ed7953"
             ],
             [
              0.7777777777777778,
              "#fb9f3a"
             ],
             [
              0.8888888888888888,
              "#fdca26"
             ],
             [
              1,
              "#f0f921"
             ]
            ],
            "type": "histogram2dcontour"
           }
          ],
          "mesh3d": [
           {
            "colorbar": {
             "outlinewidth": 0,
             "ticks": ""
            },
            "type": "mesh3d"
           }
          ],
          "parcoords": [
           {
            "line": {
             "colorbar": {
              "outlinewidth": 0,
              "ticks": ""
             }
            },
            "type": "parcoords"
           }
          ],
          "pie": [
           {
            "automargin": true,
            "type": "pie"
           }
          ],
          "scatter": [
           {
            "fillpattern": {
             "fillmode": "overlay",
             "size": 10,
             "solidity": 0.2
            },
            "type": "scatter"
           }
          ],
          "scatter3d": [
           {
            "line": {
             "colorbar": {
              "outlinewidth": 0,
              "ticks": ""
             }
            },
            "marker": {
             "colorbar": {
              "outlinewidth": 0,
              "ticks": ""
             }
            },
            "type": "scatter3d"
           }
          ],
          "scattercarpet": [
           {
            "marker": {
             "colorbar": {
              "outlinewidth": 0,
              "ticks": ""
             }
            },
            "type": "scattercarpet"
           }
          ],
          "scattergeo": [
           {
            "marker": {
             "colorbar": {
              "outlinewidth": 0,
              "ticks": ""
             }
            },
            "type": "scattergeo"
           }
          ],
          "scattergl": [
           {
            "marker": {
             "colorbar": {
              "outlinewidth": 0,
              "ticks": ""
             }
            },
            "type": "scattergl"
           }
          ],
          "scattermapbox": [
           {
            "marker": {
             "colorbar": {
              "outlinewidth": 0,
              "ticks": ""
             }
            },
            "type": "scattermapbox"
           }
          ],
          "scatterpolar": [
           {
            "marker": {
             "colorbar": {
              "outlinewidth": 0,
              "ticks": ""
             }
            },
            "type": "scatterpolar"
           }
          ],
          "scatterpolargl": [
           {
            "marker": {
             "colorbar": {
              "outlinewidth": 0,
              "ticks": ""
             }
            },
            "type": "scatterpolargl"
           }
          ],
          "scatterternary": [
           {
            "marker": {
             "colorbar": {
              "outlinewidth": 0,
              "ticks": ""
             }
            },
            "type": "scatterternary"
           }
          ],
          "surface": [
           {
            "colorbar": {
             "outlinewidth": 0,
             "ticks": ""
            },
            "colorscale": [
             [
              0,
              "#0d0887"
             ],
             [
              0.1111111111111111,
              "#46039f"
             ],
             [
              0.2222222222222222,
              "#7201a8"
             ],
             [
              0.3333333333333333,
              "#9c179e"
             ],
             [
              0.4444444444444444,
              "#bd3786"
             ],
             [
              0.5555555555555556,
              "#d8576b"
             ],
             [
              0.6666666666666666,
              "#ed7953"
             ],
             [
              0.7777777777777778,
              "#fb9f3a"
             ],
             [
              0.8888888888888888,
              "#fdca26"
             ],
             [
              1,
              "#f0f921"
             ]
            ],
            "type": "surface"
           }
          ],
          "table": [
           {
            "cells": {
             "fill": {
              "color": "#EBF0F8"
             },
             "line": {
              "color": "white"
             }
            },
            "header": {
             "fill": {
              "color": "#C8D4E3"
             },
             "line": {
              "color": "white"
             }
            },
            "type": "table"
           }
          ]
         },
         "layout": {
          "annotationdefaults": {
           "arrowcolor": "#2a3f5f",
           "arrowhead": 0,
           "arrowwidth": 1
          },
          "autotypenumbers": "strict",
          "coloraxis": {
           "colorbar": {
            "outlinewidth": 0,
            "ticks": ""
           }
          },
          "colorscale": {
           "diverging": [
            [
             0,
             "#8e0152"
            ],
            [
             0.1,
             "#c51b7d"
            ],
            [
             0.2,
             "#de77ae"
            ],
            [
             0.3,
             "#f1b6da"
            ],
            [
             0.4,
             "#fde0ef"
            ],
            [
             0.5,
             "#f7f7f7"
            ],
            [
             0.6,
             "#e6f5d0"
            ],
            [
             0.7,
             "#b8e186"
            ],
            [
             0.8,
             "#7fbc41"
            ],
            [
             0.9,
             "#4d9221"
            ],
            [
             1,
             "#276419"
            ]
           ],
           "sequential": [
            [
             0,
             "#0d0887"
            ],
            [
             0.1111111111111111,
             "#46039f"
            ],
            [
             0.2222222222222222,
             "#7201a8"
            ],
            [
             0.3333333333333333,
             "#9c179e"
            ],
            [
             0.4444444444444444,
             "#bd3786"
            ],
            [
             0.5555555555555556,
             "#d8576b"
            ],
            [
             0.6666666666666666,
             "#ed7953"
            ],
            [
             0.7777777777777778,
             "#fb9f3a"
            ],
            [
             0.8888888888888888,
             "#fdca26"
            ],
            [
             1,
             "#f0f921"
            ]
           ],
           "sequentialminus": [
            [
             0,
             "#0d0887"
            ],
            [
             0.1111111111111111,
             "#46039f"
            ],
            [
             0.2222222222222222,
             "#7201a8"
            ],
            [
             0.3333333333333333,
             "#9c179e"
            ],
            [
             0.4444444444444444,
             "#bd3786"
            ],
            [
             0.5555555555555556,
             "#d8576b"
            ],
            [
             0.6666666666666666,
             "#ed7953"
            ],
            [
             0.7777777777777778,
             "#fb9f3a"
            ],
            [
             0.8888888888888888,
             "#fdca26"
            ],
            [
             1,
             "#f0f921"
            ]
           ]
          },
          "colorway": [
           "#636efa",
           "#EF553B",
           "#00cc96",
           "#ab63fa",
           "#FFA15A",
           "#19d3f3",
           "#FF6692",
           "#B6E880",
           "#FF97FF",
           "#FECB52"
          ],
          "font": {
           "color": "#2a3f5f"
          },
          "geo": {
           "bgcolor": "white",
           "lakecolor": "white",
           "landcolor": "#E5ECF6",
           "showlakes": true,
           "showland": true,
           "subunitcolor": "white"
          },
          "hoverlabel": {
           "align": "left"
          },
          "hovermode": "closest",
          "mapbox": {
           "style": "light"
          },
          "paper_bgcolor": "white",
          "plot_bgcolor": "#E5ECF6",
          "polar": {
           "angularaxis": {
            "gridcolor": "white",
            "linecolor": "white",
            "ticks": ""
           },
           "bgcolor": "#E5ECF6",
           "radialaxis": {
            "gridcolor": "white",
            "linecolor": "white",
            "ticks": ""
           }
          },
          "scene": {
           "xaxis": {
            "backgroundcolor": "#E5ECF6",
            "gridcolor": "white",
            "gridwidth": 2,
            "linecolor": "white",
            "showbackground": true,
            "ticks": "",
            "zerolinecolor": "white"
           },
           "yaxis": {
            "backgroundcolor": "#E5ECF6",
            "gridcolor": "white",
            "gridwidth": 2,
            "linecolor": "white",
            "showbackground": true,
            "ticks": "",
            "zerolinecolor": "white"
           },
           "zaxis": {
            "backgroundcolor": "#E5ECF6",
            "gridcolor": "white",
            "gridwidth": 2,
            "linecolor": "white",
            "showbackground": true,
            "ticks": "",
            "zerolinecolor": "white"
           }
          },
          "shapedefaults": {
           "line": {
            "color": "#2a3f5f"
           }
          },
          "ternary": {
           "aaxis": {
            "gridcolor": "white",
            "linecolor": "white",
            "ticks": ""
           },
           "baxis": {
            "gridcolor": "white",
            "linecolor": "white",
            "ticks": ""
           },
           "bgcolor": "#E5ECF6",
           "caxis": {
            "gridcolor": "white",
            "linecolor": "white",
            "ticks": ""
           }
          },
          "title": {
           "x": 0.05
          },
          "xaxis": {
           "automargin": true,
           "gridcolor": "white",
           "linecolor": "white",
           "ticks": "",
           "title": {
            "standoff": 15
           },
           "zerolinecolor": "white",
           "zerolinewidth": 2
          },
          "yaxis": {
           "automargin": true,
           "gridcolor": "white",
           "linecolor": "white",
           "ticks": "",
           "title": {
            "standoff": 15
           },
           "zerolinecolor": "white",
           "zerolinewidth": 2
          }
         }
        },
        "xaxis": {
         "anchor": "y",
         "domain": [
          0,
          1
         ],
         "title": {
          "text": "hospital_budget_pct"
         }
        },
        "yaxis": {
         "anchor": "x",
         "domain": [
          0,
          1
         ],
         "title": {
          "text": "suicide_rate"
         }
        }
       }
      }
     },
     "metadata": {},
     "output_type": "display_data"
    }
   ],
   "source": [
    "fig = px.scatter(df2016g[df2016g[\"hospital_budget_pct\"] < 5], x=\"hospital_budget_pct\", y=\"suicide_rate\", trendline=\"ols\", color=\"sex\")\n",
    "fig.show()"
   ]
  },
  {
   "attachments": {},
   "cell_type": "markdown",
   "metadata": {},
   "source": [
    "Well, we already knew what good all those mental hospitals are."
   ]
  },
  {
   "cell_type": "code",
   "execution_count": 21,
   "metadata": {},
   "outputs": [
    {
     "data": {
      "application/vnd.plotly.v1+json": {
       "config": {
        "plotlyServerURL": "https://plot.ly"
       },
       "data": [
        {
         "alignmentgroup": "True",
         "bingroup": "x",
         "histfunc": "avg",
         "hovertemplate": "standalone_law=%{x}<br>avg of suicide_rate=%{y}<extra></extra>",
         "legendgroup": "",
         "marker": {
          "color": "#636efa",
          "pattern": {
           "shape": ""
          }
         },
         "name": "",
         "offsetgroup": "",
         "orientation": "v",
         "showlegend": false,
         "type": "histogram",
         "x": [
          true,
          false,
          true,
          true,
          true,
          true,
          true,
          null,
          null,
          true,
          null,
          null,
          null,
          false,
          false,
          false,
          null,
          null,
          null,
          true,
          false,
          false,
          true,
          null,
          true,
          false,
          null,
          null,
          null,
          null,
          false,
          null,
          false,
          null,
          null,
          false,
          true,
          null,
          null,
          false,
          false,
          null,
          null,
          null,
          null,
          true,
          true,
          true,
          false,
          true,
          false,
          null,
          true,
          null,
          null,
          true,
          null,
          null,
          true,
          null,
          true,
          true,
          false,
          true,
          false,
          null,
          true,
          true,
          false,
          true,
          null,
          true,
          false,
          false,
          true,
          true,
          true,
          null,
          null,
          false,
          true,
          null,
          null,
          false,
          true,
          null,
          true,
          true,
          false,
          null,
          true,
          null,
          null,
          null,
          true,
          false,
          true,
          null,
          null,
          true,
          null,
          null,
          true,
          null,
          true,
          null,
          true,
          null,
          false,
          null,
          true,
          true,
          true,
          false,
          null,
          null,
          null,
          true,
          true,
          false,
          null,
          null,
          null,
          true,
          false,
          true,
          null,
          true,
          false,
          true,
          true,
          null,
          true,
          null,
          true,
          false,
          true,
          true,
          null,
          false,
          true,
          null,
          true,
          true,
          null,
          null,
          false,
          null,
          null,
          false,
          false,
          true,
          null,
          true,
          false,
          null,
          true,
          false,
          false,
          false,
          true,
          true,
          null,
          false,
          true,
          null,
          null,
          false,
          null,
          true,
          true,
          true,
          false,
          true,
          null,
          null,
          false,
          true,
          true,
          false,
          true,
          true,
          true
         ],
         "xaxis": "x",
         "y": [
          6.4,
          8.9,
          5.6,
          2.7,
          9.1,
          5.7,
          0.5,
          11.7,
          11.4,
          2.6,
          15,
          15.7,
          15.7,
          14.8,
          6.1,
          7.9,
          5.7,
          1.6,
          6.4,
          21.4,
          5.9,
          12.9,
          6.1,
          0.4,
          4.5,
          11.6,
          11.5,
          11.6,
          10.4,
          11.3,
          9.7,
          8,
          23,
          19.5,
          9.7,
          9.3,
          7,
          11.1,
          15.1,
          7.5,
          10.1,
          4.5,
          10.5,
          9.1,
          8.5,
          9.2,
          10.5,
          3.3,
          7.2,
          4.4,
          13.8,
          6.1,
          14.4,
          11.4,
          13.8,
          5.5,
          12.1,
          11.3,
          9.6,
          7.6,
          6.7,
          8.7,
          10.5,
          10,
          7.4,
          22,
          3.8,
          1.7,
          2.9,
          30.2,
          3.4,
          11.5,
          12.2,
          13.6,
          3.7,
          16.5,
          10.9,
          4,
          4.1,
          13.3,
          5.2,
          5.5,
          2,
          3.7,
          14.3,
          22.8,
          5.6,
          9.1,
          5.9,
          15.2,
          20.2,
          2.2,
          9.3,
          3.2,
          13.4,
          5.5,
          7.3,
          14.2,
          28.9,
          25.7,
          10.4,
          17.2,
          3.1,
          13.4,
          6.9,
          2.7,
          5.2,
          6.2,
          8.9,
          6.5,
          8.1,
          7.9,
          13.3,
          8.4,
          7.5,
          7.3,
          7.8,
          6.2,
          11.5,
          9,
          17.3,
          11.9,
          9.6,
          10.1,
          9.6,
          11.6,
          3.5,
          3.1,
          4.4,
          5.1,
          3.7,
          7,
          13.4,
          10.6,
          8.6,
          9.3,
          5.8,
          8,
          26.5,
          11,
          3.4,
          9.5,
          11.8,
          7.9,
          5.9,
          16.1,
          13.5,
          8.3,
          10.9,
          6.1,
          3.1,
          23.2,
          10.1,
          13.3,
          11.7,
          16.7,
          8.3,
          2.4,
          15.5,
          16.6,
          12.9,
          3.3,
          7.2,
          6.4,
          4,
          12.9,
          3.2,
          7.2,
          9.6,
          20,
          18.5,
          16.5,
          13.7,
          7.4,
          2.4,
          3.8,
          7,
          5.4,
          5.4,
          9.8,
          12.8,
          11.3,
          19.1
         ],
         "yaxis": "y"
        }
       ],
       "layout": {
        "barmode": "group",
        "legend": {
         "tracegroupgap": 0
        },
        "margin": {
         "t": 60
        },
        "template": {
         "data": {
          "bar": [
           {
            "error_x": {
             "color": "#2a3f5f"
            },
            "error_y": {
             "color": "#2a3f5f"
            },
            "marker": {
             "line": {
              "color": "#E5ECF6",
              "width": 0.5
             },
             "pattern": {
              "fillmode": "overlay",
              "size": 10,
              "solidity": 0.2
             }
            },
            "type": "bar"
           }
          ],
          "barpolar": [
           {
            "marker": {
             "line": {
              "color": "#E5ECF6",
              "width": 0.5
             },
             "pattern": {
              "fillmode": "overlay",
              "size": 10,
              "solidity": 0.2
             }
            },
            "type": "barpolar"
           }
          ],
          "carpet": [
           {
            "aaxis": {
             "endlinecolor": "#2a3f5f",
             "gridcolor": "white",
             "linecolor": "white",
             "minorgridcolor": "white",
             "startlinecolor": "#2a3f5f"
            },
            "baxis": {
             "endlinecolor": "#2a3f5f",
             "gridcolor": "white",
             "linecolor": "white",
             "minorgridcolor": "white",
             "startlinecolor": "#2a3f5f"
            },
            "type": "carpet"
           }
          ],
          "choropleth": [
           {
            "colorbar": {
             "outlinewidth": 0,
             "ticks": ""
            },
            "type": "choropleth"
           }
          ],
          "contour": [
           {
            "colorbar": {
             "outlinewidth": 0,
             "ticks": ""
            },
            "colorscale": [
             [
              0,
              "#0d0887"
             ],
             [
              0.1111111111111111,
              "#46039f"
             ],
             [
              0.2222222222222222,
              "#7201a8"
             ],
             [
              0.3333333333333333,
              "#9c179e"
             ],
             [
              0.4444444444444444,
              "#bd3786"
             ],
             [
              0.5555555555555556,
              "#d8576b"
             ],
             [
              0.6666666666666666,
              "#ed7953"
             ],
             [
              0.7777777777777778,
              "#fb9f3a"
             ],
             [
              0.8888888888888888,
              "#fdca26"
             ],
             [
              1,
              "#f0f921"
             ]
            ],
            "type": "contour"
           }
          ],
          "contourcarpet": [
           {
            "colorbar": {
             "outlinewidth": 0,
             "ticks": ""
            },
            "type": "contourcarpet"
           }
          ],
          "heatmap": [
           {
            "colorbar": {
             "outlinewidth": 0,
             "ticks": ""
            },
            "colorscale": [
             [
              0,
              "#0d0887"
             ],
             [
              0.1111111111111111,
              "#46039f"
             ],
             [
              0.2222222222222222,
              "#7201a8"
             ],
             [
              0.3333333333333333,
              "#9c179e"
             ],
             [
              0.4444444444444444,
              "#bd3786"
             ],
             [
              0.5555555555555556,
              "#d8576b"
             ],
             [
              0.6666666666666666,
              "#ed7953"
             ],
             [
              0.7777777777777778,
              "#fb9f3a"
             ],
             [
              0.8888888888888888,
              "#fdca26"
             ],
             [
              1,
              "#f0f921"
             ]
            ],
            "type": "heatmap"
           }
          ],
          "heatmapgl": [
           {
            "colorbar": {
             "outlinewidth": 0,
             "ticks": ""
            },
            "colorscale": [
             [
              0,
              "#0d0887"
             ],
             [
              0.1111111111111111,
              "#46039f"
             ],
             [
              0.2222222222222222,
              "#7201a8"
             ],
             [
              0.3333333333333333,
              "#9c179e"
             ],
             [
              0.4444444444444444,
              "#bd3786"
             ],
             [
              0.5555555555555556,
              "#d8576b"
             ],
             [
              0.6666666666666666,
              "#ed7953"
             ],
             [
              0.7777777777777778,
              "#fb9f3a"
             ],
             [
              0.8888888888888888,
              "#fdca26"
             ],
             [
              1,
              "#f0f921"
             ]
            ],
            "type": "heatmapgl"
           }
          ],
          "histogram": [
           {
            "marker": {
             "pattern": {
              "fillmode": "overlay",
              "size": 10,
              "solidity": 0.2
             }
            },
            "type": "histogram"
           }
          ],
          "histogram2d": [
           {
            "colorbar": {
             "outlinewidth": 0,
             "ticks": ""
            },
            "colorscale": [
             [
              0,
              "#0d0887"
             ],
             [
              0.1111111111111111,
              "#46039f"
             ],
             [
              0.2222222222222222,
              "#7201a8"
             ],
             [
              0.3333333333333333,
              "#9c179e"
             ],
             [
              0.4444444444444444,
              "#bd3786"
             ],
             [
              0.5555555555555556,
              "#d8576b"
             ],
             [
              0.6666666666666666,
              "#ed7953"
             ],
             [
              0.7777777777777778,
              "#fb9f3a"
             ],
             [
              0.8888888888888888,
              "#fdca26"
             ],
             [
              1,
              "#f0f921"
             ]
            ],
            "type": "histogram2d"
           }
          ],
          "histogram2dcontour": [
           {
            "colorbar": {
             "outlinewidth": 0,
             "ticks": ""
            },
            "colorscale": [
             [
              0,
              "#0d0887"
             ],
             [
              0.1111111111111111,
              "#46039f"
             ],
             [
              0.2222222222222222,
              "#7201a8"
             ],
             [
              0.3333333333333333,
              "#9c179e"
             ],
             [
              0.4444444444444444,
              "#bd3786"
             ],
             [
              0.5555555555555556,
              "#d8576b"
             ],
             [
              0.6666666666666666,
              "#ed7953"
             ],
             [
              0.7777777777777778,
              "#fb9f3a"
             ],
             [
              0.8888888888888888,
              "#fdca26"
             ],
             [
              1,
              "#f0f921"
             ]
            ],
            "type": "histogram2dcontour"
           }
          ],
          "mesh3d": [
           {
            "colorbar": {
             "outlinewidth": 0,
             "ticks": ""
            },
            "type": "mesh3d"
           }
          ],
          "parcoords": [
           {
            "line": {
             "colorbar": {
              "outlinewidth": 0,
              "ticks": ""
             }
            },
            "type": "parcoords"
           }
          ],
          "pie": [
           {
            "automargin": true,
            "type": "pie"
           }
          ],
          "scatter": [
           {
            "fillpattern": {
             "fillmode": "overlay",
             "size": 10,
             "solidity": 0.2
            },
            "type": "scatter"
           }
          ],
          "scatter3d": [
           {
            "line": {
             "colorbar": {
              "outlinewidth": 0,
              "ticks": ""
             }
            },
            "marker": {
             "colorbar": {
              "outlinewidth": 0,
              "ticks": ""
             }
            },
            "type": "scatter3d"
           }
          ],
          "scattercarpet": [
           {
            "marker": {
             "colorbar": {
              "outlinewidth": 0,
              "ticks": ""
             }
            },
            "type": "scattercarpet"
           }
          ],
          "scattergeo": [
           {
            "marker": {
             "colorbar": {
              "outlinewidth": 0,
              "ticks": ""
             }
            },
            "type": "scattergeo"
           }
          ],
          "scattergl": [
           {
            "marker": {
             "colorbar": {
              "outlinewidth": 0,
              "ticks": ""
             }
            },
            "type": "scattergl"
           }
          ],
          "scattermapbox": [
           {
            "marker": {
             "colorbar": {
              "outlinewidth": 0,
              "ticks": ""
             }
            },
            "type": "scattermapbox"
           }
          ],
          "scatterpolar": [
           {
            "marker": {
             "colorbar": {
              "outlinewidth": 0,
              "ticks": ""
             }
            },
            "type": "scatterpolar"
           }
          ],
          "scatterpolargl": [
           {
            "marker": {
             "colorbar": {
              "outlinewidth": 0,
              "ticks": ""
             }
            },
            "type": "scatterpolargl"
           }
          ],
          "scatterternary": [
           {
            "marker": {
             "colorbar": {
              "outlinewidth": 0,
              "ticks": ""
             }
            },
            "type": "scatterternary"
           }
          ],
          "surface": [
           {
            "colorbar": {
             "outlinewidth": 0,
             "ticks": ""
            },
            "colorscale": [
             [
              0,
              "#0d0887"
             ],
             [
              0.1111111111111111,
              "#46039f"
             ],
             [
              0.2222222222222222,
              "#7201a8"
             ],
             [
              0.3333333333333333,
              "#9c179e"
             ],
             [
              0.4444444444444444,
              "#bd3786"
             ],
             [
              0.5555555555555556,
              "#d8576b"
             ],
             [
              0.6666666666666666,
              "#ed7953"
             ],
             [
              0.7777777777777778,
              "#fb9f3a"
             ],
             [
              0.8888888888888888,
              "#fdca26"
             ],
             [
              1,
              "#f0f921"
             ]
            ],
            "type": "surface"
           }
          ],
          "table": [
           {
            "cells": {
             "fill": {
              "color": "#EBF0F8"
             },
             "line": {
              "color": "white"
             }
            },
            "header": {
             "fill": {
              "color": "#C8D4E3"
             },
             "line": {
              "color": "white"
             }
            },
            "type": "table"
           }
          ]
         },
         "layout": {
          "annotationdefaults": {
           "arrowcolor": "#2a3f5f",
           "arrowhead": 0,
           "arrowwidth": 1
          },
          "autotypenumbers": "strict",
          "coloraxis": {
           "colorbar": {
            "outlinewidth": 0,
            "ticks": ""
           }
          },
          "colorscale": {
           "diverging": [
            [
             0,
             "#8e0152"
            ],
            [
             0.1,
             "#c51b7d"
            ],
            [
             0.2,
             "#de77ae"
            ],
            [
             0.3,
             "#f1b6da"
            ],
            [
             0.4,
             "#fde0ef"
            ],
            [
             0.5,
             "#f7f7f7"
            ],
            [
             0.6,
             "#e6f5d0"
            ],
            [
             0.7,
             "#b8e186"
            ],
            [
             0.8,
             "#7fbc41"
            ],
            [
             0.9,
             "#4d9221"
            ],
            [
             1,
             "#276419"
            ]
           ],
           "sequential": [
            [
             0,
             "#0d0887"
            ],
            [
             0.1111111111111111,
             "#46039f"
            ],
            [
             0.2222222222222222,
             "#7201a8"
            ],
            [
             0.3333333333333333,
             "#9c179e"
            ],
            [
             0.4444444444444444,
             "#bd3786"
            ],
            [
             0.5555555555555556,
             "#d8576b"
            ],
            [
             0.6666666666666666,
             "#ed7953"
            ],
            [
             0.7777777777777778,
             "#fb9f3a"
            ],
            [
             0.8888888888888888,
             "#fdca26"
            ],
            [
             1,
             "#f0f921"
            ]
           ],
           "sequentialminus": [
            [
             0,
             "#0d0887"
            ],
            [
             0.1111111111111111,
             "#46039f"
            ],
            [
             0.2222222222222222,
             "#7201a8"
            ],
            [
             0.3333333333333333,
             "#9c179e"
            ],
            [
             0.4444444444444444,
             "#bd3786"
            ],
            [
             0.5555555555555556,
             "#d8576b"
            ],
            [
             0.6666666666666666,
             "#ed7953"
            ],
            [
             0.7777777777777778,
             "#fb9f3a"
            ],
            [
             0.8888888888888888,
             "#fdca26"
            ],
            [
             1,
             "#f0f921"
            ]
           ]
          },
          "colorway": [
           "#636efa",
           "#EF553B",
           "#00cc96",
           "#ab63fa",
           "#FFA15A",
           "#19d3f3",
           "#FF6692",
           "#B6E880",
           "#FF97FF",
           "#FECB52"
          ],
          "font": {
           "color": "#2a3f5f"
          },
          "geo": {
           "bgcolor": "white",
           "lakecolor": "white",
           "landcolor": "#E5ECF6",
           "showlakes": true,
           "showland": true,
           "subunitcolor": "white"
          },
          "hoverlabel": {
           "align": "left"
          },
          "hovermode": "closest",
          "mapbox": {
           "style": "light"
          },
          "paper_bgcolor": "white",
          "plot_bgcolor": "#E5ECF6",
          "polar": {
           "angularaxis": {
            "gridcolor": "white",
            "linecolor": "white",
            "ticks": ""
           },
           "bgcolor": "#E5ECF6",
           "radialaxis": {
            "gridcolor": "white",
            "linecolor": "white",
            "ticks": ""
           }
          },
          "scene": {
           "xaxis": {
            "backgroundcolor": "#E5ECF6",
            "gridcolor": "white",
            "gridwidth": 2,
            "linecolor": "white",
            "showbackground": true,
            "ticks": "",
            "zerolinecolor": "white"
           },
           "yaxis": {
            "backgroundcolor": "#E5ECF6",
            "gridcolor": "white",
            "gridwidth": 2,
            "linecolor": "white",
            "showbackground": true,
            "ticks": "",
            "zerolinecolor": "white"
           },
           "zaxis": {
            "backgroundcolor": "#E5ECF6",
            "gridcolor": "white",
            "gridwidth": 2,
            "linecolor": "white",
            "showbackground": true,
            "ticks": "",
            "zerolinecolor": "white"
           }
          },
          "shapedefaults": {
           "line": {
            "color": "#2a3f5f"
           }
          },
          "ternary": {
           "aaxis": {
            "gridcolor": "white",
            "linecolor": "white",
            "ticks": ""
           },
           "baxis": {
            "gridcolor": "white",
            "linecolor": "white",
            "ticks": ""
           },
           "bgcolor": "#E5ECF6",
           "caxis": {
            "gridcolor": "white",
            "linecolor": "white",
            "ticks": ""
           }
          },
          "title": {
           "x": 0.05
          },
          "xaxis": {
           "automargin": true,
           "gridcolor": "white",
           "linecolor": "white",
           "ticks": "",
           "title": {
            "standoff": 15
           },
           "zerolinecolor": "white",
           "zerolinewidth": 2
          },
          "yaxis": {
           "automargin": true,
           "gridcolor": "white",
           "linecolor": "white",
           "ticks": "",
           "title": {
            "standoff": 15
           },
           "zerolinecolor": "white",
           "zerolinewidth": 2
          }
         }
        },
        "xaxis": {
         "anchor": "y",
         "domain": [
          0,
          1
         ],
         "title": {
          "text": "standalone_law"
         }
        },
        "yaxis": {
         "anchor": "x",
         "domain": [
          0,
          1
         ],
         "title": {
          "text": "avg of suicide_rate"
         }
        }
       }
      }
     },
     "metadata": {},
     "output_type": "display_data"
    }
   ],
   "source": [
    "fig = px.histogram(df2016, x=\"standalone_law\", y=\"suicide_rate\", barmode=\"group\", histfunc=\"avg\")\n",
    "fig.show()"
   ]
  },
  {
   "attachments": {},
   "cell_type": "markdown",
   "metadata": {},
   "source": [
    "Uhhhh."
   ]
  },
  {
   "cell_type": "code",
   "execution_count": 22,
   "metadata": {},
   "outputs": [
    {
     "data": {
      "application/vnd.plotly.v1+json": {
       "config": {
        "plotlyServerURL": "https://plot.ly"
       },
       "data": [
        {
         "alignmentgroup": "True",
         "bingroup": "x",
         "histfunc": "avg",
         "hovertemplate": "standalone_policy=%{x}<br>avg of suicide_rate=%{y}<extra></extra>",
         "legendgroup": "",
         "marker": {
          "color": "#636efa",
          "pattern": {
           "shape": ""
          }
         },
         "name": "",
         "offsetgroup": "",
         "orientation": "v",
         "showlegend": false,
         "type": "histogram",
         "x": [
          true,
          false,
          true,
          true,
          true,
          true,
          true,
          null,
          null,
          true,
          null,
          null,
          null,
          true,
          false,
          false,
          null,
          null,
          null,
          true,
          true,
          true,
          true,
          null,
          false,
          true,
          null,
          null,
          null,
          null,
          true,
          null,
          true,
          null,
          null,
          true,
          true,
          null,
          null,
          true,
          false,
          null,
          null,
          null,
          null,
          true,
          true,
          false,
          true,
          true,
          true,
          null,
          true,
          null,
          null,
          true,
          null,
          null,
          true,
          null,
          true,
          true,
          true,
          true,
          false,
          null,
          true,
          false,
          null,
          true,
          null,
          true,
          true,
          false,
          true,
          true,
          true,
          null,
          null,
          true,
          true,
          null,
          null,
          true,
          true,
          null,
          true,
          true,
          true,
          null,
          true,
          null,
          null,
          null,
          true,
          false,
          false,
          null,
          null,
          true,
          null,
          null,
          true,
          null,
          true,
          null,
          true,
          null,
          false,
          null,
          true,
          true,
          false,
          true,
          null,
          null,
          null,
          true,
          false,
          true,
          null,
          null,
          null,
          true,
          true,
          true,
          null,
          false,
          true,
          true,
          true,
          null,
          true,
          null,
          true,
          true,
          true,
          true,
          null,
          true,
          true,
          null,
          true,
          true,
          null,
          null,
          true,
          null,
          null,
          false,
          true,
          true,
          null,
          false,
          true,
          null,
          false,
          true,
          true,
          true,
          true,
          false,
          null,
          true,
          true,
          null,
          null,
          true,
          null,
          true,
          false,
          true,
          true,
          true,
          null,
          null,
          false,
          true,
          true,
          false,
          true,
          true,
          true
         ],
         "xaxis": "x",
         "y": [
          6.4,
          8.9,
          5.6,
          2.7,
          9.1,
          5.7,
          0.5,
          11.7,
          11.4,
          2.6,
          15,
          15.7,
          15.7,
          14.8,
          6.1,
          7.9,
          5.7,
          1.6,
          6.4,
          21.4,
          5.9,
          12.9,
          6.1,
          0.4,
          4.5,
          11.6,
          11.5,
          11.6,
          10.4,
          11.3,
          9.7,
          8,
          23,
          19.5,
          9.7,
          9.3,
          7,
          11.1,
          15.1,
          7.5,
          10.1,
          4.5,
          10.5,
          9.1,
          8.5,
          9.2,
          10.5,
          3.3,
          7.2,
          4.4,
          13.8,
          6.1,
          14.4,
          11.4,
          13.8,
          5.5,
          12.1,
          11.3,
          9.6,
          7.6,
          6.7,
          8.7,
          10.5,
          10,
          7.4,
          22,
          3.8,
          1.7,
          2.9,
          30.2,
          3.4,
          11.5,
          12.2,
          13.6,
          3.7,
          16.5,
          10.9,
          4,
          4.1,
          13.3,
          5.2,
          5.5,
          2,
          3.7,
          14.3,
          22.8,
          5.6,
          9.1,
          5.9,
          15.2,
          20.2,
          2.2,
          9.3,
          3.2,
          13.4,
          5.5,
          7.3,
          14.2,
          28.9,
          25.7,
          10.4,
          17.2,
          3.1,
          13.4,
          6.9,
          2.7,
          5.2,
          6.2,
          8.9,
          6.5,
          8.1,
          7.9,
          13.3,
          8.4,
          7.5,
          7.3,
          7.8,
          6.2,
          11.5,
          9,
          17.3,
          11.9,
          9.6,
          10.1,
          9.6,
          11.6,
          3.5,
          3.1,
          4.4,
          5.1,
          3.7,
          7,
          13.4,
          10.6,
          8.6,
          9.3,
          5.8,
          8,
          26.5,
          11,
          3.4,
          9.5,
          11.8,
          7.9,
          5.9,
          16.1,
          13.5,
          8.3,
          10.9,
          6.1,
          3.1,
          23.2,
          10.1,
          13.3,
          11.7,
          16.7,
          8.3,
          2.4,
          15.5,
          16.6,
          12.9,
          3.3,
          7.2,
          6.4,
          4,
          12.9,
          3.2,
          7.2,
          9.6,
          20,
          18.5,
          16.5,
          13.7,
          7.4,
          2.4,
          3.8,
          7,
          5.4,
          5.4,
          9.8,
          12.8,
          11.3,
          19.1
         ],
         "yaxis": "y"
        }
       ],
       "layout": {
        "barmode": "group",
        "legend": {
         "tracegroupgap": 0
        },
        "margin": {
         "t": 60
        },
        "template": {
         "data": {
          "bar": [
           {
            "error_x": {
             "color": "#2a3f5f"
            },
            "error_y": {
             "color": "#2a3f5f"
            },
            "marker": {
             "line": {
              "color": "#E5ECF6",
              "width": 0.5
             },
             "pattern": {
              "fillmode": "overlay",
              "size": 10,
              "solidity": 0.2
             }
            },
            "type": "bar"
           }
          ],
          "barpolar": [
           {
            "marker": {
             "line": {
              "color": "#E5ECF6",
              "width": 0.5
             },
             "pattern": {
              "fillmode": "overlay",
              "size": 10,
              "solidity": 0.2
             }
            },
            "type": "barpolar"
           }
          ],
          "carpet": [
           {
            "aaxis": {
             "endlinecolor": "#2a3f5f",
             "gridcolor": "white",
             "linecolor": "white",
             "minorgridcolor": "white",
             "startlinecolor": "#2a3f5f"
            },
            "baxis": {
             "endlinecolor": "#2a3f5f",
             "gridcolor": "white",
             "linecolor": "white",
             "minorgridcolor": "white",
             "startlinecolor": "#2a3f5f"
            },
            "type": "carpet"
           }
          ],
          "choropleth": [
           {
            "colorbar": {
             "outlinewidth": 0,
             "ticks": ""
            },
            "type": "choropleth"
           }
          ],
          "contour": [
           {
            "colorbar": {
             "outlinewidth": 0,
             "ticks": ""
            },
            "colorscale": [
             [
              0,
              "#0d0887"
             ],
             [
              0.1111111111111111,
              "#46039f"
             ],
             [
              0.2222222222222222,
              "#7201a8"
             ],
             [
              0.3333333333333333,
              "#9c179e"
             ],
             [
              0.4444444444444444,
              "#bd3786"
             ],
             [
              0.5555555555555556,
              "#d8576b"
             ],
             [
              0.6666666666666666,
              "#ed7953"
             ],
             [
              0.7777777777777778,
              "#fb9f3a"
             ],
             [
              0.8888888888888888,
              "#fdca26"
             ],
             [
              1,
              "#f0f921"
             ]
            ],
            "type": "contour"
           }
          ],
          "contourcarpet": [
           {
            "colorbar": {
             "outlinewidth": 0,
             "ticks": ""
            },
            "type": "contourcarpet"
           }
          ],
          "heatmap": [
           {
            "colorbar": {
             "outlinewidth": 0,
             "ticks": ""
            },
            "colorscale": [
             [
              0,
              "#0d0887"
             ],
             [
              0.1111111111111111,
              "#46039f"
             ],
             [
              0.2222222222222222,
              "#7201a8"
             ],
             [
              0.3333333333333333,
              "#9c179e"
             ],
             [
              0.4444444444444444,
              "#bd3786"
             ],
             [
              0.5555555555555556,
              "#d8576b"
             ],
             [
              0.6666666666666666,
              "#ed7953"
             ],
             [
              0.7777777777777778,
              "#fb9f3a"
             ],
             [
              0.8888888888888888,
              "#fdca26"
             ],
             [
              1,
              "#f0f921"
             ]
            ],
            "type": "heatmap"
           }
          ],
          "heatmapgl": [
           {
            "colorbar": {
             "outlinewidth": 0,
             "ticks": ""
            },
            "colorscale": [
             [
              0,
              "#0d0887"
             ],
             [
              0.1111111111111111,
              "#46039f"
             ],
             [
              0.2222222222222222,
              "#7201a8"
             ],
             [
              0.3333333333333333,
              "#9c179e"
             ],
             [
              0.4444444444444444,
              "#bd3786"
             ],
             [
              0.5555555555555556,
              "#d8576b"
             ],
             [
              0.6666666666666666,
              "#ed7953"
             ],
             [
              0.7777777777777778,
              "#fb9f3a"
             ],
             [
              0.8888888888888888,
              "#fdca26"
             ],
             [
              1,
              "#f0f921"
             ]
            ],
            "type": "heatmapgl"
           }
          ],
          "histogram": [
           {
            "marker": {
             "pattern": {
              "fillmode": "overlay",
              "size": 10,
              "solidity": 0.2
             }
            },
            "type": "histogram"
           }
          ],
          "histogram2d": [
           {
            "colorbar": {
             "outlinewidth": 0,
             "ticks": ""
            },
            "colorscale": [
             [
              0,
              "#0d0887"
             ],
             [
              0.1111111111111111,
              "#46039f"
             ],
             [
              0.2222222222222222,
              "#7201a8"
             ],
             [
              0.3333333333333333,
              "#9c179e"
             ],
             [
              0.4444444444444444,
              "#bd3786"
             ],
             [
              0.5555555555555556,
              "#d8576b"
             ],
             [
              0.6666666666666666,
              "#ed7953"
             ],
             [
              0.7777777777777778,
              "#fb9f3a"
             ],
             [
              0.8888888888888888,
              "#fdca26"
             ],
             [
              1,
              "#f0f921"
             ]
            ],
            "type": "histogram2d"
           }
          ],
          "histogram2dcontour": [
           {
            "colorbar": {
             "outlinewidth": 0,
             "ticks": ""
            },
            "colorscale": [
             [
              0,
              "#0d0887"
             ],
             [
              0.1111111111111111,
              "#46039f"
             ],
             [
              0.2222222222222222,
              "#7201a8"
             ],
             [
              0.3333333333333333,
              "#9c179e"
             ],
             [
              0.4444444444444444,
              "#bd3786"
             ],
             [
              0.5555555555555556,
              "#d8576b"
             ],
             [
              0.6666666666666666,
              "#ed7953"
             ],
             [
              0.7777777777777778,
              "#fb9f3a"
             ],
             [
              0.8888888888888888,
              "#fdca26"
             ],
             [
              1,
              "#f0f921"
             ]
            ],
            "type": "histogram2dcontour"
           }
          ],
          "mesh3d": [
           {
            "colorbar": {
             "outlinewidth": 0,
             "ticks": ""
            },
            "type": "mesh3d"
           }
          ],
          "parcoords": [
           {
            "line": {
             "colorbar": {
              "outlinewidth": 0,
              "ticks": ""
             }
            },
            "type": "parcoords"
           }
          ],
          "pie": [
           {
            "automargin": true,
            "type": "pie"
           }
          ],
          "scatter": [
           {
            "fillpattern": {
             "fillmode": "overlay",
             "size": 10,
             "solidity": 0.2
            },
            "type": "scatter"
           }
          ],
          "scatter3d": [
           {
            "line": {
             "colorbar": {
              "outlinewidth": 0,
              "ticks": ""
             }
            },
            "marker": {
             "colorbar": {
              "outlinewidth": 0,
              "ticks": ""
             }
            },
            "type": "scatter3d"
           }
          ],
          "scattercarpet": [
           {
            "marker": {
             "colorbar": {
              "outlinewidth": 0,
              "ticks": ""
             }
            },
            "type": "scattercarpet"
           }
          ],
          "scattergeo": [
           {
            "marker": {
             "colorbar": {
              "outlinewidth": 0,
              "ticks": ""
             }
            },
            "type": "scattergeo"
           }
          ],
          "scattergl": [
           {
            "marker": {
             "colorbar": {
              "outlinewidth": 0,
              "ticks": ""
             }
            },
            "type": "scattergl"
           }
          ],
          "scattermapbox": [
           {
            "marker": {
             "colorbar": {
              "outlinewidth": 0,
              "ticks": ""
             }
            },
            "type": "scattermapbox"
           }
          ],
          "scatterpolar": [
           {
            "marker": {
             "colorbar": {
              "outlinewidth": 0,
              "ticks": ""
             }
            },
            "type": "scatterpolar"
           }
          ],
          "scatterpolargl": [
           {
            "marker": {
             "colorbar": {
              "outlinewidth": 0,
              "ticks": ""
             }
            },
            "type": "scatterpolargl"
           }
          ],
          "scatterternary": [
           {
            "marker": {
             "colorbar": {
              "outlinewidth": 0,
              "ticks": ""
             }
            },
            "type": "scatterternary"
           }
          ],
          "surface": [
           {
            "colorbar": {
             "outlinewidth": 0,
             "ticks": ""
            },
            "colorscale": [
             [
              0,
              "#0d0887"
             ],
             [
              0.1111111111111111,
              "#46039f"
             ],
             [
              0.2222222222222222,
              "#7201a8"
             ],
             [
              0.3333333333333333,
              "#9c179e"
             ],
             [
              0.4444444444444444,
              "#bd3786"
             ],
             [
              0.5555555555555556,
              "#d8576b"
             ],
             [
              0.6666666666666666,
              "#ed7953"
             ],
             [
              0.7777777777777778,
              "#fb9f3a"
             ],
             [
              0.8888888888888888,
              "#fdca26"
             ],
             [
              1,
              "#f0f921"
             ]
            ],
            "type": "surface"
           }
          ],
          "table": [
           {
            "cells": {
             "fill": {
              "color": "#EBF0F8"
             },
             "line": {
              "color": "white"
             }
            },
            "header": {
             "fill": {
              "color": "#C8D4E3"
             },
             "line": {
              "color": "white"
             }
            },
            "type": "table"
           }
          ]
         },
         "layout": {
          "annotationdefaults": {
           "arrowcolor": "#2a3f5f",
           "arrowhead": 0,
           "arrowwidth": 1
          },
          "autotypenumbers": "strict",
          "coloraxis": {
           "colorbar": {
            "outlinewidth": 0,
            "ticks": ""
           }
          },
          "colorscale": {
           "diverging": [
            [
             0,
             "#8e0152"
            ],
            [
             0.1,
             "#c51b7d"
            ],
            [
             0.2,
             "#de77ae"
            ],
            [
             0.3,
             "#f1b6da"
            ],
            [
             0.4,
             "#fde0ef"
            ],
            [
             0.5,
             "#f7f7f7"
            ],
            [
             0.6,
             "#e6f5d0"
            ],
            [
             0.7,
             "#b8e186"
            ],
            [
             0.8,
             "#7fbc41"
            ],
            [
             0.9,
             "#4d9221"
            ],
            [
             1,
             "#276419"
            ]
           ],
           "sequential": [
            [
             0,
             "#0d0887"
            ],
            [
             0.1111111111111111,
             "#46039f"
            ],
            [
             0.2222222222222222,
             "#7201a8"
            ],
            [
             0.3333333333333333,
             "#9c179e"
            ],
            [
             0.4444444444444444,
             "#bd3786"
            ],
            [
             0.5555555555555556,
             "#d8576b"
            ],
            [
             0.6666666666666666,
             "#ed7953"
            ],
            [
             0.7777777777777778,
             "#fb9f3a"
            ],
            [
             0.8888888888888888,
             "#fdca26"
            ],
            [
             1,
             "#f0f921"
            ]
           ],
           "sequentialminus": [
            [
             0,
             "#0d0887"
            ],
            [
             0.1111111111111111,
             "#46039f"
            ],
            [
             0.2222222222222222,
             "#7201a8"
            ],
            [
             0.3333333333333333,
             "#9c179e"
            ],
            [
             0.4444444444444444,
             "#bd3786"
            ],
            [
             0.5555555555555556,
             "#d8576b"
            ],
            [
             0.6666666666666666,
             "#ed7953"
            ],
            [
             0.7777777777777778,
             "#fb9f3a"
            ],
            [
             0.8888888888888888,
             "#fdca26"
            ],
            [
             1,
             "#f0f921"
            ]
           ]
          },
          "colorway": [
           "#636efa",
           "#EF553B",
           "#00cc96",
           "#ab63fa",
           "#FFA15A",
           "#19d3f3",
           "#FF6692",
           "#B6E880",
           "#FF97FF",
           "#FECB52"
          ],
          "font": {
           "color": "#2a3f5f"
          },
          "geo": {
           "bgcolor": "white",
           "lakecolor": "white",
           "landcolor": "#E5ECF6",
           "showlakes": true,
           "showland": true,
           "subunitcolor": "white"
          },
          "hoverlabel": {
           "align": "left"
          },
          "hovermode": "closest",
          "mapbox": {
           "style": "light"
          },
          "paper_bgcolor": "white",
          "plot_bgcolor": "#E5ECF6",
          "polar": {
           "angularaxis": {
            "gridcolor": "white",
            "linecolor": "white",
            "ticks": ""
           },
           "bgcolor": "#E5ECF6",
           "radialaxis": {
            "gridcolor": "white",
            "linecolor": "white",
            "ticks": ""
           }
          },
          "scene": {
           "xaxis": {
            "backgroundcolor": "#E5ECF6",
            "gridcolor": "white",
            "gridwidth": 2,
            "linecolor": "white",
            "showbackground": true,
            "ticks": "",
            "zerolinecolor": "white"
           },
           "yaxis": {
            "backgroundcolor": "#E5ECF6",
            "gridcolor": "white",
            "gridwidth": 2,
            "linecolor": "white",
            "showbackground": true,
            "ticks": "",
            "zerolinecolor": "white"
           },
           "zaxis": {
            "backgroundcolor": "#E5ECF6",
            "gridcolor": "white",
            "gridwidth": 2,
            "linecolor": "white",
            "showbackground": true,
            "ticks": "",
            "zerolinecolor": "white"
           }
          },
          "shapedefaults": {
           "line": {
            "color": "#2a3f5f"
           }
          },
          "ternary": {
           "aaxis": {
            "gridcolor": "white",
            "linecolor": "white",
            "ticks": ""
           },
           "baxis": {
            "gridcolor": "white",
            "linecolor": "white",
            "ticks": ""
           },
           "bgcolor": "#E5ECF6",
           "caxis": {
            "gridcolor": "white",
            "linecolor": "white",
            "ticks": ""
           }
          },
          "title": {
           "x": 0.05
          },
          "xaxis": {
           "automargin": true,
           "gridcolor": "white",
           "linecolor": "white",
           "ticks": "",
           "title": {
            "standoff": 15
           },
           "zerolinecolor": "white",
           "zerolinewidth": 2
          },
          "yaxis": {
           "automargin": true,
           "gridcolor": "white",
           "linecolor": "white",
           "ticks": "",
           "title": {
            "standoff": 15
           },
           "zerolinecolor": "white",
           "zerolinewidth": 2
          }
         }
        },
        "xaxis": {
         "anchor": "y",
         "domain": [
          0,
          1
         ],
         "title": {
          "text": "standalone_policy"
         }
        },
        "yaxis": {
         "anchor": "x",
         "domain": [
          0,
          1
         ],
         "title": {
          "text": "avg of suicide_rate"
         }
        }
       }
      }
     },
     "metadata": {},
     "output_type": "display_data"
    }
   ],
   "source": [
    "fig = px.histogram(df2016, x=\"standalone_policy\", y=\"suicide_rate\", barmode=\"group\", histfunc=\"avg\")\n",
    "fig.show()"
   ]
  },
  {
   "attachments": {},
   "cell_type": "markdown",
   "metadata": {},
   "source": [
    "Oh, look, having a plan makes it worse. Again, or those are the countries that need it. Remember that this whole document could have the wrong idea.\n",
    "\n",
    "## Conclusion\n",
    "If you're considering suicide, talk to a professional. It's the only thing that does anything."
   ]
  }
 ],
 "metadata": {
  "kernelspec": {
   "display_name": "Python 3",
   "language": "python",
   "name": "python3"
  },
  "language_info": {
   "codemirror_mode": {
    "name": "ipython",
    "version": 3
   },
   "file_extension": ".py",
   "mimetype": "text/x-python",
   "name": "python",
   "nbconvert_exporter": "python",
   "pygments_lexer": "ipython3",
   "version": "3.9.13"
  },
  "orig_nbformat": 4,
  "vscode": {
   "interpreter": {
    "hash": "8764a732b9e5a873f12ddbae88d673f01c4c506b1c07ff20557a0bb93d8dd48f"
   }
  }
 },
 "nbformat": 4,
 "nbformat_minor": 2
}
